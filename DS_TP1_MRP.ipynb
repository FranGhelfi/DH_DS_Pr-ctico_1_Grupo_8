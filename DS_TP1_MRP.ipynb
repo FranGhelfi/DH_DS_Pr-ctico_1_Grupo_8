{
  "nbformat": 4,
  "nbformat_minor": 0,
  "metadata": {
    "colab": {
      "name": "DS TP1 MRP.ipynb",
      "provenance": [],
      "collapsed_sections": [
        "_eIDjOaNHOy-",
        "iCZivc5sxZuI",
        "4mvCAbWF_y58",
        "4ZmIhluQAOzA",
        "ehJX0XnAXAmk"
      ],
      "include_colab_link": true
    },
    "kernelspec": {
      "name": "python3",
      "display_name": "Python 3"
    }
  },
  "cells": [
    {
      "cell_type": "markdown",
      "metadata": {
        "id": "view-in-github",
        "colab_type": "text"
      },
      "source": [
        "<a href=\"https://colab.research.google.com/github/FranGhelfi/DH_DS_Pr-ctico_1_Grupo_8/blob/main/DS_TP1_MRP.ipynb\" target=\"_parent\"><img src=\"https://colab.research.google.com/assets/colab-badge.svg\" alt=\"Open In Colab\"/></a>"
      ]
    },
    {
      "cell_type": "markdown",
      "metadata": {
        "id": "ar9lB02C2cGb"
      },
      "source": [
        "# Importamos librerías"
      ]
    },
    {
      "cell_type": "code",
      "metadata": {
        "id": "YiRGkqJvGHtV"
      },
      "source": [
        "import pandas as pd\n",
        "import numpy as np\n",
        "import seaborn as sns\n",
        "import re\n",
        "import matplotlib.pyplot as plt\n",
        "import folium"
      ],
      "execution_count": null,
      "outputs": []
    },
    {
      "cell_type": "markdown",
      "metadata": {
        "id": "x-APD__32oB6"
      },
      "source": [
        "Code to read csv file into Colaboratory:"
      ]
    },
    {
      "cell_type": "code",
      "metadata": {
        "id": "KgcPXCdrGPLt"
      },
      "source": [
        "!pip install -U -q PyDrive\n",
        "from pydrive.auth import GoogleAuth\n",
        "from pydrive.drive import GoogleDrive\n",
        "from google.colab import auth\n",
        "from oauth2client.client import GoogleCredentials\n",
        "\n",
        "# Authenticate and create the PyDrive client.\n",
        "auth.authenticate_user()\n",
        "gauth = GoogleAuth()\n",
        "gauth.credentials = GoogleCredentials.get_application_default()\n",
        "drive = GoogleDrive(gauth)"
      ],
      "execution_count": null,
      "outputs": []
    },
    {
      "cell_type": "code",
      "metadata": {
        "id": "1zSgQ0Y0Gd6V"
      },
      "source": [
        "link = 'https://drive.google.com/open?id=1WnQOD6bK1MWk7GwrP7hiRfhgJ3YYXakM'\n",
        "fluff, id = link.split('=')\n",
        "\n",
        "downloaded = drive.CreateFile({'id':id}) \n",
        "downloaded.GetContentFile('properati.csv')  \n",
        "data_original = pd.read_csv('properati.csv')\n",
        "# Dataset is now stored in a Pandas Dataframe"
      ],
      "execution_count": null,
      "outputs": []
    },
    {
      "cell_type": "markdown",
      "metadata": {
        "id": "_eIDjOaNHOy-"
      },
      "source": [
        "# Exploración de datos\n",
        "\n",
        "---\n",
        "Nuestro DataFrame es data_original, con el .csv en bruto\n",
        "\n"
      ]
    },
    {
      "cell_type": "markdown",
      "metadata": {
        "id": "wOgTZYmk2vmu"
      },
      "source": [
        "Para ver el tamaño en filas y columnas de nuestra base de datos en bruto"
      ]
    },
    {
      "cell_type": "code",
      "metadata": {
        "id": "Et_hlwKLHnCw",
        "outputId": "9329a4e3-fcdb-42a5-b9f8-e50703c0adc6",
        "colab": {
          "base_uri": "https://localhost:8080/",
          "height": 34
        }
      },
      "source": [
        "data_original.shape"
      ],
      "execution_count": null,
      "outputs": [
        {
          "output_type": "execute_result",
          "data": {
            "text/plain": [
              "(121220, 26)"
            ]
          },
          "metadata": {
            "tags": []
          },
          "execution_count": 5
        }
      ]
    },
    {
      "cell_type": "markdown",
      "metadata": {
        "id": "FsPCDkti20OE"
      },
      "source": [
        "Analizamos las diferentes columnas en una tabla, incluyendo tipos, cantidad de nulos, porcentaje de nulos y cantida de value_counts"
      ]
    },
    {
      "cell_type": "code",
      "metadata": {
        "id": "B-IWBlbhH0aH",
        "outputId": "dd55e013-eefc-4eb7-c5ba-7b1314d62a76",
        "colab": {
          "base_uri": "https://localhost:8080/",
          "height": 864
        }
      },
      "source": [
        "tabla_inicial = data_original.dtypes\n",
        "tabla_inicial = pd.concat([tabla_inicial, (data_original.isna().sum() / data_original.shape[0])], axis=1, sort=False)\n",
        "tabla_inicial = tabla_inicial.rename(columns={0: 'Type', 1: 'Null %'})\n",
        "tabla_inicial = pd.concat([tabla_inicial, data_original.isna().sum()], axis=1, sort=False)\n",
        "tabla_inicial = tabla_inicial.rename(columns={0: 'Null count'})\n",
        "for x in tabla_inicial.index:\n",
        "  tabla_inicial.loc[tabla_inicial.index.str.contains(x), 'Value counts'] = data_original[x].value_counts().count().astype(int)\n",
        "\n",
        "stat_describe = data_original.describe().transpose()\n",
        "for x in stat_describe.columns:\n",
        "  stat_describe[x] = stat_describe[x].apply(lambda x: '%.0f' % x)\n",
        "\n",
        "tabla_inicial = pd.concat([tabla_inicial, stat_describe], axis=1, sort=False)\n",
        "\n",
        "tabla_inicial.sort_values('std')"
      ],
      "execution_count": null,
      "outputs": [
        {
          "output_type": "execute_result",
          "data": {
            "text/html": [
              "<div>\n",
              "<style scoped>\n",
              "    .dataframe tbody tr th:only-of-type {\n",
              "        vertical-align: middle;\n",
              "    }\n",
              "\n",
              "    .dataframe tbody tr th {\n",
              "        vertical-align: top;\n",
              "    }\n",
              "\n",
              "    .dataframe thead th {\n",
              "        text-align: right;\n",
              "    }\n",
              "</style>\n",
              "<table border=\"1\" class=\"dataframe\">\n",
              "  <thead>\n",
              "    <tr style=\"text-align: right;\">\n",
              "      <th></th>\n",
              "      <th>Type</th>\n",
              "      <th>Null %</th>\n",
              "      <th>Null count</th>\n",
              "      <th>Value counts</th>\n",
              "      <th>count</th>\n",
              "      <th>mean</th>\n",
              "      <th>std</th>\n",
              "      <th>min</th>\n",
              "      <th>25%</th>\n",
              "      <th>50%</th>\n",
              "      <th>75%</th>\n",
              "      <th>max</th>\n",
              "    </tr>\n",
              "  </thead>\n",
              "  <tbody>\n",
              "    <tr>\n",
              "      <th>floor</th>\n",
              "      <td>float64</td>\n",
              "      <td>0.934837</td>\n",
              "      <td>113321</td>\n",
              "      <td>182.0</td>\n",
              "      <td>7899</td>\n",
              "      <td>17</td>\n",
              "      <td>120</td>\n",
              "      <td>1</td>\n",
              "      <td>1</td>\n",
              "      <td>3</td>\n",
              "      <td>6</td>\n",
              "      <td>3150</td>\n",
              "    </tr>\n",
              "    <tr>\n",
              "      <th>expenses</th>\n",
              "      <td>float64</td>\n",
              "      <td>0.882346</td>\n",
              "      <td>106958</td>\n",
              "      <td>982.0</td>\n",
              "      <td>14262</td>\n",
              "      <td>5009</td>\n",
              "      <td>120440</td>\n",
              "      <td>1</td>\n",
              "      <td>1000</td>\n",
              "      <td>2000</td>\n",
              "      <td>4000</td>\n",
              "      <td>10001500</td>\n",
              "    </tr>\n",
              "    <tr>\n",
              "      <th>surface_total_in_m2</th>\n",
              "      <td>float64</td>\n",
              "      <td>0.324435</td>\n",
              "      <td>39328</td>\n",
              "      <td>1687.0</td>\n",
              "      <td>81892</td>\n",
              "      <td>234</td>\n",
              "      <td>1782</td>\n",
              "      <td>0</td>\n",
              "      <td>50</td>\n",
              "      <td>84</td>\n",
              "      <td>200</td>\n",
              "      <td>200000</td>\n",
              "    </tr>\n",
              "    <tr>\n",
              "      <th>lat</th>\n",
              "      <td>float64</td>\n",
              "      <td>0.425260</td>\n",
              "      <td>51550</td>\n",
              "      <td>46495.0</td>\n",
              "      <td>69670</td>\n",
              "      <td>-35</td>\n",
              "      <td>2</td>\n",
              "      <td>-55</td>\n",
              "      <td>-35</td>\n",
              "      <td>-35</td>\n",
              "      <td>-34</td>\n",
              "      <td>5</td>\n",
              "    </tr>\n",
              "    <tr>\n",
              "      <th>lon</th>\n",
              "      <td>float64</td>\n",
              "      <td>0.425260</td>\n",
              "      <td>51550</td>\n",
              "      <td>46522.0</td>\n",
              "      <td>69670</td>\n",
              "      <td>-59</td>\n",
              "      <td>2</td>\n",
              "      <td>-76</td>\n",
              "      <td>-59</td>\n",
              "      <td>-58</td>\n",
              "      <td>-58</td>\n",
              "      <td>-54</td>\n",
              "    </tr>\n",
              "    <tr>\n",
              "      <th>rooms</th>\n",
              "      <td>float64</td>\n",
              "      <td>0.609058</td>\n",
              "      <td>73830</td>\n",
              "      <td>31.0</td>\n",
              "      <td>47390</td>\n",
              "      <td>3</td>\n",
              "      <td>2</td>\n",
              "      <td>1</td>\n",
              "      <td>2</td>\n",
              "      <td>3</td>\n",
              "      <td>4</td>\n",
              "      <td>32</td>\n",
              "    </tr>\n",
              "    <tr>\n",
              "      <th>price</th>\n",
              "      <td>float64</td>\n",
              "      <td>0.168372</td>\n",
              "      <td>20410</td>\n",
              "      <td>9746.0</td>\n",
              "      <td>100810</td>\n",
              "      <td>468526</td>\n",
              "      <td>2260101</td>\n",
              "      <td>0</td>\n",
              "      <td>110000</td>\n",
              "      <td>185000</td>\n",
              "      <td>420000</td>\n",
              "      <td>650000000</td>\n",
              "    </tr>\n",
              "    <tr>\n",
              "      <th>price_usd_per_m2</th>\n",
              "      <td>float64</td>\n",
              "      <td>0.433947</td>\n",
              "      <td>52603</td>\n",
              "      <td>25567.0</td>\n",
              "      <td>68617</td>\n",
              "      <td>2160</td>\n",
              "      <td>2759</td>\n",
              "      <td>1</td>\n",
              "      <td>1218</td>\n",
              "      <td>1800</td>\n",
              "      <td>2486</td>\n",
              "      <td>206333</td>\n",
              "    </tr>\n",
              "    <tr>\n",
              "      <th>price_per_m2</th>\n",
              "      <td>float64</td>\n",
              "      <td>0.276869</td>\n",
              "      <td>33562</td>\n",
              "      <td>25185.0</td>\n",
              "      <td>87658</td>\n",
              "      <td>6912</td>\n",
              "      <td>28379</td>\n",
              "      <td>2</td>\n",
              "      <td>1550</td>\n",
              "      <td>2213</td>\n",
              "      <td>3356</td>\n",
              "      <td>4000000</td>\n",
              "    </tr>\n",
              "    <tr>\n",
              "      <th>Unnamed: 0</th>\n",
              "      <td>int64</td>\n",
              "      <td>0.000000</td>\n",
              "      <td>0</td>\n",
              "      <td>121220.0</td>\n",
              "      <td>121220</td>\n",
              "      <td>60610</td>\n",
              "      <td>34993</td>\n",
              "      <td>0</td>\n",
              "      <td>30305</td>\n",
              "      <td>60610</td>\n",
              "      <td>90914</td>\n",
              "      <td>121219</td>\n",
              "    </tr>\n",
              "    <tr>\n",
              "      <th>geonames_id</th>\n",
              "      <td>float64</td>\n",
              "      <td>0.154405</td>\n",
              "      <td>18717</td>\n",
              "      <td>646.0</td>\n",
              "      <td>102503</td>\n",
              "      <td>3574442</td>\n",
              "      <td>354131</td>\n",
              "      <td>3427208</td>\n",
              "      <td>3430234</td>\n",
              "      <td>3433910</td>\n",
              "      <td>3836668</td>\n",
              "      <td>6948895</td>\n",
              "    </tr>\n",
              "    <tr>\n",
              "      <th>price_aprox_usd</th>\n",
              "      <td>float64</td>\n",
              "      <td>0.168372</td>\n",
              "      <td>20410</td>\n",
              "      <td>10364.0</td>\n",
              "      <td>100810</td>\n",
              "      <td>239701</td>\n",
              "      <td>391324</td>\n",
              "      <td>0</td>\n",
              "      <td>89734</td>\n",
              "      <td>145000</td>\n",
              "      <td>265000</td>\n",
              "      <td>46545445</td>\n",
              "    </tr>\n",
              "    <tr>\n",
              "      <th>price_aprox_local_currency</th>\n",
              "      <td>float64</td>\n",
              "      <td>0.168372</td>\n",
              "      <td>20410</td>\n",
              "      <td>10364.0</td>\n",
              "      <td>100810</td>\n",
              "      <td>4229397</td>\n",
              "      <td>6904714</td>\n",
              "      <td>0</td>\n",
              "      <td>1583309</td>\n",
              "      <td>2558452</td>\n",
              "      <td>4675792</td>\n",
              "      <td>821271104</td>\n",
              "    </tr>\n",
              "    <tr>\n",
              "      <th>surface_covered_in_m2</th>\n",
              "      <td>float64</td>\n",
              "      <td>0.164222</td>\n",
              "      <td>19907</td>\n",
              "      <td>995.0</td>\n",
              "      <td>101313</td>\n",
              "      <td>133</td>\n",
              "      <td>724</td>\n",
              "      <td>0</td>\n",
              "      <td>45</td>\n",
              "      <td>75</td>\n",
              "      <td>150</td>\n",
              "      <td>187000</td>\n",
              "    </tr>\n",
              "    <tr>\n",
              "      <th>operation</th>\n",
              "      <td>object</td>\n",
              "      <td>0.000000</td>\n",
              "      <td>0</td>\n",
              "      <td>1.0</td>\n",
              "      <td>NaN</td>\n",
              "      <td>NaN</td>\n",
              "      <td>NaN</td>\n",
              "      <td>NaN</td>\n",
              "      <td>NaN</td>\n",
              "      <td>NaN</td>\n",
              "      <td>NaN</td>\n",
              "      <td>NaN</td>\n",
              "    </tr>\n",
              "    <tr>\n",
              "      <th>property_type</th>\n",
              "      <td>object</td>\n",
              "      <td>0.000000</td>\n",
              "      <td>0</td>\n",
              "      <td>4.0</td>\n",
              "      <td>NaN</td>\n",
              "      <td>NaN</td>\n",
              "      <td>NaN</td>\n",
              "      <td>NaN</td>\n",
              "      <td>NaN</td>\n",
              "      <td>NaN</td>\n",
              "      <td>NaN</td>\n",
              "      <td>NaN</td>\n",
              "    </tr>\n",
              "    <tr>\n",
              "      <th>place_name</th>\n",
              "      <td>object</td>\n",
              "      <td>0.000190</td>\n",
              "      <td>23</td>\n",
              "      <td>1060.0</td>\n",
              "      <td>NaN</td>\n",
              "      <td>NaN</td>\n",
              "      <td>NaN</td>\n",
              "      <td>NaN</td>\n",
              "      <td>NaN</td>\n",
              "      <td>NaN</td>\n",
              "      <td>NaN</td>\n",
              "      <td>NaN</td>\n",
              "    </tr>\n",
              "    <tr>\n",
              "      <th>place_with_parent_names</th>\n",
              "      <td>object</td>\n",
              "      <td>0.000000</td>\n",
              "      <td>0</td>\n",
              "      <td>1164.0</td>\n",
              "      <td>NaN</td>\n",
              "      <td>NaN</td>\n",
              "      <td>NaN</td>\n",
              "      <td>NaN</td>\n",
              "      <td>NaN</td>\n",
              "      <td>NaN</td>\n",
              "      <td>NaN</td>\n",
              "      <td>NaN</td>\n",
              "    </tr>\n",
              "    <tr>\n",
              "      <th>country_name</th>\n",
              "      <td>object</td>\n",
              "      <td>0.000000</td>\n",
              "      <td>0</td>\n",
              "      <td>1.0</td>\n",
              "      <td>NaN</td>\n",
              "      <td>NaN</td>\n",
              "      <td>NaN</td>\n",
              "      <td>NaN</td>\n",
              "      <td>NaN</td>\n",
              "      <td>NaN</td>\n",
              "      <td>NaN</td>\n",
              "      <td>NaN</td>\n",
              "    </tr>\n",
              "    <tr>\n",
              "      <th>state_name</th>\n",
              "      <td>object</td>\n",
              "      <td>0.000000</td>\n",
              "      <td>0</td>\n",
              "      <td>28.0</td>\n",
              "      <td>NaN</td>\n",
              "      <td>NaN</td>\n",
              "      <td>NaN</td>\n",
              "      <td>NaN</td>\n",
              "      <td>NaN</td>\n",
              "      <td>NaN</td>\n",
              "      <td>NaN</td>\n",
              "      <td>NaN</td>\n",
              "    </tr>\n",
              "    <tr>\n",
              "      <th>lat-lon</th>\n",
              "      <td>object</td>\n",
              "      <td>0.425260</td>\n",
              "      <td>51550</td>\n",
              "      <td>46522.0</td>\n",
              "      <td>NaN</td>\n",
              "      <td>NaN</td>\n",
              "      <td>NaN</td>\n",
              "      <td>NaN</td>\n",
              "      <td>NaN</td>\n",
              "      <td>NaN</td>\n",
              "      <td>NaN</td>\n",
              "      <td>NaN</td>\n",
              "    </tr>\n",
              "    <tr>\n",
              "      <th>currency</th>\n",
              "      <td>object</td>\n",
              "      <td>0.168380</td>\n",
              "      <td>20411</td>\n",
              "      <td>4.0</td>\n",
              "      <td>NaN</td>\n",
              "      <td>NaN</td>\n",
              "      <td>NaN</td>\n",
              "      <td>NaN</td>\n",
              "      <td>NaN</td>\n",
              "      <td>NaN</td>\n",
              "      <td>NaN</td>\n",
              "      <td>NaN</td>\n",
              "    </tr>\n",
              "    <tr>\n",
              "      <th>properati_url</th>\n",
              "      <td>object</td>\n",
              "      <td>0.000000</td>\n",
              "      <td>0</td>\n",
              "      <td>121220.0</td>\n",
              "      <td>NaN</td>\n",
              "      <td>NaN</td>\n",
              "      <td>NaN</td>\n",
              "      <td>NaN</td>\n",
              "      <td>NaN</td>\n",
              "      <td>NaN</td>\n",
              "      <td>NaN</td>\n",
              "      <td>NaN</td>\n",
              "    </tr>\n",
              "    <tr>\n",
              "      <th>description</th>\n",
              "      <td>object</td>\n",
              "      <td>0.000016</td>\n",
              "      <td>2</td>\n",
              "      <td>104055.0</td>\n",
              "      <td>NaN</td>\n",
              "      <td>NaN</td>\n",
              "      <td>NaN</td>\n",
              "      <td>NaN</td>\n",
              "      <td>NaN</td>\n",
              "      <td>NaN</td>\n",
              "      <td>NaN</td>\n",
              "      <td>NaN</td>\n",
              "    </tr>\n",
              "    <tr>\n",
              "      <th>title</th>\n",
              "      <td>object</td>\n",
              "      <td>0.000000</td>\n",
              "      <td>0</td>\n",
              "      <td>72705.0</td>\n",
              "      <td>NaN</td>\n",
              "      <td>NaN</td>\n",
              "      <td>NaN</td>\n",
              "      <td>NaN</td>\n",
              "      <td>NaN</td>\n",
              "      <td>NaN</td>\n",
              "      <td>NaN</td>\n",
              "      <td>NaN</td>\n",
              "    </tr>\n",
              "    <tr>\n",
              "      <th>image_thumbnail</th>\n",
              "      <td>object</td>\n",
              "      <td>0.025672</td>\n",
              "      <td>3112</td>\n",
              "      <td>114389.0</td>\n",
              "      <td>NaN</td>\n",
              "      <td>NaN</td>\n",
              "      <td>NaN</td>\n",
              "      <td>NaN</td>\n",
              "      <td>NaN</td>\n",
              "      <td>NaN</td>\n",
              "      <td>NaN</td>\n",
              "      <td>NaN</td>\n",
              "    </tr>\n",
              "  </tbody>\n",
              "</table>\n",
              "</div>"
            ],
            "text/plain": [
              "                               Type    Null %  ...      75%        max\n",
              "floor                       float64  0.934837  ...        6       3150\n",
              "expenses                    float64  0.882346  ...     4000   10001500\n",
              "surface_total_in_m2         float64  0.324435  ...      200     200000\n",
              "lat                         float64  0.425260  ...      -34          5\n",
              "lon                         float64  0.425260  ...      -58        -54\n",
              "rooms                       float64  0.609058  ...        4         32\n",
              "price                       float64  0.168372  ...   420000  650000000\n",
              "price_usd_per_m2            float64  0.433947  ...     2486     206333\n",
              "price_per_m2                float64  0.276869  ...     3356    4000000\n",
              "Unnamed: 0                    int64  0.000000  ...    90914     121219\n",
              "geonames_id                 float64  0.154405  ...  3836668    6948895\n",
              "price_aprox_usd             float64  0.168372  ...   265000   46545445\n",
              "price_aprox_local_currency  float64  0.168372  ...  4675792  821271104\n",
              "surface_covered_in_m2       float64  0.164222  ...      150     187000\n",
              "operation                    object  0.000000  ...      NaN        NaN\n",
              "property_type                object  0.000000  ...      NaN        NaN\n",
              "place_name                   object  0.000190  ...      NaN        NaN\n",
              "place_with_parent_names      object  0.000000  ...      NaN        NaN\n",
              "country_name                 object  0.000000  ...      NaN        NaN\n",
              "state_name                   object  0.000000  ...      NaN        NaN\n",
              "lat-lon                      object  0.425260  ...      NaN        NaN\n",
              "currency                     object  0.168380  ...      NaN        NaN\n",
              "properati_url                object  0.000000  ...      NaN        NaN\n",
              "description                  object  0.000016  ...      NaN        NaN\n",
              "title                        object  0.000000  ...      NaN        NaN\n",
              "image_thumbnail              object  0.025672  ...      NaN        NaN\n",
              "\n",
              "[26 rows x 12 columns]"
            ]
          },
          "metadata": {
            "tags": []
          },
          "execution_count": 6
        }
      ]
    },
    {
      "cell_type": "markdown",
      "metadata": {
        "id": "kh-9BUT83SsO"
      },
      "source": [
        "Vemos una generalidad de los datos con los primeros 5 registros"
      ]
    },
    {
      "cell_type": "code",
      "metadata": {
        "id": "M-aMiCZZOAa4",
        "outputId": "1657c1d4-714f-48b4-f44d-e02319c4451a",
        "colab": {
          "base_uri": "https://localhost:8080/",
          "height": 484
        }
      },
      "source": [
        "data_original.head(5)"
      ],
      "execution_count": null,
      "outputs": [
        {
          "output_type": "execute_result",
          "data": {
            "text/html": [
              "<div>\n",
              "<style scoped>\n",
              "    .dataframe tbody tr th:only-of-type {\n",
              "        vertical-align: middle;\n",
              "    }\n",
              "\n",
              "    .dataframe tbody tr th {\n",
              "        vertical-align: top;\n",
              "    }\n",
              "\n",
              "    .dataframe thead th {\n",
              "        text-align: right;\n",
              "    }\n",
              "</style>\n",
              "<table border=\"1\" class=\"dataframe\">\n",
              "  <thead>\n",
              "    <tr style=\"text-align: right;\">\n",
              "      <th></th>\n",
              "      <th>Unnamed: 0</th>\n",
              "      <th>operation</th>\n",
              "      <th>property_type</th>\n",
              "      <th>place_name</th>\n",
              "      <th>place_with_parent_names</th>\n",
              "      <th>country_name</th>\n",
              "      <th>state_name</th>\n",
              "      <th>geonames_id</th>\n",
              "      <th>lat-lon</th>\n",
              "      <th>lat</th>\n",
              "      <th>lon</th>\n",
              "      <th>price</th>\n",
              "      <th>currency</th>\n",
              "      <th>price_aprox_local_currency</th>\n",
              "      <th>price_aprox_usd</th>\n",
              "      <th>surface_total_in_m2</th>\n",
              "      <th>surface_covered_in_m2</th>\n",
              "      <th>price_usd_per_m2</th>\n",
              "      <th>price_per_m2</th>\n",
              "      <th>floor</th>\n",
              "      <th>rooms</th>\n",
              "      <th>expenses</th>\n",
              "      <th>properati_url</th>\n",
              "      <th>description</th>\n",
              "      <th>title</th>\n",
              "      <th>image_thumbnail</th>\n",
              "    </tr>\n",
              "  </thead>\n",
              "  <tbody>\n",
              "    <tr>\n",
              "      <th>0</th>\n",
              "      <td>0</td>\n",
              "      <td>sell</td>\n",
              "      <td>PH</td>\n",
              "      <td>Mataderos</td>\n",
              "      <td>|Argentina|Capital Federal|Mataderos|</td>\n",
              "      <td>Argentina</td>\n",
              "      <td>Capital Federal</td>\n",
              "      <td>3430787.0</td>\n",
              "      <td>-34.6618237,-58.5088387</td>\n",
              "      <td>-34.661824</td>\n",
              "      <td>-58.508839</td>\n",
              "      <td>62000.0</td>\n",
              "      <td>USD</td>\n",
              "      <td>1093959.0</td>\n",
              "      <td>62000.0</td>\n",
              "      <td>55.0</td>\n",
              "      <td>40.0</td>\n",
              "      <td>1127.272727</td>\n",
              "      <td>1550.000000</td>\n",
              "      <td>NaN</td>\n",
              "      <td>NaN</td>\n",
              "      <td>NaN</td>\n",
              "      <td>http://www.properati.com.ar/15bo8_venta_ph_mat...</td>\n",
              "      <td>2 AMBIENTES TIPO CASA PLANTA BAJA POR PASILLO,...</td>\n",
              "      <td>2 AMB TIPO CASA SIN EXPENSAS EN PB</td>\n",
              "      <td>https://thumbs4.properati.com/8/BluUYiHJLhgIIK...</td>\n",
              "    </tr>\n",
              "    <tr>\n",
              "      <th>1</th>\n",
              "      <td>1</td>\n",
              "      <td>sell</td>\n",
              "      <td>apartment</td>\n",
              "      <td>La Plata</td>\n",
              "      <td>|Argentina|Bs.As. G.B.A. Zona Sur|La Plata|</td>\n",
              "      <td>Argentina</td>\n",
              "      <td>Bs.As. G.B.A. Zona Sur</td>\n",
              "      <td>3432039.0</td>\n",
              "      <td>-34.9038831,-57.9643295</td>\n",
              "      <td>-34.903883</td>\n",
              "      <td>-57.964330</td>\n",
              "      <td>150000.0</td>\n",
              "      <td>USD</td>\n",
              "      <td>2646675.0</td>\n",
              "      <td>150000.0</td>\n",
              "      <td>NaN</td>\n",
              "      <td>NaN</td>\n",
              "      <td>NaN</td>\n",
              "      <td>NaN</td>\n",
              "      <td>NaN</td>\n",
              "      <td>NaN</td>\n",
              "      <td>NaN</td>\n",
              "      <td>http://www.properati.com.ar/15bob_venta_depart...</td>\n",
              "      <td>Venta de departamento en décimo piso al frente...</td>\n",
              "      <td>VENTA Depto 2 dorm. a estrenar 7 e/ 36 y 37   ...</td>\n",
              "      <td>https://thumbs4.properati.com/7/ikpVBu2ztHA7jv...</td>\n",
              "    </tr>\n",
              "    <tr>\n",
              "      <th>2</th>\n",
              "      <td>2</td>\n",
              "      <td>sell</td>\n",
              "      <td>apartment</td>\n",
              "      <td>Mataderos</td>\n",
              "      <td>|Argentina|Capital Federal|Mataderos|</td>\n",
              "      <td>Argentina</td>\n",
              "      <td>Capital Federal</td>\n",
              "      <td>3430787.0</td>\n",
              "      <td>-34.6522615,-58.5229825</td>\n",
              "      <td>-34.652262</td>\n",
              "      <td>-58.522982</td>\n",
              "      <td>72000.0</td>\n",
              "      <td>USD</td>\n",
              "      <td>1270404.0</td>\n",
              "      <td>72000.0</td>\n",
              "      <td>55.0</td>\n",
              "      <td>55.0</td>\n",
              "      <td>1309.090909</td>\n",
              "      <td>1309.090909</td>\n",
              "      <td>NaN</td>\n",
              "      <td>NaN</td>\n",
              "      <td>NaN</td>\n",
              "      <td>http://www.properati.com.ar/15bod_venta_depart...</td>\n",
              "      <td>2 AMBIENTES 3ER PISO LATERAL LIVING COMEDOR AM...</td>\n",
              "      <td>2 AMB 3ER PISO CON ASCENSOR APTO CREDITO</td>\n",
              "      <td>https://thumbs4.properati.com/5/SXKr34F_IwG3W_...</td>\n",
              "    </tr>\n",
              "    <tr>\n",
              "      <th>3</th>\n",
              "      <td>3</td>\n",
              "      <td>sell</td>\n",
              "      <td>PH</td>\n",
              "      <td>Liniers</td>\n",
              "      <td>|Argentina|Capital Federal|Liniers|</td>\n",
              "      <td>Argentina</td>\n",
              "      <td>Capital Federal</td>\n",
              "      <td>3431333.0</td>\n",
              "      <td>-34.6477969,-58.5164244</td>\n",
              "      <td>-34.647797</td>\n",
              "      <td>-58.516424</td>\n",
              "      <td>95000.0</td>\n",
              "      <td>USD</td>\n",
              "      <td>1676227.5</td>\n",
              "      <td>95000.0</td>\n",
              "      <td>NaN</td>\n",
              "      <td>NaN</td>\n",
              "      <td>NaN</td>\n",
              "      <td>NaN</td>\n",
              "      <td>NaN</td>\n",
              "      <td>NaN</td>\n",
              "      <td>NaN</td>\n",
              "      <td>http://www.properati.com.ar/15boh_venta_ph_lin...</td>\n",
              "      <td>PH 3 ambientes con patio. Hay 3 deptos en lote...</td>\n",
              "      <td>PH 3 amb. cfte. reciclado</td>\n",
              "      <td>https://thumbs4.properati.com/3/DgIfX-85Mog5SP...</td>\n",
              "    </tr>\n",
              "    <tr>\n",
              "      <th>4</th>\n",
              "      <td>4</td>\n",
              "      <td>sell</td>\n",
              "      <td>apartment</td>\n",
              "      <td>Centro</td>\n",
              "      <td>|Argentina|Buenos Aires Costa Atlántica|Mar de...</td>\n",
              "      <td>Argentina</td>\n",
              "      <td>Buenos Aires Costa Atlántica</td>\n",
              "      <td>3435548.0</td>\n",
              "      <td>-38.0026256,-57.5494468</td>\n",
              "      <td>-38.002626</td>\n",
              "      <td>-57.549447</td>\n",
              "      <td>64000.0</td>\n",
              "      <td>USD</td>\n",
              "      <td>1129248.0</td>\n",
              "      <td>64000.0</td>\n",
              "      <td>35.0</td>\n",
              "      <td>35.0</td>\n",
              "      <td>1828.571429</td>\n",
              "      <td>1828.571429</td>\n",
              "      <td>NaN</td>\n",
              "      <td>NaN</td>\n",
              "      <td>NaN</td>\n",
              "      <td>http://www.properati.com.ar/15bok_venta_depart...</td>\n",
              "      <td>DEPARTAMENTO CON FANTÁSTICA ILUMINACIÓN NATURA...</td>\n",
              "      <td>DEPTO 2 AMB AL CONTRAFRENTE ZONA CENTRO/PLAZA ...</td>\n",
              "      <td>https://thumbs4.properati.com/5/xrRqlNcSI_vs-f...</td>\n",
              "    </tr>\n",
              "  </tbody>\n",
              "</table>\n",
              "</div>"
            ],
            "text/plain": [
              "   Unnamed: 0  ...                                    image_thumbnail\n",
              "0           0  ...  https://thumbs4.properati.com/8/BluUYiHJLhgIIK...\n",
              "1           1  ...  https://thumbs4.properati.com/7/ikpVBu2ztHA7jv...\n",
              "2           2  ...  https://thumbs4.properati.com/5/SXKr34F_IwG3W_...\n",
              "3           3  ...  https://thumbs4.properati.com/3/DgIfX-85Mog5SP...\n",
              "4           4  ...  https://thumbs4.properati.com/5/xrRqlNcSI_vs-f...\n",
              "\n",
              "[5 rows x 26 columns]"
            ]
          },
          "metadata": {
            "tags": []
          },
          "execution_count": 7
        }
      ]
    },
    {
      "cell_type": "markdown",
      "metadata": {
        "id": "njk6dmiY3X_M"
      },
      "source": [
        "Podemos hacer lo mismo, pero tomar 5 filas al azar"
      ]
    },
    {
      "cell_type": "code",
      "metadata": {
        "id": "GNx2gTdAQWCb",
        "outputId": "4b509950-2ae9-49b5-c5f1-22a600120e8b",
        "colab": {
          "base_uri": "https://localhost:8080/",
          "height": 484
        }
      },
      "source": [
        "data_original.sample(5)"
      ],
      "execution_count": null,
      "outputs": [
        {
          "output_type": "execute_result",
          "data": {
            "text/html": [
              "<div>\n",
              "<style scoped>\n",
              "    .dataframe tbody tr th:only-of-type {\n",
              "        vertical-align: middle;\n",
              "    }\n",
              "\n",
              "    .dataframe tbody tr th {\n",
              "        vertical-align: top;\n",
              "    }\n",
              "\n",
              "    .dataframe thead th {\n",
              "        text-align: right;\n",
              "    }\n",
              "</style>\n",
              "<table border=\"1\" class=\"dataframe\">\n",
              "  <thead>\n",
              "    <tr style=\"text-align: right;\">\n",
              "      <th></th>\n",
              "      <th>Unnamed: 0</th>\n",
              "      <th>operation</th>\n",
              "      <th>property_type</th>\n",
              "      <th>place_name</th>\n",
              "      <th>place_with_parent_names</th>\n",
              "      <th>country_name</th>\n",
              "      <th>state_name</th>\n",
              "      <th>geonames_id</th>\n",
              "      <th>lat-lon</th>\n",
              "      <th>lat</th>\n",
              "      <th>lon</th>\n",
              "      <th>price</th>\n",
              "      <th>currency</th>\n",
              "      <th>price_aprox_local_currency</th>\n",
              "      <th>price_aprox_usd</th>\n",
              "      <th>surface_total_in_m2</th>\n",
              "      <th>surface_covered_in_m2</th>\n",
              "      <th>price_usd_per_m2</th>\n",
              "      <th>price_per_m2</th>\n",
              "      <th>floor</th>\n",
              "      <th>rooms</th>\n",
              "      <th>expenses</th>\n",
              "      <th>properati_url</th>\n",
              "      <th>description</th>\n",
              "      <th>title</th>\n",
              "      <th>image_thumbnail</th>\n",
              "    </tr>\n",
              "  </thead>\n",
              "  <tbody>\n",
              "    <tr>\n",
              "      <th>99346</th>\n",
              "      <td>99346</td>\n",
              "      <td>sell</td>\n",
              "      <td>apartment</td>\n",
              "      <td>Rosario</td>\n",
              "      <td>|Argentina|Santa Fe|Rosario|</td>\n",
              "      <td>Argentina</td>\n",
              "      <td>Santa Fe</td>\n",
              "      <td>3838574.0</td>\n",
              "      <td>NaN</td>\n",
              "      <td>NaN</td>\n",
              "      <td>NaN</td>\n",
              "      <td>1400000.0</td>\n",
              "      <td>ARS</td>\n",
              "      <td>1385395.67</td>\n",
              "      <td>78517.14</td>\n",
              "      <td>53.0</td>\n",
              "      <td>47.0</td>\n",
              "      <td>1481.455472</td>\n",
              "      <td>29787.234043</td>\n",
              "      <td>NaN</td>\n",
              "      <td>NaN</td>\n",
              "      <td>NaN</td>\n",
              "      <td>http://www.properati.com.ar/1bmjf_venta_depart...</td>\n",
              "      <td>Sergio Villella Inmobiliaria presenta departam...</td>\n",
              "      <td>Paraguay 2200 - Venta departamento un dormitorio</td>\n",
              "      <td>https://thumbs4.properati.com/3/6A0msOOojIR_4f...</td>\n",
              "    </tr>\n",
              "    <tr>\n",
              "      <th>118215</th>\n",
              "      <td>118215</td>\n",
              "      <td>sell</td>\n",
              "      <td>apartment</td>\n",
              "      <td>Palermo</td>\n",
              "      <td>|Argentina|Capital Federal|Palermo|</td>\n",
              "      <td>Argentina</td>\n",
              "      <td>Capital Federal</td>\n",
              "      <td>3430234.0</td>\n",
              "      <td>NaN</td>\n",
              "      <td>NaN</td>\n",
              "      <td>NaN</td>\n",
              "      <td>NaN</td>\n",
              "      <td>NaN</td>\n",
              "      <td>NaN</td>\n",
              "      <td>NaN</td>\n",
              "      <td>62.0</td>\n",
              "      <td>53.0</td>\n",
              "      <td>NaN</td>\n",
              "      <td>NaN</td>\n",
              "      <td>NaN</td>\n",
              "      <td>NaN</td>\n",
              "      <td>NaN</td>\n",
              "      <td>http://www.properati.com.ar/1cei2_venta_depart...</td>\n",
              "      <td>Una esquina soñada frente a Plaza Guadalupe.Un...</td>\n",
              "      <td>Departamento - Palermo</td>\n",
              "      <td>https://thumbs4.properati.com/5/AaYDgZFWQaxBJT...</td>\n",
              "    </tr>\n",
              "    <tr>\n",
              "      <th>79906</th>\n",
              "      <td>79906</td>\n",
              "      <td>sell</td>\n",
              "      <td>apartment</td>\n",
              "      <td>Nordelta</td>\n",
              "      <td>|Argentina|Bs.As. G.B.A. Zona Norte|Tigre|Nord...</td>\n",
              "      <td>Argentina</td>\n",
              "      <td>Bs.As. G.B.A. Zona Norte</td>\n",
              "      <td>NaN</td>\n",
              "      <td>NaN</td>\n",
              "      <td>NaN</td>\n",
              "      <td>NaN</td>\n",
              "      <td>3457000.0</td>\n",
              "      <td>ARS</td>\n",
              "      <td>3459058.30</td>\n",
              "      <td>196041.73</td>\n",
              "      <td>120.0</td>\n",
              "      <td>87.0</td>\n",
              "      <td>1633.681083</td>\n",
              "      <td>39735.632184</td>\n",
              "      <td>NaN</td>\n",
              "      <td>NaN</td>\n",
              "      <td>NaN</td>\n",
              "      <td>http://www.properati.com.ar/1aw5u_venta_depart...</td>\n",
              "      <td>Es un proyecto único por su ubicación, calidad...</td>\n",
              "      <td>Departamento en Los Castaños</td>\n",
              "      <td>https://thumbs4.properati.com/6/0TyxKPMlbTnYlc...</td>\n",
              "    </tr>\n",
              "    <tr>\n",
              "      <th>14224</th>\n",
              "      <td>14224</td>\n",
              "      <td>sell</td>\n",
              "      <td>house</td>\n",
              "      <td>Punilla</td>\n",
              "      <td>|Argentina|Córdoba|Punilla|</td>\n",
              "      <td>Argentina</td>\n",
              "      <td>Córdoba</td>\n",
              "      <td>3839996.0</td>\n",
              "      <td>-31.0946959,-64.4897194</td>\n",
              "      <td>-31.094696</td>\n",
              "      <td>-64.489719</td>\n",
              "      <td>100000.0</td>\n",
              "      <td>USD</td>\n",
              "      <td>1764450.00</td>\n",
              "      <td>100000.00</td>\n",
              "      <td>300.0</td>\n",
              "      <td>100.0</td>\n",
              "      <td>333.333333</td>\n",
              "      <td>1000.000000</td>\n",
              "      <td>NaN</td>\n",
              "      <td>NaN</td>\n",
              "      <td>NaN</td>\n",
              "      <td>http://www.properati.com.ar/16rl3_venta_casa_p...</td>\n",
              "      <td>CODIGO:  ubicado en: SAN LUIS 111 -  Publicado...</td>\n",
              "      <td>VENDO PROPIEDAD VILLA CARLOS PAZ</td>\n",
              "      <td>https://thumbs4.properati.com/4/jjfKuCXsF8yEAM...</td>\n",
              "    </tr>\n",
              "    <tr>\n",
              "      <th>117817</th>\n",
              "      <td>117817</td>\n",
              "      <td>sell</td>\n",
              "      <td>house</td>\n",
              "      <td>Lanús</td>\n",
              "      <td>|Argentina|Bs.As. G.B.A. Zona Sur|Lanús|Lanús|</td>\n",
              "      <td>Argentina</td>\n",
              "      <td>Bs.As. G.B.A. Zona Sur</td>\n",
              "      <td>NaN</td>\n",
              "      <td>NaN</td>\n",
              "      <td>NaN</td>\n",
              "      <td>NaN</td>\n",
              "      <td>80000.0</td>\n",
              "      <td>USD</td>\n",
              "      <td>1411560.00</td>\n",
              "      <td>80000.00</td>\n",
              "      <td>NaN</td>\n",
              "      <td>NaN</td>\n",
              "      <td>NaN</td>\n",
              "      <td>NaN</td>\n",
              "      <td>NaN</td>\n",
              "      <td>NaN</td>\n",
              "      <td>NaN</td>\n",
              "      <td>http://www.properati.com.ar/1ce03_venta_casa_l...</td>\n",
              "      <td>Casa en lote de 8,66x35 aprox. Ingreso a Livin...</td>\n",
              "      <td>Casa - Lanús Este</td>\n",
              "      <td>https://thumbs4.properati.com/2/SjtQ68FkLY0m5B...</td>\n",
              "    </tr>\n",
              "  </tbody>\n",
              "</table>\n",
              "</div>"
            ],
            "text/plain": [
              "        Unnamed: 0  ...                                    image_thumbnail\n",
              "99346        99346  ...  https://thumbs4.properati.com/3/6A0msOOojIR_4f...\n",
              "118215      118215  ...  https://thumbs4.properati.com/5/AaYDgZFWQaxBJT...\n",
              "79906        79906  ...  https://thumbs4.properati.com/6/0TyxKPMlbTnYlc...\n",
              "14224        14224  ...  https://thumbs4.properati.com/4/jjfKuCXsF8yEAM...\n",
              "117817      117817  ...  https://thumbs4.properati.com/2/SjtQ68FkLY0m5B...\n",
              "\n",
              "[5 rows x 26 columns]"
            ]
          },
          "metadata": {
            "tags": []
          },
          "execution_count": 8
        }
      ]
    },
    {
      "cell_type": "markdown",
      "metadata": {
        "id": "iCZivc5sxZuI"
      },
      "source": [
        "# Primeras observaciones"
      ]
    },
    {
      "cell_type": "markdown",
      "metadata": {
        "id": "BFTaUUNR4vjB"
      },
      "source": [
        "Sabemos que la columna \"operation\" no tiene NaN, con (value_count) la cantidad de valores que hay.\\\n",
        "Si son todas ventas su tamaño debe ser igual al DataSet\n",
        "\n",
        "---\n",
        "\n"
      ]
    },
    {
      "cell_type": "code",
      "metadata": {
        "id": "gHyCTYdDxc1S",
        "outputId": "c1d12b90-cf41-472a-c7c6-862f2791c802",
        "colab": {
          "base_uri": "https://localhost:8080/",
          "height": 52
        }
      },
      "source": [
        "data_original[\"operation\"].value_counts() == data_original.shape[0]"
      ],
      "execution_count": null,
      "outputs": [
        {
          "output_type": "execute_result",
          "data": {
            "text/plain": [
              "sell    True\n",
              "Name: operation, dtype: bool"
            ]
          },
          "metadata": {
            "tags": []
          },
          "execution_count": 9
        }
      ]
    },
    {
      "cell_type": "markdown",
      "metadata": {
        "id": "UO496oR-5mF5"
      },
      "source": [
        "Vimos que la columna \"Unnamed: 0\" no tiene NaN, es lo mismo que el índice?"
      ]
    },
    {
      "cell_type": "code",
      "metadata": {
        "id": "7UaJhjrdyIPw",
        "outputId": "6c285b6b-be92-43fd-b78c-1daf75918f9b",
        "colab": {
          "base_uri": "https://localhost:8080/",
          "height": 52
        }
      },
      "source": [
        "# Contamos la cantidad de verdaderos que devuelve la siguente igualdad:\n",
        "var_1 = (data_original[\"Unnamed: 0\"] == data_original.index).value_counts()\n",
        "# redundante, pero comparamos el conteo anterior, con el tamaño del data set.\n",
        "var_1 == data_original.shape[0]"
      ],
      "execution_count": null,
      "outputs": [
        {
          "output_type": "execute_result",
          "data": {
            "text/plain": [
              "True    True\n",
              "dtype: bool"
            ]
          },
          "metadata": {
            "tags": []
          },
          "execution_count": 10
        }
      ]
    },
    {
      "cell_type": "markdown",
      "metadata": {
        "id": "zNiBSVU96QZH"
      },
      "source": [
        "la columna \"country_name\" no tiene NaN. Son todas propiedades de ARG?"
      ]
    },
    {
      "cell_type": "code",
      "metadata": {
        "id": "oeF78EtWzs44",
        "outputId": "508cc17f-6963-477b-8af9-38e30fb4999c",
        "colab": {
          "base_uri": "https://localhost:8080/",
          "height": 34
        }
      },
      "source": [
        "var_country = data_original[\"country_name\"].value_counts()\n",
        "# redundantem pero al conteo anterior, lo comparamos con el tamaño del data set.\n",
        "var_country.sum() == data_original.shape[0]"
      ],
      "execution_count": null,
      "outputs": [
        {
          "output_type": "execute_result",
          "data": {
            "text/plain": [
              "True"
            ]
          },
          "metadata": {
            "tags": []
          },
          "execution_count": 11
        }
      ]
    },
    {
      "cell_type": "markdown",
      "metadata": {
        "id": "gwgrCgaz691B"
      },
      "source": [
        "Los campos a los que por ahora no le encontramos utilidad son: operaciones / Unnamed: 0 / country_name / imágenes / floor / expenses \\\n",
        "Antes de limpiarlos, hacemos una copia de la data y descartamos las columnas seleccionadas."
      ]
    },
    {
      "cell_type": "code",
      "metadata": {
        "id": "ij0zzRoW-pSN",
        "outputId": "3f35ef2c-f33f-4adb-853b-e9fc9852d3c3",
        "colab": {
          "base_uri": "https://localhost:8080/",
          "height": 467
        }
      },
      "source": [
        "data_edit = data_original.copy()\n",
        "\n",
        "data_edit.drop([\"operation\", \"Unnamed: 0\", \"country_name\", \"image_thumbnail\", \"floor\", \"expenses\"], axis = 1, inplace=True)\n",
        "# Mostramos los primero 5 registros\n",
        "data_edit.head(5)"
      ],
      "execution_count": null,
      "outputs": [
        {
          "output_type": "execute_result",
          "data": {
            "text/html": [
              "<div>\n",
              "<style scoped>\n",
              "    .dataframe tbody tr th:only-of-type {\n",
              "        vertical-align: middle;\n",
              "    }\n",
              "\n",
              "    .dataframe tbody tr th {\n",
              "        vertical-align: top;\n",
              "    }\n",
              "\n",
              "    .dataframe thead th {\n",
              "        text-align: right;\n",
              "    }\n",
              "</style>\n",
              "<table border=\"1\" class=\"dataframe\">\n",
              "  <thead>\n",
              "    <tr style=\"text-align: right;\">\n",
              "      <th></th>\n",
              "      <th>property_type</th>\n",
              "      <th>place_name</th>\n",
              "      <th>place_with_parent_names</th>\n",
              "      <th>state_name</th>\n",
              "      <th>geonames_id</th>\n",
              "      <th>lat-lon</th>\n",
              "      <th>lat</th>\n",
              "      <th>lon</th>\n",
              "      <th>price</th>\n",
              "      <th>currency</th>\n",
              "      <th>price_aprox_local_currency</th>\n",
              "      <th>price_aprox_usd</th>\n",
              "      <th>surface_total_in_m2</th>\n",
              "      <th>surface_covered_in_m2</th>\n",
              "      <th>price_usd_per_m2</th>\n",
              "      <th>price_per_m2</th>\n",
              "      <th>rooms</th>\n",
              "      <th>properati_url</th>\n",
              "      <th>description</th>\n",
              "      <th>title</th>\n",
              "    </tr>\n",
              "  </thead>\n",
              "  <tbody>\n",
              "    <tr>\n",
              "      <th>0</th>\n",
              "      <td>PH</td>\n",
              "      <td>Mataderos</td>\n",
              "      <td>|Argentina|Capital Federal|Mataderos|</td>\n",
              "      <td>Capital Federal</td>\n",
              "      <td>3430787.0</td>\n",
              "      <td>-34.6618237,-58.5088387</td>\n",
              "      <td>-34.661824</td>\n",
              "      <td>-58.508839</td>\n",
              "      <td>62000.0</td>\n",
              "      <td>USD</td>\n",
              "      <td>1093959.0</td>\n",
              "      <td>62000.0</td>\n",
              "      <td>55.0</td>\n",
              "      <td>40.0</td>\n",
              "      <td>1127.272727</td>\n",
              "      <td>1550.000000</td>\n",
              "      <td>NaN</td>\n",
              "      <td>http://www.properati.com.ar/15bo8_venta_ph_mat...</td>\n",
              "      <td>2 AMBIENTES TIPO CASA PLANTA BAJA POR PASILLO,...</td>\n",
              "      <td>2 AMB TIPO CASA SIN EXPENSAS EN PB</td>\n",
              "    </tr>\n",
              "    <tr>\n",
              "      <th>1</th>\n",
              "      <td>apartment</td>\n",
              "      <td>La Plata</td>\n",
              "      <td>|Argentina|Bs.As. G.B.A. Zona Sur|La Plata|</td>\n",
              "      <td>Bs.As. G.B.A. Zona Sur</td>\n",
              "      <td>3432039.0</td>\n",
              "      <td>-34.9038831,-57.9643295</td>\n",
              "      <td>-34.903883</td>\n",
              "      <td>-57.964330</td>\n",
              "      <td>150000.0</td>\n",
              "      <td>USD</td>\n",
              "      <td>2646675.0</td>\n",
              "      <td>150000.0</td>\n",
              "      <td>NaN</td>\n",
              "      <td>NaN</td>\n",
              "      <td>NaN</td>\n",
              "      <td>NaN</td>\n",
              "      <td>NaN</td>\n",
              "      <td>http://www.properati.com.ar/15bob_venta_depart...</td>\n",
              "      <td>Venta de departamento en décimo piso al frente...</td>\n",
              "      <td>VENTA Depto 2 dorm. a estrenar 7 e/ 36 y 37   ...</td>\n",
              "    </tr>\n",
              "    <tr>\n",
              "      <th>2</th>\n",
              "      <td>apartment</td>\n",
              "      <td>Mataderos</td>\n",
              "      <td>|Argentina|Capital Federal|Mataderos|</td>\n",
              "      <td>Capital Federal</td>\n",
              "      <td>3430787.0</td>\n",
              "      <td>-34.6522615,-58.5229825</td>\n",
              "      <td>-34.652262</td>\n",
              "      <td>-58.522982</td>\n",
              "      <td>72000.0</td>\n",
              "      <td>USD</td>\n",
              "      <td>1270404.0</td>\n",
              "      <td>72000.0</td>\n",
              "      <td>55.0</td>\n",
              "      <td>55.0</td>\n",
              "      <td>1309.090909</td>\n",
              "      <td>1309.090909</td>\n",
              "      <td>NaN</td>\n",
              "      <td>http://www.properati.com.ar/15bod_venta_depart...</td>\n",
              "      <td>2 AMBIENTES 3ER PISO LATERAL LIVING COMEDOR AM...</td>\n",
              "      <td>2 AMB 3ER PISO CON ASCENSOR APTO CREDITO</td>\n",
              "    </tr>\n",
              "    <tr>\n",
              "      <th>3</th>\n",
              "      <td>PH</td>\n",
              "      <td>Liniers</td>\n",
              "      <td>|Argentina|Capital Federal|Liniers|</td>\n",
              "      <td>Capital Federal</td>\n",
              "      <td>3431333.0</td>\n",
              "      <td>-34.6477969,-58.5164244</td>\n",
              "      <td>-34.647797</td>\n",
              "      <td>-58.516424</td>\n",
              "      <td>95000.0</td>\n",
              "      <td>USD</td>\n",
              "      <td>1676227.5</td>\n",
              "      <td>95000.0</td>\n",
              "      <td>NaN</td>\n",
              "      <td>NaN</td>\n",
              "      <td>NaN</td>\n",
              "      <td>NaN</td>\n",
              "      <td>NaN</td>\n",
              "      <td>http://www.properati.com.ar/15boh_venta_ph_lin...</td>\n",
              "      <td>PH 3 ambientes con patio. Hay 3 deptos en lote...</td>\n",
              "      <td>PH 3 amb. cfte. reciclado</td>\n",
              "    </tr>\n",
              "    <tr>\n",
              "      <th>4</th>\n",
              "      <td>apartment</td>\n",
              "      <td>Centro</td>\n",
              "      <td>|Argentina|Buenos Aires Costa Atlántica|Mar de...</td>\n",
              "      <td>Buenos Aires Costa Atlántica</td>\n",
              "      <td>3435548.0</td>\n",
              "      <td>-38.0026256,-57.5494468</td>\n",
              "      <td>-38.002626</td>\n",
              "      <td>-57.549447</td>\n",
              "      <td>64000.0</td>\n",
              "      <td>USD</td>\n",
              "      <td>1129248.0</td>\n",
              "      <td>64000.0</td>\n",
              "      <td>35.0</td>\n",
              "      <td>35.0</td>\n",
              "      <td>1828.571429</td>\n",
              "      <td>1828.571429</td>\n",
              "      <td>NaN</td>\n",
              "      <td>http://www.properati.com.ar/15bok_venta_depart...</td>\n",
              "      <td>DEPARTAMENTO CON FANTÁSTICA ILUMINACIÓN NATURA...</td>\n",
              "      <td>DEPTO 2 AMB AL CONTRAFRENTE ZONA CENTRO/PLAZA ...</td>\n",
              "    </tr>\n",
              "  </tbody>\n",
              "</table>\n",
              "</div>"
            ],
            "text/plain": [
              "  property_type  ...                                              title\n",
              "0            PH  ...                 2 AMB TIPO CASA SIN EXPENSAS EN PB\n",
              "1     apartment  ...  VENTA Depto 2 dorm. a estrenar 7 e/ 36 y 37   ...\n",
              "2     apartment  ...           2 AMB 3ER PISO CON ASCENSOR APTO CREDITO\n",
              "3            PH  ...                       PH 3 amb. cfte. reciclado   \n",
              "4     apartment  ...  DEPTO 2 AMB AL CONTRAFRENTE ZONA CENTRO/PLAZA ...\n",
              "\n",
              "[5 rows x 20 columns]"
            ]
          },
          "metadata": {
            "tags": []
          },
          "execution_count": 12
        }
      ]
    },
    {
      "cell_type": "markdown",
      "metadata": {
        "id": "o8B2r2KJ9RhJ"
      },
      "source": [
        "Con las URL podemos hacer una suerte de doble chequeo, ya que sospechamos que ellas se conforman con las columnas del DataSet.\\\n",
        "Por ahora dejamos las URL"
      ]
    },
    {
      "cell_type": "markdown",
      "metadata": {
        "id": "4mvCAbWF_y58"
      },
      "source": [
        "# Tipos de propiedades"
      ]
    },
    {
      "cell_type": "markdown",
      "metadata": {
        "id": "CX4VuHVp95oM"
      },
      "source": [
        "Ya vimos que en la columna \"propery_type\" no hay NaNs.\\\n",
        "Cuántos tipos de propiedades hay?"
      ]
    },
    {
      "cell_type": "code",
      "metadata": {
        "id": "TA3zsVUtKlU7",
        "outputId": "7dbcb604-8cb7-4671-c31e-737e521c1459",
        "colab": {
          "base_uri": "https://localhost:8080/",
          "height": 34
        }
      },
      "source": [
        "data_property_type = data_edit[\"property_type\"]\n",
        "data_property_type.unique()"
      ],
      "execution_count": null,
      "outputs": [
        {
          "output_type": "execute_result",
          "data": {
            "text/plain": [
              "array(['PH', 'apartment', 'house', 'store'], dtype=object)"
            ]
          },
          "metadata": {
            "tags": []
          },
          "execution_count": 13
        }
      ]
    },
    {
      "cell_type": "markdown",
      "metadata": {
        "id": "EwXtVJ4F-rvE"
      },
      "source": [
        "De estas 4 coategorías, todas tienen mas de 1 entrada? Explicando que son una variable importante."
      ]
    },
    {
      "cell_type": "code",
      "metadata": {
        "id": "XkhWRfLg77dK",
        "outputId": "10a4d651-47c7-4e4e-8c38-376ff6472123",
        "colab": {
          "base_uri": "https://localhost:8080/",
          "height": 34
        }
      },
      "source": [
        "total = data_edit[\"property_type\"].value_counts() > 1\n",
        "total.sum()\n",
        "# Si, todas tienen más de una propiedad asociada, por lo que esperamos que haya información útil"
      ],
      "execution_count": null,
      "outputs": [
        {
          "output_type": "execute_result",
          "data": {
            "text/plain": [
              "4"
            ]
          },
          "metadata": {
            "tags": []
          },
          "execution_count": 14
        }
      ]
    },
    {
      "cell_type": "markdown",
      "metadata": {
        "id": "4TMGlr5F_URa"
      },
      "source": [
        "Qué cantidad de porpiedades por tipo hay?\\\n",
        "Esto es como hacer los dos pasos anteriores, en uno!!"
      ]
    },
    {
      "cell_type": "code",
      "metadata": {
        "id": "msCpuWjz_ES7",
        "outputId": "9647e19c-6d05-44f6-c41a-8b7b4e4ab696",
        "colab": {
          "base_uri": "https://localhost:8080/",
          "height": 105
        }
      },
      "source": [
        "data_property_type.value_counts()"
      ],
      "execution_count": null,
      "outputs": [
        {
          "output_type": "execute_result",
          "data": {
            "text/plain": [
              "apartment    71065\n",
              "house        40268\n",
              "PH            5751\n",
              "store         4136\n",
              "Name: property_type, dtype: int64"
            ]
          },
          "metadata": {
            "tags": []
          },
          "execution_count": 15
        }
      ]
    },
    {
      "cell_type": "markdown",
      "metadata": {
        "id": "lIPnH5aw_bQg"
      },
      "source": [
        "Proporción de tipos de propiedades"
      ]
    },
    {
      "cell_type": "code",
      "metadata": {
        "id": "Ad8CIYhg6it0",
        "outputId": "d9d2b296-fd16-4d2d-da8a-33bc6afede53",
        "colab": {
          "base_uri": "https://localhost:8080/",
          "height": 388
        }
      },
      "source": [
        "cant_PH = (data_property_type == \"PH\").sum()\n",
        "prop_PH = cant_PH / data_property_type.shape[0]\n",
        "\n",
        "cant_apartment = (data_property_type == \"apartment\").sum()\n",
        "prop_apartment = cant_apartment / data_property_type.shape[0]\n",
        "\n",
        "cant_house = (data_property_type == \"house\").sum()\n",
        "prop_house = cant_house / data_property_type.shape[0]\n",
        "\n",
        "cant_store = (data_property_type == \"store\").sum()\n",
        "prop_store = cant_store / data_property_type.shape[0]\n",
        "\n",
        "print(\"Proporcion de PH:\", round(prop_PH, 2),\"%\")\n",
        "print(\"Proporcion de Dptos:\", round(prop_apartment,2),\"%\")\n",
        "print(\"Proporcion de Casas:\", round(prop_house,2),\"%\")\n",
        "print(\"Proporcion de Locales:\", round(prop_store,2),\"%\")\n",
        "print(prop_PH+prop_apartment+prop_house+prop_store)\n",
        "print(\"              \\\n",
        "          En un gráfico\")\n",
        "data_property_type.hist(bins=4, color=\"green\")"
      ],
      "execution_count": null,
      "outputs": [
        {
          "output_type": "stream",
          "text": [
            "Proporcion de PH: 0.05 %\n",
            "Proporcion de Dptos: 0.59 %\n",
            "Proporcion de Casas: 0.33 %\n",
            "Proporcion de Locales: 0.03 %\n",
            "1.0\n",
            "                        En un gráfico\n"
          ],
          "name": "stdout"
        },
        {
          "output_type": "execute_result",
          "data": {
            "text/plain": [
              "<matplotlib.axes._subplots.AxesSubplot at 0x7f130aedfb38>"
            ]
          },
          "metadata": {
            "tags": []
          },
          "execution_count": 16
        },
        {
          "output_type": "display_data",
          "data": {
            "image/png": "[encoded data removed]",
            "text/plain": [
              "<Figure size 432x288 with 1 Axes>"
            ]
          },
          "metadata": {
            "tags": [],
            "needs_background": "light"
          }
        }
      ]
    },
    {
      "cell_type": "markdown",
      "metadata": {
        "id": "4ZmIhluQAOzA"
      },
      "source": [
        "# Provincias y localidades"
      ]
    },
    {
      "cell_type": "markdown",
      "metadata": {
        "id": "8bKY9bKOBIHE"
      },
      "source": [
        "Qué y cuántos datos tenemos en la columna \"place_name\"?"
      ]
    },
    {
      "cell_type": "code",
      "metadata": {
        "id": "MPP607i8AZCz",
        "outputId": "a71535c1-6111-4e16-880c-990a97a1ab75",
        "colab": {
          "base_uri": "https://localhost:8080/",
          "height": 230
        }
      },
      "source": [
        "data_edit[\"place_name\"].value_counts()"
      ],
      "execution_count": null,
      "outputs": [
        {
          "output_type": "execute_result",
          "data": {
            "text/plain": [
              "Córdoba           9254\n",
              "Rosario           8504\n",
              "Mar del Plata     6534\n",
              "Tigre             3324\n",
              "Nordelta          3315\n",
              "                  ... \n",
              "Alejandro Roca       1\n",
              "Trenel               1\n",
              "Fighiera             1\n",
              "Dina Huapi           1\n",
              "William Morris       1\n",
              "Name: place_name, Length: 1060, dtype: int64"
            ]
          },
          "metadata": {
            "tags": []
          },
          "execution_count": 17
        }
      ]
    },
    {
      "cell_type": "markdown",
      "metadata": {
        "id": "I99iK0NbBtYm"
      },
      "source": [
        "Qué y cuántos datos tenemos en \"place_with_parents_name\"?"
      ]
    },
    {
      "cell_type": "code",
      "metadata": {
        "id": "rYdHYH1gA4ei",
        "outputId": "5fc51b9e-f571-4fb4-f00a-c96b42a197df",
        "colab": {
          "base_uri": "https://localhost:8080/",
          "height": 230
        }
      },
      "source": [
        "data_edit[\"place_with_parent_names\"].value_counts()"
      ],
      "execution_count": null,
      "outputs": [
        {
          "output_type": "execute_result",
          "data": {
            "text/plain": [
              "|Argentina|Santa Fe|Rosario|                                                    8504\n",
              "|Argentina|Córdoba|Córdoba|                                                     6606\n",
              "|Argentina|Buenos Aires Costa Atlántica|Mar del Plata|                          6534\n",
              "|Argentina|Bs.As. G.B.A. Zona Norte|Tigre|Nordelta|                             3315\n",
              "|Argentina|Capital Federal|Belgrano|                                            2992\n",
              "                                                                                ... \n",
              "|Argentina|Buenos Aires Costa Atlántica|Mar del Plata|Gral San Martin|             1\n",
              "|Argentina|Chubut|Playa Unión|                                                     1\n",
              "|Argentina|Chubut|Corcovado|                                                       1\n",
              "|Argentina|Buenos Aires Interior|Nueve de Julio|                                   1\n",
              "|Argentina|Bs.As. G.B.A. Zona Norte|San Fernando|Barrio Cerrado \"La Chacra\"|       1\n",
              "Name: place_with_parent_names, Length: 1164, dtype: int64"
            ]
          },
          "metadata": {
            "tags": []
          },
          "execution_count": 18
        }
      ]
    },
    {
      "cell_type": "markdown",
      "metadata": {
        "id": "vkGlw1jMCHMO"
      },
      "source": [
        "Vemos que se repite mucho Argentina.\\\n",
        "En todas las entradas está \"Argentina\"?"
      ]
    },
    {
      "cell_type": "code",
      "metadata": {
        "id": "LsMHSAmJBX4B",
        "outputId": "dc2abd0c-75b0-44a9-f89d-d7c102fb1e6f",
        "colab": {
          "base_uri": "https://localhost:8080/",
          "height": 34
        }
      },
      "source": [
        "test_1 = data_edit[\"place_with_parent_names\"].str.contains('Argentina').sum() / data_edit.shape[0]\n",
        "test_1\n",
        "# Si!"
      ],
      "execution_count": null,
      "outputs": [
        {
          "output_type": "execute_result",
          "data": {
            "text/plain": [
              "1.0"
            ]
          },
          "metadata": {
            "tags": []
          },
          "execution_count": 19
        }
      ]
    },
    {
      "cell_type": "markdown",
      "metadata": {
        "id": "CnZKdifsCT2b"
      },
      "source": [
        "Generamos una nueva columna, donde quitamos \"Argentina\" y eliminamos el \"|\" generando listas para cada fila"
      ]
    },
    {
      "cell_type": "code",
      "metadata": {
        "id": "ix3oRyHZCx3j",
        "outputId": "eb132d88-ea7e-4ca0-fb45-5182193cd1e5",
        "colab": {
          "base_uri": "https://localhost:8080/",
          "height": 230
        }
      },
      "source": [
        "data_edit[\"fran_place_levels\"] = data_edit[\"place_with_parent_names\"].apply(lambda x: [z.strip() for z in x.split('|') if z != '' and 'Argentina' not in z])\n",
        "data_edit[\"fran_place_levels\"]"
      ],
      "execution_count": null,
      "outputs": [
        {
          "output_type": "execute_result",
          "data": {
            "text/plain": [
              "0                              [Capital Federal, Mataderos]\n",
              "1                        [Bs.As. G.B.A. Zona Sur, La Plata]\n",
              "2                              [Capital Federal, Mataderos]\n",
              "3                                [Capital Federal, Liniers]\n",
              "4         [Buenos Aires Costa Atlántica, Mar del Plata, ...\n",
              "                                ...                        \n",
              "121215                          [Capital Federal, Belgrano]\n",
              "121216       [Bs.As. G.B.A. Zona Norte, San Isidro, Beccar]\n",
              "121217                     [Capital Federal, Villa Urquiza]\n",
              "121218    [Buenos Aires Costa Atlántica, Mar del Plata, ...\n",
              "121219                                    [Capital Federal]\n",
              "Name: fran_place_levels, Length: 121220, dtype: object"
            ]
          },
          "metadata": {
            "tags": []
          },
          "execution_count": 20
        }
      ]
    },
    {
      "cell_type": "markdown",
      "metadata": {
        "id": "Vo_ZS1PDDfPz"
      },
      "source": [
        "Para quedarnos con un recuento de datos por provincias, generamos una nueva columna y sobre la anterior pedimos una separación por el primer índice de cada lista"
      ]
    },
    {
      "cell_type": "code",
      "metadata": {
        "id": "SmU6sB5DDfLJ",
        "outputId": "79531cb9-8841-42c4-8ea6-577a8114b02d",
        "colab": {
          "base_uri": "https://localhost:8080/",
          "height": 532
        }
      },
      "source": [
        "data_edit[\"fran_provincia\"] = data_edit[\"fran_place_levels\"].apply(lambda x: x[0])\n",
        "data_edit[\"fran_provincia\"].value_counts()"
      ],
      "execution_count": null,
      "outputs": [
        {
          "output_type": "execute_result",
          "data": {
            "text/plain": [
              "Capital Federal                 32316\n",
              "Bs.As. G.B.A. Zona Norte        25560\n",
              "Bs.As. G.B.A. Zona Sur          13952\n",
              "Córdoba                         12069\n",
              "Santa Fe                        10172\n",
              "Buenos Aires Costa Atlántica    10006\n",
              "Bs.As. G.B.A. Zona Oeste         9322\n",
              "Buenos Aires Interior            2291\n",
              "Río Negro                         808\n",
              "Neuquén                           733\n",
              "Mendoza                           681\n",
              "Tucumán                           674\n",
              "Corrientes                        583\n",
              "Misiones                          464\n",
              "Entre Ríos                        369\n",
              "Salta                             278\n",
              "Chubut                            259\n",
              "San Luis                          252\n",
              "La Pampa                          157\n",
              "Formosa                            65\n",
              "Chaco                              57\n",
              "San Juan                           40\n",
              "Tierra Del Fuego                   31\n",
              "Catamarca                          27\n",
              "Jujuy                              26\n",
              "Santa Cruz                         20\n",
              "Santiago Del Estero                 4\n",
              "La Rioja                            4\n",
              "Name: fran_provincia, dtype: int64"
            ]
          },
          "metadata": {
            "tags": []
          },
          "execution_count": 21
        }
      ]
    },
    {
      "cell_type": "markdown",
      "metadata": {
        "id": "8PAxdTjhGBBJ"
      },
      "source": [
        "Para validar la separación anterior con la base original:"
      ]
    },
    {
      "cell_type": "code",
      "metadata": {
        "id": "WIcu4zffEtVp",
        "outputId": "76c16ed7-1456-49ae-fe42-1dcc7ad77ee7",
        "colab": {
          "base_uri": "https://localhost:8080/",
          "height": 34
        }
      },
      "source": [
        "data_edit[\"fran_provincia\"].value_counts().sum() == data_edit.shape[0]"
      ],
      "execution_count": null,
      "outputs": [
        {
          "output_type": "execute_result",
          "data": {
            "text/plain": [
              "True"
            ]
          },
          "metadata": {
            "tags": []
          },
          "execution_count": 22
        }
      ]
    },
    {
      "cell_type": "markdown",
      "metadata": {
        "id": "thzJwLUYGUtA"
      },
      "source": [
        "Hacemos una visualización general."
      ]
    },
    {
      "cell_type": "code",
      "metadata": {
        "id": "MkDQEmSeIPSb",
        "outputId": "36231aa3-d5fe-4d9a-d730-58309b015734",
        "colab": {
          "base_uri": "https://localhost:8080/",
          "height": 334
        }
      },
      "source": [
        "data_edit[\"fran_provincia\"].hist(bins=5, figsize= [15,5], color=\"orange\")"
      ],
      "execution_count": null,
      "outputs": [
        {
          "output_type": "execute_result",
          "data": {
            "text/plain": [
              "<matplotlib.axes._subplots.AxesSubplot at 0x7f1308b94f28>"
            ]
          },
          "metadata": {
            "tags": []
          },
          "execution_count": 23
        },
        {
          "output_type": "display_data",
          "data": {
            "image/png": "[encoded data removed]",
            "text/plain": [
              "<Figure size 1080x360 with 1 Axes>"
            ]
          },
          "metadata": {
            "tags": [],
            "needs_background": "light"
          }
        }
      ]
    },
    {
      "cell_type": "markdown",
      "metadata": {
        "id": "xn6xGphWGl2A"
      },
      "source": [
        "A partir de la columna \"fran_place_levels\" (listas de ubicaciones sin ARG) tomamos con x[1:] la localidad y vemos cuántas hay de cada una"
      ]
    },
    {
      "cell_type": "code",
      "metadata": {
        "id": "qARvMrgj7jkx",
        "outputId": "ac5c7a0e-b6c8-4f51-af73-2310a3af544d",
        "colab": {
          "base_uri": "https://localhost:8080/",
          "height": 230
        }
      },
      "source": [
        "data_edit[\"fran_localidad\"] = data_edit[\"fran_place_levels\"].apply(lambda x: ', '.join(x[1:]))\n",
        "data_edit[\"fran_localidad\"].value_counts()\n",
        "#data_edit[\"fran_localidad\"].value_counts().sum()"
      ],
      "execution_count": null,
      "outputs": [
        {
          "output_type": "execute_result",
          "data": {
            "text/plain": [
              "Rosario            8504\n",
              "Córdoba            6606\n",
              "Mar del Plata      6534\n",
              "                   4900\n",
              "Tigre, Nordelta    3315\n",
              "                   ... \n",
              "Quemú Quemú           1\n",
              "Calmayo               1\n",
              "Chajarí               1\n",
              "Las Talitas           1\n",
              "Venado Tuerto         1\n",
              "Name: fran_localidad, Length: 1117, dtype: int64"
            ]
          },
          "metadata": {
            "tags": []
          },
          "execution_count": 24
        }
      ]
    },
    {
      "cell_type": "markdown",
      "metadata": {
        "id": "ehJX0XnAXAmk"
      },
      "source": [
        "# Rooms\n",
        "La columna 'rooms' es de tipo 'float' pero es más lógico tenerla como 'int'.\n",
        "\n",
        "Primero reemplazamos los valores null por 9999 para poder convertir toda la columna\n",
        "\n",
        "\n"
      ]
    },
    {
      "cell_type": "code",
      "metadata": {
        "id": "sj_P60_IXJBY"
      },
      "source": [
        "mask = data_edit['rooms'].isnull()\n",
        "data_edit.loc[mask, 'rooms'] = 9999\n",
        "data_edit['rooms'] = data_edit['rooms'].astype(int)"
      ],
      "execution_count": null,
      "outputs": []
    },
    {
      "cell_type": "markdown",
      "metadata": {
        "id": "fDRcXBVIXg8q"
      },
      "source": [
        "Primero chequeamos los números escritos en forma de texto"
      ]
    },
    {
      "cell_type": "code",
      "metadata": {
        "id": "C67NI8OpWJjM",
        "outputId": "7e72b6bf-5d8d-43a4-98f1-537f8e64745f",
        "colab": {
          "base_uri": "https://localhost:8080/",
          "height": 603
        }
      },
      "source": [
        "data_edit[\"rooms\"].value_counts()"
      ],
      "execution_count": null,
      "outputs": [
        {
          "output_type": "execute_result",
          "data": {
            "text/plain": [
              "9999    73830\n",
              "3       12567\n",
              "2       12433\n",
              "4        7937\n",
              "1        7377\n",
              "5        3782\n",
              "6        1403\n",
              "7         770\n",
              "8         409\n",
              "10        226\n",
              "9         184\n",
              "11         72\n",
              "12         65\n",
              "13         33\n",
              "14         27\n",
              "15         26\n",
              "17         16\n",
              "16         11\n",
              "20         11\n",
              "22          8\n",
              "18          6\n",
              "21          5\n",
              "19          4\n",
              "25          4\n",
              "30          4\n",
              "32          3\n",
              "23          2\n",
              "31          1\n",
              "24          1\n",
              "27          1\n",
              "28          1\n",
              "29          1\n",
              "Name: rooms, dtype: int64"
            ]
          },
          "metadata": {
            "tags": []
          },
          "execution_count": 26
        }
      ]
    },
    {
      "cell_type": "markdown",
      "metadata": {
        "id": "586dJ9VNXs8z"
      },
      "source": [
        "Luego reemplazamos los textos por números."
      ]
    },
    {
      "cell_type": "code",
      "metadata": {
        "id": "gjDItk13Xljy",
        "outputId": "ac16b547-0cf0-433d-b64e-8a891cb72202",
        "colab": {
          "base_uri": "https://localhost:8080/",
          "height": 407
        }
      },
      "source": [
        "numeros_texto = {'uno': '1', 'dos': '2', 'tres': '3', 'cuatro': '4', 'cinco': '5', 'seis': '6', 'siete':'7', 'ocho': '8', 'nueve': '9'}\n",
        "for x in list(numeros_texto.keys()):\n",
        "  print(data_edit['title'].str.contains(x).sum())\n",
        "print(\"-------\")\n",
        "print(data_edit[\"title\"])"
      ],
      "execution_count": null,
      "outputs": [
        {
          "output_type": "stream",
          "text": [
            "24\n",
            "1268\n",
            "398\n",
            "79\n",
            "19\n",
            "6\n",
            "4\n",
            "0\n",
            "0\n",
            "-------\n",
            "0                        2 AMB TIPO CASA SIN EXPENSAS EN PB\n",
            "1         VENTA Depto 2 dorm. a estrenar 7 e/ 36 y 37   ...\n",
            "2                  2 AMB 3ER PISO CON ASCENSOR APTO CREDITO\n",
            "3                              PH 3 amb. cfte. reciclado   \n",
            "4         DEPTO 2 AMB AL CONTRAFRENTE ZONA CENTRO/PLAZA ...\n",
            "                                ...                        \n",
            "121215           Torre Forum Alcorta- Impecable 3 ambientes\n",
            "121216    Ruca Inmuebles | Venta | Lomas de San Isidro |...\n",
            "121217    VENTA DEPARTAMENTO AMBIENTE DIVISIBLE A ESTREN...\n",
            "121218    2 amb. C/ dep. de servicio al contrafrente| Re...\n",
            "121219           Departamento apto profesional en el Centro\n",
            "Name: title, Length: 121220, dtype: object\n"
          ],
          "name": "stdout"
        }
      ]
    },
    {
      "cell_type": "code",
      "metadata": {
        "id": "nYb3cm5rXpYv",
        "outputId": "141bed2f-80ce-49e2-c57f-8aaa7f4db55e",
        "colab": {
          "base_uri": "https://localhost:8080/",
          "height": 336
        }
      },
      "source": [
        "# El primer print indica la cant de True para \"uno\"\n",
        "# El segundo print indica la cant de True de valores no convertidos\n",
        "for key, value in numeros_texto.items():\n",
        "  mask = data_edit['title'].str.contains(key)\n",
        "  print(mask.sum())\n",
        "  data_edit.loc[mask, 'title'] = data_edit.loc[mask]['title'].apply(lambda x: str(x).replace(key, value))\n",
        "  print(data_edit['title'].str.contains(key).sum())"
      ],
      "execution_count": null,
      "outputs": [
        {
          "output_type": "stream",
          "text": [
            "24\n",
            "0\n",
            "1268\n",
            "0\n",
            "398\n",
            "0\n",
            "79\n",
            "0\n",
            "19\n",
            "0\n",
            "6\n",
            "0\n",
            "4\n",
            "0\n",
            "0\n",
            "0\n",
            "0\n",
            "0\n"
          ],
          "name": "stdout"
        }
      ]
    },
    {
      "cell_type": "markdown",
      "metadata": {
        "id": "ddM36lxbfAt9"
      },
      "source": [
        "Pasamos los 0 a NaN"
      ]
    },
    {
      "cell_type": "code",
      "metadata": {
        "id": "qDCstCW8ChoV",
        "outputId": "44b119f6-bc1e-4ae4-9516-0a6cfd440d19",
        "colab": {
          "base_uri": "https://localhost:8080/",
          "height": 52
        }
      },
      "source": [
        "mask_nulos_m2 = data_edit[\"surface_covered_in_m2\"] == 0\n",
        "data_edit.loc[mask_nulos_m2, \"surface_covered_in_m2\"] = np.nan\n",
        "# Pedimos la cantidad de NaN de m2 y que muetre la columna \"romms\".\n",
        "# Esto quiere decir que no hay valore de \"rooms\" con valores NaN en m2 \n",
        "data_edit[mask_nulos_m2]['rooms'].value_counts().sort_index()"
      ],
      "execution_count": null,
      "outputs": [
        {
          "output_type": "execute_result",
          "data": {
            "text/plain": [
              "9999    2\n",
              "Name: rooms, dtype: int64"
            ]
          },
          "metadata": {
            "tags": []
          },
          "execution_count": 29
        }
      ]
    },
    {
      "cell_type": "markdown",
      "metadata": {
        "id": "ApV9bS4sX0lh"
      },
      "source": [
        "Establecemos el patrón regex para detectar ambientes. Capturamos cualquier número seguido de un espacio y el string 'amb'."
      ]
    },
    {
      "cell_type": "code",
      "metadata": {
        "id": "wfKRstRNX515"
      },
      "source": [
        "patron = '(\\d)+\\samb'\n",
        "regex = re.compile(patron, flags = re.IGNORECASE)"
      ],
      "execution_count": null,
      "outputs": []
    },
    {
      "cell_type": "markdown",
      "metadata": {
        "id": "VM8P26MEZPwa"
      },
      "source": [
        "Primero vemos cuantas filas tienen 'amb' en 'title' y null en 'rooms'"
      ]
    },
    {
      "cell_type": "code",
      "metadata": {
        "id": "3_bwTAM7-41a",
        "outputId": "72fa36ed-6f80-4fd1-d747-172dd52c311a",
        "colab": {
          "base_uri": "https://localhost:8080/",
          "height": 90
        }
      },
      "source": [
        "resultado_title_rooms = data_edit['title'].str.contains(regex) & (data_edit['rooms'] == 9999)\n",
        "resultado_title_rooms.sum()\n",
        "# Esto es que hay 8820 registros donde hay \"x amb\" con rooms \"9999\" = NaN, para la columna Title"
      ],
      "execution_count": null,
      "outputs": [
        {
          "output_type": "stream",
          "text": [
            "/usr/local/lib/python3.6/dist-packages/pandas/core/strings.py:2001: UserWarning: This pattern has match groups. To actually get the groups, use str.extract.\n",
            "  return func(self, *args, **kwargs)\n"
          ],
          "name": "stderr"
        },
        {
          "output_type": "execute_result",
          "data": {
            "text/plain": [
              "8820"
            ]
          },
          "metadata": {
            "tags": []
          },
          "execution_count": 31
        }
      ]
    },
    {
      "cell_type": "markdown",
      "metadata": {
        "id": "QF8xUXMbikdW"
      },
      "source": [
        "Luego vemos cuantas filas tienen 'amb' en 'description' y null en 'rooms'"
      ]
    },
    {
      "cell_type": "code",
      "metadata": {
        "id": "S1KwVcFzhb1T",
        "outputId": "14f2df9c-bae9-4416-d97b-ca1fdb8329c9",
        "colab": {
          "base_uri": "https://localhost:8080/",
          "height": 90
        }
      },
      "source": [
        "resultado_description_rooms = data_edit['description'].str.contains(regex) & (data_edit['rooms'] == 9999)\n",
        "resultado_description_rooms.sum()\n",
        "# Esto es que hay 18902 registros donde hay \"x amb\" con rooms \"9999\" = NaN, para la columna Description"
      ],
      "execution_count": null,
      "outputs": [
        {
          "output_type": "stream",
          "text": [
            "/usr/local/lib/python3.6/dist-packages/pandas/core/strings.py:2001: UserWarning: This pattern has match groups. To actually get the groups, use str.extract.\n",
            "  return func(self, *args, **kwargs)\n"
          ],
          "name": "stderr"
        },
        {
          "output_type": "execute_result",
          "data": {
            "text/plain": [
              "18902"
            ]
          },
          "metadata": {
            "tags": []
          },
          "execution_count": 32
        }
      ]
    },
    {
      "cell_type": "markdown",
      "metadata": {
        "id": "6PsXKw5wjFEk"
      },
      "source": [
        "Tenemos más coincidencias desde el campo 'description' así que comenzamos por aqui y extraemos el valor númerico"
      ]
    },
    {
      "cell_type": "code",
      "metadata": {
        "id": "MIeiA3pVjKan",
        "outputId": "f430461b-98c6-4a49-e36c-3b7334363ba7",
        "colab": {
          "base_uri": "https://localhost:8080/",
          "height": 212
        }
      },
      "source": [
        "# search(x)[1] es \"(\\d+)\"\n",
        "data_edit.loc[resultado_description_rooms, 'rooms'] = data_edit.loc[resultado_description_rooms, 'description'].apply(lambda x: float(regex.search(x)[1]))\n",
        "data_edit[resultado_description_rooms]['rooms'].value_counts().sort_index()"
      ],
      "execution_count": null,
      "outputs": [
        {
          "output_type": "execute_result",
          "data": {
            "text/plain": [
              "0.0      25\n",
              "1.0    1062\n",
              "2.0    6331\n",
              "3.0    6250\n",
              "4.0    3678\n",
              "5.0    1080\n",
              "6.0     324\n",
              "7.0     122\n",
              "8.0      16\n",
              "9.0      14\n",
              "Name: rooms, dtype: int64"
            ]
          },
          "metadata": {
            "tags": []
          },
          "execution_count": 33
        }
      ]
    },
    {
      "cell_type": "code",
      "metadata": {
        "id": "y5M8QpOMnaoG",
        "outputId": "43f88e60-ce1f-4484-8258-f6dd3d953b9a",
        "colab": {
          "base_uri": "https://localhost:8080/",
          "height": 478
        }
      },
      "source": [
        "# estos son los regitros que nos hacer ruido con el regex... ¿que facciamo?\n",
        "larala = data_edit[resultado_description_rooms]['rooms'] == 0.0\n",
        "print(data_edit[resultado_description_rooms][\"description\"][larala])"
      ],
      "execution_count": null,
      "outputs": [
        {
          "output_type": "stream",
          "text": [
            "11334     CODIGO: 2461-1A790 ubicado en: Piedras al 1000...\n",
            "17721     CODIGO: 2461-1A761 ubicado en: Hipolito Yrigoy...\n",
            "17723     CODIGO: 2461-1A830 ubicado en: Av Cordoba al 6...\n",
            "17724     CODIGO: 2461- 1A782 ubicado en: Av Independenc...\n",
            "17725     CODIGO: 2461-1A723 ubicado en: Combate de los ...\n",
            "19849     CODIGO: 2461-1A843 ubicado en: Av. San Juan al...\n",
            "23884     CODIGO: 1259-Dr J Valentin Gomez 3500 ubicado ...\n",
            "24730     Apto profesional. Casa para uso comercial de 1...\n",
            "31827     Venta de chalet 10 ambientes en Bella Vista.La...\n",
            "32106     EXQUISITA CASA EN LA MEJOR ZONA DE BELGRANO RO...\n",
            "42609     CODIGO: 2461-1A464 ubicado en: Defensa -  Publ...\n",
            "42611     CODIGO: 2461-1A852 ubicado en: Tinogasta al 58...\n",
            "51221     CODIGO: 2461-1A854 ubicado en: Irigoyen al 220...\n",
            "59858     CODIGO: 2461-1A857 ubicado en: Independencia a...\n",
            "63465     CODIGO: 2461-1A858 ubicado en: Venezuela al 40...\n",
            "73628     OPRTUNIDAD PARA MULTIPLE DESARROLLOEN PLENO CE...\n",
            "73641     OPRTUNIDAD PARA MULTIPLE DESARROLLOEN PLENO CE...\n",
            "74866     ESPECTACULAR CASA RESIDENCIAL ENBARRIO PARQUE ...\n",
            "74913     ====== local 10 x 7.24 con pisos ceramicos=== ...\n",
            "74957     ..VENTA LOCAL- consultar las condiciones-..al ...\n",
            "87105     Importante PH con entrada independiente.Antigu...\n",
            "92653     Casa: con cochera para un auto. Living, con mo...\n",
            "99496     Venta en block sobre Av. Avellaneda a dos cuad...\n",
            "100917    ZONA PELLEGRINI 3400 Características: Cocina c...\n",
            "119981    2 casas juntas que totalizan 260 mts cubiertos...\n",
            "Name: description, dtype: object\n"
          ],
          "name": "stdout"
        }
      ]
    },
    {
      "cell_type": "markdown",
      "metadata": {
        "id": "ngNTfa3vlw6j"
      },
      "source": [
        "Comprobamos la reducción de nulls en 'rooms', data_original vs data_edit"
      ]
    },
    {
      "cell_type": "code",
      "metadata": {
        "id": "8Ss_yO9nl2T_",
        "outputId": "d8add80c-3227-4e71-f2e8-fab27aeb511e",
        "colab": {
          "base_uri": "https://localhost:8080/",
          "height": 52
        }
      },
      "source": [
        "print(\"Nulls que había = \", data_original['rooms'].isnull().sum())\n",
        "print(\"Nulls que hay =\", (data_edit['rooms'] == 9999).sum())"
      ],
      "execution_count": null,
      "outputs": [
        {
          "output_type": "stream",
          "text": [
            "Nulls que había =  73830\n",
            "Nulls que hay = 54928\n"
          ],
          "name": "stdout"
        }
      ]
    },
    {
      "cell_type": "markdown",
      "metadata": {
        "id": "aG841VeinYl2"
      },
      "source": [
        "Extraemos ahora desde 'title'"
      ]
    },
    {
      "cell_type": "code",
      "metadata": {
        "id": "mdGGaDMYylt9",
        "outputId": "e66dec3e-b421-40fc-9b33-4a533c0f0a2a",
        "colab": {
          "base_uri": "https://localhost:8080/",
          "height": 90
        }
      },
      "source": [
        "resultado_title_rooms = data_edit['title'].str.contains(regex) & (data_edit['rooms'] == 9999)\n",
        "resultado_title_rooms.sum()\n",
        "# Esto es que hay 2839 registros con \"title\" \"x amb\" y rooms \"9999\""
      ],
      "execution_count": null,
      "outputs": [
        {
          "output_type": "stream",
          "text": [
            "/usr/local/lib/python3.6/dist-packages/pandas/core/strings.py:2001: UserWarning: This pattern has match groups. To actually get the groups, use str.extract.\n",
            "  return func(self, *args, **kwargs)\n"
          ],
          "name": "stderr"
        },
        {
          "output_type": "execute_result",
          "data": {
            "text/plain": [
              "2839"
            ]
          },
          "metadata": {
            "tags": []
          },
          "execution_count": 36
        }
      ]
    },
    {
      "cell_type": "code",
      "metadata": {
        "id": "6o6Gro7RzEOZ",
        "outputId": "fd28271a-4f25-42bb-e8dd-94b46efa38e4",
        "colab": {
          "base_uri": "https://localhost:8080/",
          "height": 212
        }
      },
      "source": [
        "data_edit.loc[resultado_title_rooms, 'rooms'] = data_edit.loc[resultado_title_rooms, 'title'].apply(lambda x: float(regex.search(x)[1]))\n",
        "data_edit[resultado_title_rooms]['rooms'].value_counts().sort_index()"
      ],
      "execution_count": null,
      "outputs": [
        {
          "output_type": "execute_result",
          "data": {
            "text/plain": [
              "0.0      3\n",
              "1.0    144\n",
              "2.0    750\n",
              "3.0    886\n",
              "4.0    660\n",
              "5.0    260\n",
              "6.0     87\n",
              "7.0     31\n",
              "8.0     16\n",
              "9.0      2\n",
              "Name: rooms, dtype: int64"
            ]
          },
          "metadata": {
            "tags": []
          },
          "execution_count": 37
        }
      ]
    },
    {
      "cell_type": "markdown",
      "metadata": {
        "id": "5nuyGptCzSae"
      },
      "source": [
        "Vemos cuántos null hemos quitado, data_original VS data_edit"
      ]
    },
    {
      "cell_type": "code",
      "metadata": {
        "id": "MV0pUGp1zZiy",
        "outputId": "f4cd2259-6a35-4bce-99e4-d35199c84a7a",
        "colab": {
          "base_uri": "https://localhost:8080/",
          "height": 52
        }
      },
      "source": [
        "print(data_original['rooms'].isnull().sum())\n",
        "print((data_edit['rooms'] == 9999).sum())"
      ],
      "execution_count": null,
      "outputs": [
        {
          "output_type": "stream",
          "text": [
            "73830\n",
            "52089\n"
          ],
          "name": "stdout"
        }
      ]
    },
    {
      "cell_type": "markdown",
      "metadata": {
        "id": "kQr7qKGdzeBN"
      },
      "source": [
        "Revisamos el resultado"
      ]
    },
    {
      "cell_type": "code",
      "metadata": {
        "id": "_UPvZliEzdwJ",
        "outputId": "1b4806e5-e401-4edc-ebc2-39316acd65f6",
        "colab": {
          "base_uri": "https://localhost:8080/",
          "height": 621
        }
      },
      "source": [
        "data_edit['rooms'].value_counts().sort_index()\n",
        "# Hay que ver con los valores > a 10 de rooms..."
      ],
      "execution_count": null,
      "outputs": [
        {
          "output_type": "execute_result",
          "data": {
            "text/plain": [
              "0.0          28\n",
              "1.0        8583\n",
              "2.0       19514\n",
              "3.0       19703\n",
              "4.0       12275\n",
              "5.0        5122\n",
              "6.0        1814\n",
              "7.0         923\n",
              "8.0         441\n",
              "9.0         200\n",
              "10.0        226\n",
              "11.0         72\n",
              "12.0         65\n",
              "13.0         33\n",
              "14.0         27\n",
              "15.0         26\n",
              "16.0         11\n",
              "17.0         16\n",
              "18.0          6\n",
              "19.0          4\n",
              "20.0         11\n",
              "21.0          5\n",
              "22.0          8\n",
              "23.0          2\n",
              "24.0          1\n",
              "25.0          4\n",
              "27.0          1\n",
              "28.0          1\n",
              "29.0          1\n",
              "30.0          4\n",
              "31.0          1\n",
              "32.0          3\n",
              "9999.0    52089\n",
              "Name: rooms, dtype: int64"
            ]
          },
          "metadata": {
            "tags": []
          },
          "execution_count": 39
        }
      ]
    },
    {
      "cell_type": "markdown",
      "metadata": {
        "id": "Wm8sIEDMz2B-"
      },
      "source": [
        "Acomodamos rooms para los 'monoambientes'"
      ]
    },
    {
      "cell_type": "code",
      "metadata": {
        "id": "Vty1-TZDz2MZ",
        "outputId": "d4efce79-1c41-42e2-b44a-ee71eee5388f",
        "colab": {
          "base_uri": "https://localhost:8080/",
          "height": 34
        }
      },
      "source": [
        "# resultado_description_rooms = data_edit['description'].str.contains(regex) & data_edit['rooms'].isnull()\n",
        "# Pasamos a min+uscula la descripción:\n",
        "data_edit['description'] = data_edit['description'].apply(lambda x: str(x).lower())\n",
        "\n",
        "mask_monoambiente = data_edit['description'].str.contains('monoambiente') & (data_edit['rooms'] == 9999)\n",
        "mask_monoambiente.sum()\n",
        "# Esto son 3676 registros con valor nulo en rooms (9999) y que se describen como monoambientes"
      ],
      "execution_count": null,
      "outputs": [
        {
          "output_type": "execute_result",
          "data": {
            "text/plain": [
              "3676"
            ]
          },
          "metadata": {
            "tags": []
          },
          "execution_count": 40
        }
      ]
    },
    {
      "cell_type": "code",
      "metadata": {
        "id": "eFWD2cYp0vCM",
        "outputId": "8492dbcb-2942-4021-800a-85c41a0fe2a7",
        "colab": {
          "base_uri": "https://localhost:8080/",
          "height": 230
        }
      },
      "source": [
        "# cantidad de monoambientes con \"x rooms\"\n",
        "data_edit[data_edit['description'].str.contains('monoambiente')]['rooms'].value_counts()"
      ],
      "execution_count": null,
      "outputs": [
        {
          "output_type": "execute_result",
          "data": {
            "text/plain": [
              "9999.0    3676\n",
              "1.0       2641\n",
              "2.0        679\n",
              "3.0        224\n",
              "4.0         68\n",
              "5.0         26\n",
              "6.0         12\n",
              "8.0         10\n",
              "10.0         5\n",
              "7.0          2\n",
              "25.0         1\n",
              "Name: rooms, dtype: int64"
            ]
          },
          "metadata": {
            "tags": []
          },
          "execution_count": 41
        }
      ]
    },
    {
      "cell_type": "code",
      "metadata": {
        "id": "8aOllxxR1s-Y",
        "outputId": "d95ce26c-26e9-42b0-e87c-ba5f21746045",
        "colab": {
          "base_uri": "https://localhost:8080/",
          "height": 34
        }
      },
      "source": [
        "data_edit[data_edit['description'].str.contains('monoambiente')]['rooms'].sum()"
      ],
      "execution_count": null,
      "outputs": [
        {
          "output_type": "execute_result",
          "data": {
            "text/plain": [
              "36761638.0"
            ]
          },
          "metadata": {
            "tags": []
          },
          "execution_count": 42
        }
      ]
    },
    {
      "cell_type": "code",
      "metadata": {
        "id": "l6qWF6u-1JU_",
        "outputId": "b9f44c31-ff54-4148-b2e9-d92c1db5d93e",
        "colab": {
          "base_uri": "https://localhost:8080/",
          "height": 52
        }
      },
      "source": [
        "# A todo lo que dice \"monoambiente\" en room, asignamos 1 room\n",
        "data_edit.loc[data_edit['description'].str.contains('monoambiente'), 'rooms'] = 1\n",
        "# Lo mostramos:\n",
        "data_edit[data_edit['description'].str.contains('monoambiente')]['rooms'].value_counts()"
      ],
      "execution_count": null,
      "outputs": [
        {
          "output_type": "execute_result",
          "data": {
            "text/plain": [
              "1.0    7344\n",
              "Name: rooms, dtype: int64"
            ]
          },
          "metadata": {
            "tags": []
          },
          "execution_count": 43
        }
      ]
    },
    {
      "cell_type": "markdown",
      "metadata": {
        "id": "RAyMXEEk2HjO"
      },
      "source": [
        "Pudimos reducir la cantida de nulls en rooms en la siguiente relación"
      ]
    },
    {
      "cell_type": "code",
      "metadata": {
        "id": "iW5H2qAs2F9x",
        "outputId": "05eb8a92-50bf-43c7-e7f4-cab82aca79e8",
        "colab": {
          "base_uri": "https://localhost:8080/",
          "height": 87
        }
      },
      "source": [
        "print(\"Null en data_original =\", (data_original['rooms'].isnull()).sum())\n",
        "print(\"% Null en data_original =\", round((data_original['rooms'].isnull()).sum() / data_edit.shape[0]*100,2),\"%\")\n",
        "print(\"Null en data_edit =\", (data_edit['rooms'] == 9999).sum())\n",
        "print(\"Pudimos reducir la cantidada de Nulls a = \", round((data_edit['rooms'] == 9999).sum() / data_edit.shape[0]*100,2),\"%\")"
      ],
      "execution_count": null,
      "outputs": [
        {
          "output_type": "stream",
          "text": [
            "Null en data_original = 73830\n",
            "% Null en data_original = 60.91 %\n",
            "Null en data_edit = 48413\n",
            "Pudimos reducir la cantidada de Nulls a =  39.94 %\n"
          ],
          "name": "stdout"
        }
      ]
    },
    {
      "cell_type": "markdown",
      "metadata": {
        "id": "6jIvwhqkC7Kb"
      },
      "source": [
        "Pasamos los registros \"9999\" a Null postas!"
      ]
    },
    {
      "cell_type": "code",
      "metadata": {
        "id": "MnQll-SHCvFc",
        "outputId": "080b9db6-9c6c-42a6-d930-07704be17e27",
        "colab": {
          "base_uri": "https://localhost:8080/",
          "height": 34
        }
      },
      "source": [
        "data_edit.loc[data_edit['rooms'] == 9999, 'rooms'] = np.nan\n",
        "data_edit['rooms'].isnull().sum()"
      ],
      "execution_count": null,
      "outputs": [
        {
          "output_type": "execute_result",
          "data": {
            "text/plain": [
              "48413"
            ]
          },
          "metadata": {
            "tags": []
          },
          "execution_count": 45
        }
      ]
    },
    {
      "cell_type": "markdown",
      "metadata": {
        "id": "YJdR0FYqVVSF"
      },
      "source": [
        "# Superficie\n",
        "\n",
        "Sabemos qué la cantidad de valores faltantes son:\\\n",
        " surface_covered_in_m2 =  0.164222\\\n",
        " surface_total_in_m2   =  0.324435\n",
        "\n",
        "> m2 totales\n",
        " \n",
        "\n"
      ]
    },
    {
      "cell_type": "markdown",
      "metadata": {
        "id": "aix9NGfeH-i3"
      },
      "source": [
        "Listamos los datos de superficies m2 totales"
      ]
    },
    {
      "cell_type": "code",
      "metadata": {
        "id": "gHKF_wjNVdNU",
        "outputId": "dfddfa08-9227-4ae9-a337-c4f73d968bd4",
        "colab": {
          "base_uri": "https://localhost:8080/",
          "height": 230
        }
      },
      "source": [
        "data_edit[\"surface_total_in_m2\"].value_counts().sort_index()"
      ],
      "execution_count": null,
      "outputs": [
        {
          "output_type": "execute_result",
          "data": {
            "text/plain": [
              "0.0         383\n",
              "10.0         21\n",
              "11.0          8\n",
              "12.0         12\n",
              "13.0          6\n",
              "           ... \n",
              "100350.0      1\n",
              "107000.0      4\n",
              "110000.0      3\n",
              "154438.0      1\n",
              "200000.0      2\n",
              "Name: surface_total_in_m2, Length: 1687, dtype: int64"
            ]
          },
          "metadata": {
            "tags": []
          },
          "execution_count": 46
        }
      ]
    },
    {
      "cell_type": "markdown",
      "metadata": {
        "id": "YQUQdcaBSmRL"
      },
      "source": [
        "Algunos estadísticos descriptivos iniciales sobre m2 totales:"
      ]
    },
    {
      "cell_type": "code",
      "metadata": {
        "id": "N1vhvi0PV1JS",
        "outputId": "92ec8dcd-69f0-465c-bf3f-1ff09f9ea516",
        "colab": {
          "base_uri": "https://localhost:8080/",
          "height": 141
        }
      },
      "source": [
        "print(\"Cant Nulos:\", data_edit[\"surface_total_in_m2\"].isna().sum())\n",
        "print(\"Media de m2:\", data_edit['surface_total_in_m2'].mean())\n",
        "print(\"m2 más fr:\", data_edit['surface_total_in_m2'].mode())\n",
        "print(\"mediana m2:\", data_edit['surface_total_in_m2'].median())\n",
        "print(\"max m2:\", data_edit['surface_total_in_m2'].max())\n",
        "print(\"min m2:\", data_edit['surface_total_in_m2'].min())"
      ],
      "execution_count": null,
      "outputs": [
        {
          "output_type": "stream",
          "text": [
            "Cant Nulos: 39328\n",
            "Media de m2: 233.79532799296635\n",
            "m2 más fr: 0    50.0\n",
            "dtype: float64\n",
            "mediana m2: 84.0\n",
            "max m2: 200000.0\n",
            "min m2: 0.0\n"
          ],
          "name": "stdout"
        }
      ]
    },
    {
      "cell_type": "markdown",
      "metadata": {
        "id": "z0Lsm92DS_Xl"
      },
      "source": [
        "Vemos que hay superfiecies totales de 0 m2. Cuántas hay?"
      ]
    },
    {
      "cell_type": "code",
      "metadata": {
        "id": "c6pldyrpTmjm",
        "outputId": "fd5d3ae0-ed9b-4caf-976f-3b13d9fb597c",
        "colab": {
          "base_uri": "https://localhost:8080/",
          "height": 34
        }
      },
      "source": [
        "sup_1 = (data_edit['surface_total_in_m2']==0).sum()\n",
        "sup_1"
      ],
      "execution_count": null,
      "outputs": [
        {
          "output_type": "execute_result",
          "data": {
            "text/plain": [
              "383"
            ]
          },
          "metadata": {
            "tags": []
          },
          "execution_count": 48
        }
      ]
    },
    {
      "cell_type": "markdown",
      "metadata": {
        "id": "5MSCLlsRIjc-"
      },
      "source": [
        "Nulls?"
      ]
    },
    {
      "cell_type": "code",
      "metadata": {
        "id": "vMic7XrZIlbk",
        "outputId": "2440620f-a809-440d-9298-f385e135c94a",
        "colab": {
          "base_uri": "https://localhost:8080/",
          "height": 34
        }
      },
      "source": [
        "sup_2 = data_edit['surface_total_in_m2'].isna().sum()\n",
        "sup_2"
      ],
      "execution_count": null,
      "outputs": [
        {
          "output_type": "execute_result",
          "data": {
            "text/plain": [
              "39328"
            ]
          },
          "metadata": {
            "tags": []
          },
          "execution_count": 49
        }
      ]
    },
    {
      "cell_type": "markdown",
      "metadata": {
        "id": "g-J7GPcSD2dZ"
      },
      "source": [
        "Separamos los m2 en cuartiles"
      ]
    },
    {
      "cell_type": "code",
      "metadata": {
        "id": "vBQpa3IeWbij",
        "outputId": "f90c9e45-1507-4930-c5ae-afef743ccdf8",
        "colab": {
          "base_uri": "https://localhost:8080/",
          "height": 87
        }
      },
      "source": [
        "cuartiles_m2_T = data_edit['surface_total_in_m2'].quantile([0.25,0.5,0.75])\n",
        "cuartiles_m2_T"
      ],
      "execution_count": null,
      "outputs": [
        {
          "output_type": "execute_result",
          "data": {
            "text/plain": [
              "0.25     50.0\n",
              "0.50     84.0\n",
              "0.75    200.0\n",
              "Name: surface_total_in_m2, dtype: float64"
            ]
          },
          "metadata": {
            "tags": []
          },
          "execution_count": 50
        }
      ]
    },
    {
      "cell_type": "markdown",
      "metadata": {
        "id": "7K3FH_tZAmWh"
      },
      "source": [
        "> m2 cuviertos\\\n"
      ]
    },
    {
      "cell_type": "markdown",
      "metadata": {
        "id": "rQ-d35Z1IBGZ"
      },
      "source": [
        "Vemos si hay difeencias entre los DF (editado vs original)"
      ]
    },
    {
      "cell_type": "code",
      "metadata": {
        "id": "xNpBNSIUDIgv",
        "outputId": "90134a40-de5b-436e-feac-1add6895fc8a",
        "colab": {
          "base_uri": "https://localhost:8080/",
          "height": 70
        }
      },
      "source": [
        "Test_1=data_original[\"surface_covered_in_m2\"]==data_edit[\"surface_covered_in_m2\"]\n",
        "Test_1.value_counts()"
      ],
      "execution_count": null,
      "outputs": [
        {
          "output_type": "execute_result",
          "data": {
            "text/plain": [
              "True     101311\n",
              "False     19909\n",
              "Name: surface_covered_in_m2, dtype: int64"
            ]
          },
          "metadata": {
            "tags": []
          },
          "execution_count": 51
        }
      ]
    },
    {
      "cell_type": "markdown",
      "metadata": {
        "id": "Es9WI14VI-zT"
      },
      "source": [
        "Veamos cuántas propiedades no tienen valores para superficie cuvierta."
      ]
    },
    {
      "cell_type": "code",
      "metadata": {
        "id": "TYWJpVHeBA8O",
        "outputId": "4b9ba6dd-9ec1-4617-8ffe-1fe8f3c86aa8",
        "colab": {
          "base_uri": "https://localhost:8080/",
          "height": 34
        }
      },
      "source": [
        "data_edit[\"surface_covered_in_m2\"].isna().sum()"
      ],
      "execution_count": null,
      "outputs": [
        {
          "output_type": "execute_result",
          "data": {
            "text/plain": [
              "19909"
            ]
          },
          "metadata": {
            "tags": []
          },
          "execution_count": 52
        }
      ]
    },
    {
      "cell_type": "code",
      "metadata": {
        "id": "deVdgQgqBL2L",
        "outputId": "c3024e58-af24-4b84-cc19-d7b7f1ad4fec",
        "colab": {
          "base_uri": "https://localhost:8080/",
          "height": 34
        }
      },
      "source": [
        "# Esto es solo para mostrar que usar isna() o isnull(), en este caso es lo mismo.\n",
        "data_edit[\"surface_covered_in_m2\"].isnull().sum()"
      ],
      "execution_count": null,
      "outputs": [
        {
          "output_type": "execute_result",
          "data": {
            "text/plain": [
              "19909"
            ]
          },
          "metadata": {
            "tags": []
          },
          "execution_count": 53
        }
      ]
    },
    {
      "cell_type": "markdown",
      "metadata": {
        "id": "vnZoYWOwTvlZ"
      },
      "source": [
        "Algunos estadísticos iniciales descriptivos sobre m2 cueviertos"
      ]
    },
    {
      "cell_type": "code",
      "metadata": {
        "id": "PkEtARu5Yu5R",
        "outputId": "9c5dbdc9-6063-4f0a-dea2-0d8d16a45f21",
        "colab": {
          "base_uri": "https://localhost:8080/",
          "height": 123
        }
      },
      "source": [
        "print(\"Cant Nulos inicial:\", data_original[\"surface_covered_in_m2\"].isna().sum())\n",
        "print(\"Media de m2 inicial:\", data_original['surface_covered_in_m2'].mean())\n",
        "print(\"m2 más fr inicial:\", data_original['surface_covered_in_m2'].mode())\n",
        "print(\"mediana m2: inicial\", data_original['surface_covered_in_m2'].median())\n",
        "print(\"m2_0 inicial:\", (data_original['surface_covered_in_m2']== 0).sum()) "
      ],
      "execution_count": null,
      "outputs": [
        {
          "output_type": "stream",
          "text": [
            "Cant Nulos inicial: 19907\n",
            "Media de m2 inicial: 133.05018112186985\n",
            "m2 más fr inicial: 0    40.0\n",
            "dtype: float64\n",
            "mediana m2: inicial 75.0\n",
            "m2_0 inicial: 2\n"
          ],
          "name": "stdout"
        }
      ]
    },
    {
      "cell_type": "markdown",
      "metadata": {
        "id": "Zy05DyuoVQdM"
      },
      "source": [
        "Sumando todas las categorías, tenemos el tamaño del DF"
      ]
    },
    {
      "cell_type": "code",
      "metadata": {
        "id": "kgRYDHeYVnEC",
        "outputId": "899deece-67b3-47be-d429-8a0e9ac6c602",
        "colab": {
          "base_uri": "https://localhost:8080/",
          "height": 143
        }
      },
      "source": [
        "sup_2 = data_edit[\"surface_covered_in_m2\"] == 0\n",
        "print(\"m2_cuv_0:\", sup_2.sum())\n",
        "sup_3 = data_edit[\"surface_covered_in_m2\"].notnull()\n",
        "print(\"m2_cuv_>_0:\", sup_3.sum())\n",
        "sup_4 = data_edit[\"surface_covered_in_m2\"].isnull()\n",
        "print(\"sup_null:\", sup_4.sum())\n",
        "test_2 = (sup_2 + sup_3 + sup_4).sum() == data_edit.shape[0]\n",
        "print(test_2)"
      ],
      "execution_count": null,
      "outputs": [
        {
          "output_type": "stream",
          "text": [
            "m2_cuv_0: 0\n",
            "m2_cuv_>_0: 101311\n",
            "sup_null: 19909\n",
            "True\n"
          ],
          "name": "stdout"
        },
        {
          "output_type": "stream",
          "text": [
            "/usr/local/lib/python3.6/dist-packages/pandas/core/computation/expressions.py:201: UserWarning: evaluating in Python space because the '+' operator is not supported by numexpr for the bool dtype, use '|' instead\n",
            "  f\"evaluating in Python space because the {repr(op_str)} \"\n"
          ],
          "name": "stderr"
        }
      ]
    },
    {
      "cell_type": "markdown",
      "metadata": {
        "id": "_XdWj2McETwP"
      },
      "source": [
        "Separamos en cuartiles los m2 cubiertos\n",
        "\n",
        "\n"
      ]
    },
    {
      "cell_type": "code",
      "metadata": {
        "id": "XcF_eOlEYvCJ",
        "outputId": "f172f1ff-de35-4690-ae50-648eca011f37",
        "colab": {
          "base_uri": "https://localhost:8080/",
          "height": 87
        }
      },
      "source": [
        "cuartiles_m2_cuv = data_edit['surface_covered_in_m2'].quantile([0.25,0.5,0.75])\n",
        "cuartiles_m2_cuv"
      ],
      "execution_count": null,
      "outputs": [
        {
          "output_type": "execute_result",
          "data": {
            "text/plain": [
              "0.25     45.0\n",
              "0.50     75.0\n",
              "0.75    150.0\n",
              "Name: surface_covered_in_m2, dtype: float64"
            ]
          },
          "metadata": {
            "tags": []
          },
          "execution_count": 56
        }
      ]
    },
    {
      "cell_type": "markdown",
      "metadata": {
        "id": "G9P7kFdyEb9_"
      },
      "source": [
        "Evaluamos si los m2 cuviertos son mayores que los totales en el mimsmo registro"
      ]
    },
    {
      "cell_type": "code",
      "metadata": {
        "id": "34Q4Cw2UYvF1",
        "outputId": "62e2843c-2fef-4610-9f10-f2439e663846",
        "colab": {
          "base_uri": "https://localhost:8080/",
          "height": 70
        }
      },
      "source": [
        "test_3 = (data_edit[\"surface_covered_in_m2\"] > data_edit[\"surface_total_in_m2\"]).value_counts()\n",
        "test_3"
      ],
      "execution_count": null,
      "outputs": [
        {
          "output_type": "execute_result",
          "data": {
            "text/plain": [
              "False    120114\n",
              "True       1106\n",
              "dtype: int64"
            ]
          },
          "metadata": {
            "tags": []
          },
          "execution_count": 57
        }
      ]
    },
    {
      "cell_type": "markdown",
      "metadata": {
        "id": "kD0yaE0aEoZT"
      },
      "source": [
        "Grafico de cuartiles de sup total"
      ]
    },
    {
      "cell_type": "code",
      "metadata": {
        "id": "ThpXXwsl_zQM",
        "outputId": "c41de1cc-3de6-4108-f714-37501ee1b41a",
        "colab": {
          "base_uri": "https://localhost:8080/",
          "height": 353
        }
      },
      "source": [
        "data_box = data_edit[\"surface_total_in_m2\"]\n",
        "sns.boxplot(cuartiles_m2_cuv, data=data_edit)"
      ],
      "execution_count": null,
      "outputs": [
        {
          "output_type": "stream",
          "text": [
            "/usr/local/lib/python3.6/dist-packages/seaborn/_decorators.py:43: FutureWarning: Pass the following variable as a keyword arg: x. From version 0.12, the only valid positional argument will be `data`, and passing other arguments without an explicit keyword will result in an error or misinterpretation.\n",
            "  FutureWarning\n"
          ],
          "name": "stderr"
        },
        {
          "output_type": "execute_result",
          "data": {
            "text/plain": [
              "<matplotlib.axes._subplots.AxesSubplot at 0x7f130765f668>"
            ]
          },
          "metadata": {
            "tags": []
          },
          "execution_count": 58
        },
        {
          "output_type": "display_data",
          "data": {
            "image/png": "[encoded data removed]",
            "text/plain": [
              "<Figure size 432x288 with 1 Axes>"
            ]
          },
          "metadata": {
            "tags": [],
            "needs_background": "light"
          }
        }
      ]
    },
    {
      "cell_type": "markdown",
      "metadata": {
        "id": "PuIJPPRsEunB"
      },
      "source": [
        "Contamos la cantidad de propiedades con valores nulos en sup total o cubierta"
      ]
    },
    {
      "cell_type": "code",
      "metadata": {
        "id": "kWZ-H9tybnJw",
        "outputId": "aa540e79-2e67-4972-8d53-29614b5b8308",
        "colab": {
          "base_uri": "https://localhost:8080/",
          "height": 87
        }
      },
      "source": [
        "print(\"Sup_tot o Sup_cuv Null:\", (data_edit['surface_covered_in_m2'].isna() | data_edit['surface_total_in_m2'].isna()).sum())\n",
        "print(\"Sup_cuv_null:\", data_edit['surface_covered_in_m2'].isna().sum())\n",
        "print(\"Sup_tot_null:\", data_edit['surface_total_in_m2'].isna().sum())\n",
        "print(\"Sup_tot y Sup_cuv Null:\", (data_edit['surface_covered_in_m2'].isna() & data_edit['surface_total_in_m2'].isna()).sum())"
      ],
      "execution_count": null,
      "outputs": [
        {
          "output_type": "stream",
          "text": [
            "Sup_tot o Sup_cuv Null: 46868\n",
            "Sup_cuv_null: 19909\n",
            "Sup_tot_null: 39328\n",
            "Sup_tot y Sup_cuv Null: 12369\n"
          ],
          "name": "stdout"
        }
      ]
    },
    {
      "cell_type": "markdown",
      "metadata": {
        "id": "2U8xVJj-E5-s"
      },
      "source": [
        "Vamos a estimar los m2 cubiertos a partir de la cantidad de rooms. Primero buscamos un valor medio de m2 cubiertos por room"
      ]
    },
    {
      "cell_type": "code",
      "metadata": {
        "id": "zKLnCtKjE_Hq",
        "outputId": "262db6b7-f0d4-4d49-c3b2-8123b3739122",
        "colab": {
          "base_uri": "https://localhost:8080/",
          "height": 197
        }
      },
      "source": [
        "tabla_m2 = data_edit.pivot_table(index='property_type', aggfunc={'rooms':'mean', 'price_aprox_usd':'mean', 'surface_total_in_m2':'mean' })\n",
        "tabla_m2['m2_room'] = tabla_m2['surface_total_in_m2'] / tabla_m2['rooms']\n",
        "tabla_m2"
      ],
      "execution_count": null,
      "outputs": [
        {
          "output_type": "execute_result",
          "data": {
            "text/html": [
              "<div>\n",
              "<style scoped>\n",
              "    .dataframe tbody tr th:only-of-type {\n",
              "        vertical-align: middle;\n",
              "    }\n",
              "\n",
              "    .dataframe tbody tr th {\n",
              "        vertical-align: top;\n",
              "    }\n",
              "\n",
              "    .dataframe thead th {\n",
              "        text-align: right;\n",
              "    }\n",
              "</style>\n",
              "<table border=\"1\" class=\"dataframe\">\n",
              "  <thead>\n",
              "    <tr style=\"text-align: right;\">\n",
              "      <th></th>\n",
              "      <th>price_aprox_usd</th>\n",
              "      <th>rooms</th>\n",
              "      <th>surface_total_in_m2</th>\n",
              "      <th>m2_room</th>\n",
              "    </tr>\n",
              "    <tr>\n",
              "      <th>property_type</th>\n",
              "      <th></th>\n",
              "      <th></th>\n",
              "      <th></th>\n",
              "      <th></th>\n",
              "    </tr>\n",
              "  </thead>\n",
              "  <tbody>\n",
              "    <tr>\n",
              "      <th>PH</th>\n",
              "      <td>147689.419611</td>\n",
              "      <td>3.178985</td>\n",
              "      <td>122.297417</td>\n",
              "      <td>38.470588</td>\n",
              "    </tr>\n",
              "    <tr>\n",
              "      <th>apartment</th>\n",
              "      <td>187406.880406</td>\n",
              "      <td>2.419855</td>\n",
              "      <td>96.605873</td>\n",
              "      <td>39.922173</td>\n",
              "    </tr>\n",
              "    <tr>\n",
              "      <th>house</th>\n",
              "      <td>329696.776384</td>\n",
              "      <td>4.292335</td>\n",
              "      <td>507.438686</td>\n",
              "      <td>118.219741</td>\n",
              "    </tr>\n",
              "    <tr>\n",
              "      <th>store</th>\n",
              "      <td>440257.062940</td>\n",
              "      <td>2.504110</td>\n",
              "      <td>494.512403</td>\n",
              "      <td>197.480336</td>\n",
              "    </tr>\n",
              "  </tbody>\n",
              "</table>\n",
              "</div>"
            ],
            "text/plain": [
              "               price_aprox_usd     rooms  surface_total_in_m2     m2_room\n",
              "property_type                                                            \n",
              "PH               147689.419611  3.178985           122.297417   38.470588\n",
              "apartment        187406.880406  2.419855            96.605873   39.922173\n",
              "house            329696.776384  4.292335           507.438686  118.219741\n",
              "store            440257.062940  2.504110           494.512403  197.480336"
            ]
          },
          "metadata": {
            "tags": []
          },
          "execution_count": 60
        }
      ]
    },
    {
      "cell_type": "code",
      "metadata": {
        "id": "eJYAAoYeFExx",
        "outputId": "e1fbce6f-e128-41be-9677-87484b206d8d",
        "colab": {
          "base_uri": "https://localhost:8080/",
          "height": 158
        }
      },
      "source": [
        "for x in data_edit['property_type'].unique():\n",
        "  this_mask = data_edit['property_type'].str.contains(x) & data_edit[\"surface_covered_in_m2\"].isnull() & data_edit[\"rooms\"].notnull()\n",
        "  print(this_mask.sum())\n",
        "  multiplicador = tabla_m2.loc[tabla_m2.index.str.contains(x)]['m2_room']\n",
        "  print(multiplicador[0])\n",
        "  data_edit.loc[this_mask, 'surface_covered_in_m2'] = data_edit[this_mask][\"rooms\"] * tabla_m2.loc[tabla_m2.index.str.contains(x)]['m2_room'][0]"
      ],
      "execution_count": null,
      "outputs": [
        {
          "output_type": "stream",
          "text": [
            "574\n",
            "38.470588157506825\n",
            "5985\n",
            "39.922172792198864\n",
            "2852\n",
            "118.21974094742617\n",
            "88\n",
            "197.48033591578448\n"
          ],
          "name": "stdout"
        }
      ]
    },
    {
      "cell_type": "markdown",
      "metadata": {
        "id": "LNNisTY_FXUT"
      },
      "source": [
        "Al final logramos reducir los null completamente\n",
        "\n"
      ]
    },
    {
      "cell_type": "code",
      "metadata": {
        "id": "yCprqgEpFXcc",
        "outputId": "8462b29c-dabd-4394-aaa7-4a4821f21801",
        "colab": {
          "base_uri": "https://localhost:8080/",
          "height": 52
        }
      },
      "source": [
        "print(data_original[\"surface_covered_in_m2\"].isnull().sum())\n",
        "print(data_edit[\"surface_covered_in_m2\"].isnull().sum())"
      ],
      "execution_count": null,
      "outputs": [
        {
          "output_type": "stream",
          "text": [
            "19907\n",
            "10410\n"
          ],
          "name": "stdout"
        }
      ]
    },
    {
      "cell_type": "markdown",
      "metadata": {
        "id": "3cr6_gr-FfqW"
      },
      "source": [
        "Ya con la columna \"surface_covered_in_m2\" completa, volvemos a estimar los null de \"rooms\""
      ]
    },
    {
      "cell_type": "code",
      "metadata": {
        "id": "wB-kumjxFiNm",
        "outputId": "c95837d7-f028-4ffc-bf32-13932fbc8d27",
        "colab": {
          "base_uri": "https://localhost:8080/",
          "height": 158
        }
      },
      "source": [
        "for x in data_edit['property_type'].unique():\n",
        "  this_mask = data_edit['property_type'].str.contains(x) & data_edit[\"surface_covered_in_m2\"].notnull() & data_edit[\"rooms\"].isnull()\n",
        "  print(this_mask.sum())\n",
        "  multiplicador = tabla_m2.loc[tabla_m2.index.str.contains(x)]['m2_room'][0]\n",
        "  print(multiplicador)\n",
        "  data_edit.loc[this_mask, 'rooms'] = data_edit[this_mask][\"surface_covered_in_m2\"] / tabla_m2.loc[tabla_m2.index.str.contains(x)]['m2_room'][0]"
      ],
      "execution_count": null,
      "outputs": [
        {
          "output_type": "stream",
          "text": [
            "995\n",
            "38.470588157506825\n",
            "15484\n",
            "39.922172792198864\n",
            "18646\n",
            "118.21974094742617\n",
            "2878\n",
            "197.48033591578448\n"
          ],
          "name": "stdout"
        }
      ]
    },
    {
      "cell_type": "markdown",
      "metadata": {
        "id": "SyFjbGzRN6H9"
      },
      "source": [
        "Comparación de valoes originales y transformados:"
      ]
    },
    {
      "cell_type": "code",
      "metadata": {
        "id": "DQILFwXmFiWT",
        "outputId": "9ca081ea-b0f6-47ed-9dc7-2c413b0d1d68",
        "colab": {
          "base_uri": "https://localhost:8080/",
          "height": 87
        }
      },
      "source": [
        "print((data_original[\"rooms\"].isnull()).sum())\n",
        "print((data_edit[\"rooms\"].isnull()).sum())\n",
        "\n",
        "print((data_original[\"surface_covered_in_m2\"].isnull()).sum())\n",
        "print((data_edit[\"surface_covered_in_m2\"].isnull()).sum())"
      ],
      "execution_count": null,
      "outputs": [
        {
          "output_type": "stream",
          "text": [
            "73830\n",
            "10410\n",
            "19907\n",
            "10410\n"
          ],
          "name": "stdout"
        }
      ]
    },
    {
      "cell_type": "markdown",
      "metadata": {
        "id": "a1R4J38_OKpJ"
      },
      "source": [
        "Vemos como variaron los estadísticos"
      ]
    },
    {
      "cell_type": "code",
      "metadata": {
        "id": "wq0DBwdgHLsE",
        "outputId": "8ed11e79-b0d7-4cf0-f15c-a99677825ef2",
        "colab": {
          "base_uri": "https://localhost:8080/",
          "height": 52
        }
      },
      "source": [
        "print(\"Media Sup Cuv Original =\", round(data_original['surface_covered_in_m2'].mean(),2))\n",
        "print(\"Media Sup Cuv Edit =\",round(data_edit['surface_covered_in_m2'].mean(),2))"
      ],
      "execution_count": null,
      "outputs": [
        {
          "output_type": "stream",
          "text": [
            "Media Sup Cuv Original = 133.05\n",
            "Media Sup Cuv Edit = 141.5\n"
          ],
          "name": "stdout"
        }
      ]
    },
    {
      "cell_type": "code",
      "metadata": {
        "id": "T7IR47xsHOEn",
        "outputId": "92afbf99-3fd3-4779-cae8-2f902b1de0dc",
        "colab": {
          "base_uri": "https://localhost:8080/",
          "height": 52
        }
      },
      "source": [
        "print(\"Media rooms Original =\",round(data_original['rooms'].mean(),2))\n",
        "print(\"Media rooms Edit =\",round(data_edit['rooms'].mean(),2))"
      ],
      "execution_count": null,
      "outputs": [
        {
          "output_type": "stream",
          "text": [
            "Media rooms Original = 3.08\n",
            "Media rooms Edit = 2.63\n"
          ],
          "name": "stdout"
        }
      ]
    },
    {
      "cell_type": "markdown",
      "metadata": {
        "id": "nNhVw8uuHUlj"
      },
      "source": [
        "Creamos una columna para almacenar los valores de m2 por room medios según el tipo de propiedad"
      ]
    },
    {
      "cell_type": "code",
      "metadata": {
        "id": "M_aJtFLIHV7Q",
        "outputId": "ca19888b-f618-45ca-dc4c-b3863a3e074e",
        "colab": {
          "base_uri": "https://localhost:8080/",
          "height": 105
        }
      },
      "source": [
        "for x in data_edit['property_type'].unique():\n",
        "  this_mask = data_edit['property_type'].str.contains(x)\n",
        "  data_edit.loc[this_mask, 'fran_m2_room_xtipo'] = tabla_m2.loc[tabla_m2.index.str.contains(x)]['m2_room'][0]\n",
        "data_edit['fran_m2_room_xtipo'].value_counts()"
      ],
      "execution_count": null,
      "outputs": [
        {
          "output_type": "execute_result",
          "data": {
            "text/plain": [
              "39.922173     71065\n",
              "118.219741    40268\n",
              "38.470588      5751\n",
              "197.480336     4136\n",
              "Name: fran_m2_room_xtipo, dtype: int64"
            ]
          },
          "metadata": {
            "tags": []
          },
          "execution_count": 67
        }
      ]
    },
    {
      "cell_type": "markdown",
      "metadata": {
        "id": "EZFwAxtIx0uj"
      },
      "source": [
        "Creamos una columna para almacenar los m2_room de cada propiedad\n",
        "\n"
      ]
    },
    {
      "cell_type": "code",
      "metadata": {
        "id": "InNRq-Rux05U",
        "outputId": "554f66ec-b77f-43b3-a853-551d07e7946a",
        "colab": {
          "base_uri": "https://localhost:8080/",
          "height": 230
        }
      },
      "source": [
        "for x in data_edit['property_type'].unique():\n",
        "  this_mask = data_edit['property_type'].str.contains(x) & data_edit[\"surface_covered_in_m2\"].notnull() & data_edit[\"rooms\"].notnull()\n",
        "  data_edit.loc[this_mask, 'fran_m2_room'] = data_edit[\"surface_covered_in_m2\"] / data_edit[\"rooms\"]\n",
        "data_edit['fran_m2_room'].value_counts()"
      ],
      "execution_count": null,
      "outputs": [
        {
          "output_type": "execute_result",
          "data": {
            "text/plain": [
              "39.922173     20366\n",
              "118.219741    16148\n",
              "118.219741     3000\n",
              "197.480336     2929\n",
              "20.000000      2526\n",
              "              ...  \n",
              "59.857143         1\n",
              "35.285714         1\n",
              "27.625000         1\n",
              "266.666667        1\n",
              "56.222222         1\n",
              "Name: fran_m2_room, Length: 1752, dtype: int64"
            ]
          },
          "metadata": {
            "tags": []
          },
          "execution_count": 68
        }
      ]
    },
    {
      "cell_type": "code",
      "metadata": {
        "id": "uVMyvh6zHoNp",
        "outputId": "09c66377-8e62-453f-c644-3a53bfdf8211",
        "colab": {
          "base_uri": "https://localhost:8080/",
          "height": 230
        }
      },
      "source": [
        "data_edit['surface_total_in_m2'] / data_edit['fran_m2_room_xtipo']"
      ],
      "execution_count": null,
      "outputs": [
        {
          "output_type": "execute_result",
          "data": {
            "text/plain": [
              "0         1.429664\n",
              "1              NaN\n",
              "2         1.377681\n",
              "3              NaN\n",
              "4         0.876706\n",
              "            ...   \n",
              "121215    2.830507\n",
              "121216    3.045177\n",
              "121217    1.152242\n",
              "121218    1.202339\n",
              "121219    1.928753\n",
              "Length: 121220, dtype: float64"
            ]
          },
          "metadata": {
            "tags": []
          },
          "execution_count": 69
        }
      ]
    },
    {
      "cell_type": "markdown",
      "metadata": {
        "id": "XrefO3PlsERc"
      },
      "source": [
        "Si m2 cuviertos son mayores que los m2 totales, hay error"
      ]
    },
    {
      "cell_type": "code",
      "metadata": {
        "id": "sb-M3ZUeHrnG",
        "outputId": "df5579d3-9165-4989-9561-cd679c1741d1",
        "colab": {
          "base_uri": "https://localhost:8080/",
          "height": 34
        }
      },
      "source": [
        "superficie = data_edit['surface_covered_in_m2'] > data_edit['surface_total_in_m2']\n",
        "superficie.sum()\n",
        "#vemos que hay 3898 registros con este error"
      ],
      "execution_count": null,
      "outputs": [
        {
          "output_type": "execute_result",
          "data": {
            "text/plain": [
              "3898"
            ]
          },
          "metadata": {
            "tags": []
          },
          "execution_count": 70
        }
      ]
    },
    {
      "cell_type": "markdown",
      "metadata": {
        "id": "Sw6Sq2XQwsM1"
      },
      "source": [
        "Ploteamos lo que tenemos:"
      ]
    },
    {
      "cell_type": "code",
      "metadata": {
        "id": "I0NfKbTlwsVN",
        "outputId": "3646188f-c47e-4578-e00c-65ee76b4d254",
        "colab": {
          "base_uri": "https://localhost:8080/",
          "height": 282
        }
      },
      "source": [
        "data_edit['fran_m2_room'].plot()"
      ],
      "execution_count": null,
      "outputs": [
        {
          "output_type": "execute_result",
          "data": {
            "text/plain": [
              "<matplotlib.axes._subplots.AxesSubplot at 0x7f13075d0c88>"
            ]
          },
          "metadata": {
            "tags": []
          },
          "execution_count": 71
        },
        {
          "output_type": "display_data",
          "data": {
            "image/png": "[encoded data removed]",
            "text/plain": [
              "<Figure size 432x288 with 1 Axes>"
            ]
          },
          "metadata": {
            "tags": [],
            "needs_background": "light"
          }
        }
      ]
    },
    {
      "cell_type": "markdown",
      "metadata": {
        "id": "oi3z5Q5LyB3x"
      },
      "source": [
        "Descripción de la columna 'fran_m2_room'"
      ]
    },
    {
      "cell_type": "code",
      "metadata": {
        "id": "WC2gmYblyCBz",
        "outputId": "73e50789-925b-4d3f-9849-78d08f70e9a8",
        "colab": {
          "base_uri": "https://localhost:8080/",
          "height": 176
        }
      },
      "source": [
        "data_edit[data_edit['fran_m2_room'].notnull()]['fran_m2_room'].describe()"
      ],
      "execution_count": null,
      "outputs": [
        {
          "output_type": "execute_result",
          "data": {
            "text/plain": [
              "count    1.108020e+05\n",
              "mean              inf\n",
              "std               NaN\n",
              "min      1.428571e-01\n",
              "25%      2.533333e+01\n",
              "50%      3.992217e+01\n",
              "75%      6.666667e+01\n",
              "max               inf\n",
              "Name: fran_m2_room, dtype: float64"
            ]
          },
          "metadata": {
            "tags": []
          },
          "execution_count": 72
        }
      ]
    },
    {
      "cell_type": "markdown",
      "metadata": {
        "id": "qPIEYNfxyQHq"
      },
      "source": [
        "Descripción de la columna \"fran_m2_room\" para cuando los m2 son menores a 118"
      ]
    },
    {
      "cell_type": "code",
      "metadata": {
        "id": "msa5QLvdyQSU",
        "outputId": "a99567d1-bfc1-4ff1-9644-931c39690734",
        "colab": {
          "base_uri": "https://localhost:8080/",
          "height": 176
        }
      },
      "source": [
        "mask = data_edit['fran_m2_room'] < 118\n",
        "data_edit[mask]['fran_m2_room'].describe()"
      ],
      "execution_count": null,
      "outputs": [
        {
          "output_type": "execute_result",
          "data": {
            "text/plain": [
              "count    85660.000000\n",
              "mean        33.490579\n",
              "std         13.896766\n",
              "min          0.142857\n",
              "25%         23.333333\n",
              "50%         33.333333\n",
              "75%         39.922173\n",
              "max        117.800000\n",
              "Name: fran_m2_room, dtype: float64"
            ]
          },
          "metadata": {
            "tags": []
          },
          "execution_count": 73
        }
      ]
    },
    {
      "cell_type": "markdown",
      "metadata": {
        "id": "FIQxHBhMy1Pq"
      },
      "source": [
        "Tabla de m2 por localidad y tipo de propiedades."
      ]
    },
    {
      "cell_type": "code",
      "metadata": {
        "id": "usWDTrkSy1Wt",
        "outputId": "c3b64b61-8dbf-43f9-a455-8bae2658a7b8",
        "colab": {
          "base_uri": "https://localhost:8080/",
          "height": 917
        }
      },
      "source": [
        "tabla_m2_room = data_edit[mask].pivot_table('surface_covered_in_m2', 'fran_provincia', columns='property_type')\n",
        "# tabla_m2_room.reindex(tabla_m2_room['property_type'].sort_values(by='apartment', ascending=False).index)\n",
        "tabla_m2_room"
      ],
      "execution_count": null,
      "outputs": [
        {
          "output_type": "execute_result",
          "data": {
            "text/html": [
              "<div>\n",
              "<style scoped>\n",
              "    .dataframe tbody tr th:only-of-type {\n",
              "        vertical-align: middle;\n",
              "    }\n",
              "\n",
              "    .dataframe tbody tr th {\n",
              "        vertical-align: top;\n",
              "    }\n",
              "\n",
              "    .dataframe thead th {\n",
              "        text-align: right;\n",
              "    }\n",
              "</style>\n",
              "<table border=\"1\" class=\"dataframe\">\n",
              "  <thead>\n",
              "    <tr style=\"text-align: right;\">\n",
              "      <th>property_type</th>\n",
              "      <th>PH</th>\n",
              "      <th>apartment</th>\n",
              "      <th>house</th>\n",
              "      <th>store</th>\n",
              "    </tr>\n",
              "    <tr>\n",
              "      <th>fran_provincia</th>\n",
              "      <th></th>\n",
              "      <th></th>\n",
              "      <th></th>\n",
              "      <th></th>\n",
              "    </tr>\n",
              "  </thead>\n",
              "  <tbody>\n",
              "    <tr>\n",
              "      <th>Bs.As. G.B.A. Zona Norte</th>\n",
              "      <td>86.452947</td>\n",
              "      <td>71.725799</td>\n",
              "      <td>188.749618</td>\n",
              "      <td>131.176471</td>\n",
              "    </tr>\n",
              "    <tr>\n",
              "      <th>Bs.As. G.B.A. Zona Oeste</th>\n",
              "      <td>83.906295</td>\n",
              "      <td>56.174654</td>\n",
              "      <td>154.915631</td>\n",
              "      <td>142.733333</td>\n",
              "    </tr>\n",
              "    <tr>\n",
              "      <th>Bs.As. G.B.A. Zona Sur</th>\n",
              "      <td>89.156153</td>\n",
              "      <td>68.128778</td>\n",
              "      <td>152.406136</td>\n",
              "      <td>151.900000</td>\n",
              "    </tr>\n",
              "    <tr>\n",
              "      <th>Buenos Aires Costa Atlántica</th>\n",
              "      <td>85.694223</td>\n",
              "      <td>68.861131</td>\n",
              "      <td>185.486561</td>\n",
              "      <td>205.750000</td>\n",
              "    </tr>\n",
              "    <tr>\n",
              "      <th>Buenos Aires Interior</th>\n",
              "      <td>84.410397</td>\n",
              "      <td>71.972415</td>\n",
              "      <td>161.888288</td>\n",
              "      <td>287.000000</td>\n",
              "    </tr>\n",
              "    <tr>\n",
              "      <th>Capital Federal</th>\n",
              "      <td>92.496568</td>\n",
              "      <td>77.486729</td>\n",
              "      <td>186.027613</td>\n",
              "      <td>92.388235</td>\n",
              "    </tr>\n",
              "    <tr>\n",
              "      <th>Catamarca</th>\n",
              "      <td>NaN</td>\n",
              "      <td>311.818182</td>\n",
              "      <td>170.333333</td>\n",
              "      <td>NaN</td>\n",
              "    </tr>\n",
              "    <tr>\n",
              "      <th>Chaco</th>\n",
              "      <td>NaN</td>\n",
              "      <td>87.454601</td>\n",
              "      <td>156.250000</td>\n",
              "      <td>NaN</td>\n",
              "    </tr>\n",
              "    <tr>\n",
              "      <th>Chubut</th>\n",
              "      <td>78.400000</td>\n",
              "      <td>85.755139</td>\n",
              "      <td>134.388889</td>\n",
              "      <td>84.000000</td>\n",
              "    </tr>\n",
              "    <tr>\n",
              "      <th>Corrientes</th>\n",
              "      <td>85.505252</td>\n",
              "      <td>80.984603</td>\n",
              "      <td>158.691729</td>\n",
              "      <td>NaN</td>\n",
              "    </tr>\n",
              "    <tr>\n",
              "      <th>Córdoba</th>\n",
              "      <td>79.995831</td>\n",
              "      <td>76.652919</td>\n",
              "      <td>194.723204</td>\n",
              "      <td>111.923077</td>\n",
              "    </tr>\n",
              "    <tr>\n",
              "      <th>Entre Ríos</th>\n",
              "      <td>103.894118</td>\n",
              "      <td>68.777844</td>\n",
              "      <td>146.681818</td>\n",
              "      <td>NaN</td>\n",
              "    </tr>\n",
              "    <tr>\n",
              "      <th>Formosa</th>\n",
              "      <td>NaN</td>\n",
              "      <td>39.922173</td>\n",
              "      <td>NaN</td>\n",
              "      <td>NaN</td>\n",
              "    </tr>\n",
              "    <tr>\n",
              "      <th>Jujuy</th>\n",
              "      <td>NaN</td>\n",
              "      <td>106.373959</td>\n",
              "      <td>225.000000</td>\n",
              "      <td>NaN</td>\n",
              "    </tr>\n",
              "    <tr>\n",
              "      <th>La Pampa</th>\n",
              "      <td>NaN</td>\n",
              "      <td>64.396109</td>\n",
              "      <td>126.666667</td>\n",
              "      <td>NaN</td>\n",
              "    </tr>\n",
              "    <tr>\n",
              "      <th>La Rioja</th>\n",
              "      <td>NaN</td>\n",
              "      <td>NaN</td>\n",
              "      <td>195.000000</td>\n",
              "      <td>NaN</td>\n",
              "    </tr>\n",
              "    <tr>\n",
              "      <th>Mendoza</th>\n",
              "      <td>412.341176</td>\n",
              "      <td>96.237689</td>\n",
              "      <td>120.693878</td>\n",
              "      <td>112.222222</td>\n",
              "    </tr>\n",
              "    <tr>\n",
              "      <th>Misiones</th>\n",
              "      <td>123.294117</td>\n",
              "      <td>83.426720</td>\n",
              "      <td>104.289157</td>\n",
              "      <td>NaN</td>\n",
              "    </tr>\n",
              "    <tr>\n",
              "      <th>Neuquén</th>\n",
              "      <td>74.665478</td>\n",
              "      <td>68.875001</td>\n",
              "      <td>152.377358</td>\n",
              "      <td>383.750000</td>\n",
              "    </tr>\n",
              "    <tr>\n",
              "      <th>Río Negro</th>\n",
              "      <td>85.583529</td>\n",
              "      <td>87.747484</td>\n",
              "      <td>149.468085</td>\n",
              "      <td>NaN</td>\n",
              "    </tr>\n",
              "    <tr>\n",
              "      <th>Salta</th>\n",
              "      <td>129.676470</td>\n",
              "      <td>124.943361</td>\n",
              "      <td>168.909091</td>\n",
              "      <td>NaN</td>\n",
              "    </tr>\n",
              "    <tr>\n",
              "      <th>San Juan</th>\n",
              "      <td>NaN</td>\n",
              "      <td>93.606134</td>\n",
              "      <td>165.000000</td>\n",
              "      <td>NaN</td>\n",
              "    </tr>\n",
              "    <tr>\n",
              "      <th>San Luis</th>\n",
              "      <td>NaN</td>\n",
              "      <td>91.172907</td>\n",
              "      <td>150.092593</td>\n",
              "      <td>462.000000</td>\n",
              "    </tr>\n",
              "    <tr>\n",
              "      <th>Santa Cruz</th>\n",
              "      <td>NaN</td>\n",
              "      <td>119.766518</td>\n",
              "      <td>172.125000</td>\n",
              "      <td>NaN</td>\n",
              "    </tr>\n",
              "    <tr>\n",
              "      <th>Santa Fe</th>\n",
              "      <td>89.812091</td>\n",
              "      <td>61.807281</td>\n",
              "      <td>125.262530</td>\n",
              "      <td>30.857143</td>\n",
              "    </tr>\n",
              "    <tr>\n",
              "      <th>Santiago Del Estero</th>\n",
              "      <td>NaN</td>\n",
              "      <td>47.000000</td>\n",
              "      <td>NaN</td>\n",
              "      <td>NaN</td>\n",
              "    </tr>\n",
              "    <tr>\n",
              "      <th>Tierra Del Fuego</th>\n",
              "      <td>NaN</td>\n",
              "      <td>78.745521</td>\n",
              "      <td>131.583333</td>\n",
              "      <td>200.000000</td>\n",
              "    </tr>\n",
              "    <tr>\n",
              "      <th>Tucumán</th>\n",
              "      <td>85.803921</td>\n",
              "      <td>73.276134</td>\n",
              "      <td>187.153846</td>\n",
              "      <td>NaN</td>\n",
              "    </tr>\n",
              "  </tbody>\n",
              "</table>\n",
              "</div>"
            ],
            "text/plain": [
              "property_type                         PH   apartment       house       store\n",
              "fran_provincia                                                              \n",
              "Bs.As. G.B.A. Zona Norte       86.452947   71.725799  188.749618  131.176471\n",
              "Bs.As. G.B.A. Zona Oeste       83.906295   56.174654  154.915631  142.733333\n",
              "Bs.As. G.B.A. Zona Sur         89.156153   68.128778  152.406136  151.900000\n",
              "Buenos Aires Costa Atlántica   85.694223   68.861131  185.486561  205.750000\n",
              "Buenos Aires Interior          84.410397   71.972415  161.888288  287.000000\n",
              "Capital Federal                92.496568   77.486729  186.027613   92.388235\n",
              "Catamarca                            NaN  311.818182  170.333333         NaN\n",
              "Chaco                                NaN   87.454601  156.250000         NaN\n",
              "Chubut                         78.400000   85.755139  134.388889   84.000000\n",
              "Corrientes                     85.505252   80.984603  158.691729         NaN\n",
              "Córdoba                        79.995831   76.652919  194.723204  111.923077\n",
              "Entre Ríos                    103.894118   68.777844  146.681818         NaN\n",
              "Formosa                              NaN   39.922173         NaN         NaN\n",
              "Jujuy                                NaN  106.373959  225.000000         NaN\n",
              "La Pampa                             NaN   64.396109  126.666667         NaN\n",
              "La Rioja                             NaN         NaN  195.000000         NaN\n",
              "Mendoza                       412.341176   96.237689  120.693878  112.222222\n",
              "Misiones                      123.294117   83.426720  104.289157         NaN\n",
              "Neuquén                        74.665478   68.875001  152.377358  383.750000\n",
              "Río Negro                      85.583529   87.747484  149.468085         NaN\n",
              "Salta                         129.676470  124.943361  168.909091         NaN\n",
              "San Juan                             NaN   93.606134  165.000000         NaN\n",
              "San Luis                             NaN   91.172907  150.092593  462.000000\n",
              "Santa Cruz                           NaN  119.766518  172.125000         NaN\n",
              "Santa Fe                       89.812091   61.807281  125.262530   30.857143\n",
              "Santiago Del Estero                  NaN   47.000000         NaN         NaN\n",
              "Tierra Del Fuego                     NaN   78.745521  131.583333  200.000000\n",
              "Tucumán                        85.803921   73.276134  187.153846         NaN"
            ]
          },
          "metadata": {
            "tags": []
          },
          "execution_count": 74
        }
      ]
    },
    {
      "cell_type": "markdown",
      "metadata": {
        "id": "LW4APoFBsUl8"
      },
      "source": [
        "Vemos cómo nos quedan las columnas del DS_edit hasta ahora"
      ]
    },
    {
      "cell_type": "code",
      "metadata": {
        "id": "dlhKDYUFHusc",
        "outputId": "6136578c-0745-4729-c609-c224c660c9b7",
        "colab": {
          "base_uri": "https://localhost:8080/",
          "height": 158
        }
      },
      "source": [
        "data_edit.columns"
      ],
      "execution_count": null,
      "outputs": [
        {
          "output_type": "execute_result",
          "data": {
            "text/plain": [
              "Index(['property_type', 'place_name', 'place_with_parent_names', 'state_name',\n",
              "       'geonames_id', 'lat-lon', 'lat', 'lon', 'price', 'currency',\n",
              "       'price_aprox_local_currency', 'price_aprox_usd', 'surface_total_in_m2',\n",
              "       'surface_covered_in_m2', 'price_usd_per_m2', 'price_per_m2', 'rooms',\n",
              "       'properati_url', 'description', 'title', 'fran_place_levels',\n",
              "       'fran_provincia', 'fran_localidad', 'fran_m2_room_xtipo',\n",
              "       'fran_m2_room'],\n",
              "      dtype='object')"
            ]
          },
          "metadata": {
            "tags": []
          },
          "execution_count": 75
        }
      ]
    },
    {
      "cell_type": "markdown",
      "metadata": {
        "id": "y_lAFBmpwlr2"
      },
      "source": [
        "# Precios y monedas"
      ]
    },
    {
      "cell_type": "markdown",
      "metadata": {
        "id": "Jg9OlkJWIAl6"
      },
      "source": [
        "Algunos estadisticos de los precios"
      ]
    },
    {
      "cell_type": "code",
      "metadata": {
        "id": "MqXGh5_2_Oht",
        "outputId": "28285ae1-f2cb-43ec-a751-bb5a0531baac",
        "colab": {
          "base_uri": "https://localhost:8080/",
          "height": 197
        }
      },
      "source": [
        "tabla_monedas = data_edit.pivot_table(index='currency', aggfunc={'price':'mean', 'price_aprox_usd':'mean', 'surface_total_in_m2':'mean' })\n",
        "for x in tabla_monedas.columns:\n",
        "  tabla_monedas[x] = tabla_monedas[x].apply(lambda x: '%.0f' % x)\n",
        "tabla_monedas"
      ],
      "execution_count": null,
      "outputs": [
        {
          "output_type": "execute_result",
          "data": {
            "text/html": [
              "<div>\n",
              "<style scoped>\n",
              "    .dataframe tbody tr th:only-of-type {\n",
              "        vertical-align: middle;\n",
              "    }\n",
              "\n",
              "    .dataframe tbody tr th {\n",
              "        vertical-align: top;\n",
              "    }\n",
              "\n",
              "    .dataframe thead th {\n",
              "        text-align: right;\n",
              "    }\n",
              "</style>\n",
              "<table border=\"1\" class=\"dataframe\">\n",
              "  <thead>\n",
              "    <tr style=\"text-align: right;\">\n",
              "      <th></th>\n",
              "      <th>price</th>\n",
              "      <th>price_aprox_usd</th>\n",
              "      <th>surface_total_in_m2</th>\n",
              "    </tr>\n",
              "    <tr>\n",
              "      <th>currency</th>\n",
              "      <th></th>\n",
              "      <th></th>\n",
              "      <th></th>\n",
              "    </tr>\n",
              "  </thead>\n",
              "  <tbody>\n",
              "    <tr>\n",
              "      <th>ARS</th>\n",
              "      <td>1798580</td>\n",
              "      <td>101028</td>\n",
              "      <td>133</td>\n",
              "    </tr>\n",
              "    <tr>\n",
              "      <th>PEN</th>\n",
              "      <td>665000</td>\n",
              "      <td>204994</td>\n",
              "      <td>nan</td>\n",
              "    </tr>\n",
              "    <tr>\n",
              "      <th>USD</th>\n",
              "      <td>260374</td>\n",
              "      <td>260374</td>\n",
              "      <td>235</td>\n",
              "    </tr>\n",
              "    <tr>\n",
              "      <th>UYU</th>\n",
              "      <td>650000000</td>\n",
              "      <td>22980378</td>\n",
              "      <td>nan</td>\n",
              "    </tr>\n",
              "  </tbody>\n",
              "</table>\n",
              "</div>"
            ],
            "text/plain": [
              "              price price_aprox_usd surface_total_in_m2\n",
              "currency                                               \n",
              "ARS         1798580          101028                 133\n",
              "PEN          665000          204994                 nan\n",
              "USD          260374          260374                 235\n",
              "UYU       650000000        22980378                 nan"
            ]
          },
          "metadata": {
            "tags": []
          },
          "execution_count": 76
        }
      ]
    },
    {
      "cell_type": "code",
      "metadata": {
        "id": "nPSGco4-xQNe",
        "outputId": "24e005bf-3132-4cea-b8dd-d4b5377e36fb",
        "colab": {
          "base_uri": "https://localhost:8080/",
          "height": 70
        }
      },
      "source": [
        "print(\"Máximo_0:\", data_edit[\"price\"].max())\n",
        "print(\"Mínimo_0:\", data_edit[\"price\"].min())\n",
        "print(\"Media_0:\", data_edit[\"price\"].mean())"
      ],
      "execution_count": null,
      "outputs": [
        {
          "output_type": "stream",
          "text": [
            "Máximo_0: 650000000.0\n",
            "Mínimo_0: 0.0\n",
            "Media_0: 468525.92544390436\n"
          ],
          "name": "stdout"
        }
      ]
    },
    {
      "cell_type": "markdown",
      "metadata": {
        "id": "T38oUAb-INkx"
      },
      "source": [
        "Pero estos son valores, no sabemos en qué moneda está. Veamos qué monedas hay y hagamos lo mismo para cada una:"
      ]
    },
    {
      "cell_type": "code",
      "metadata": {
        "id": "evvDbEwLxpbE",
        "outputId": "98b188fc-caed-4680-a0cd-5e3308bcbc98",
        "colab": {
          "base_uri": "https://localhost:8080/",
          "height": 301
        }
      },
      "source": [
        "print(\"Registros por moneda\")\n",
        "print(data_edit[\"currency\"].value_counts())\n",
        "print(\\\n",
        "      )\n",
        "price_USD = data_edit[\"currency\"] == 'USD'\n",
        "new_value = data_edit[price_USD]\n",
        "print(\"Máximo USD\", new_value['price'].max())\n",
        "print(\"Mínimo USD\", new_value['price'].min())\n",
        "print(\\\n",
        "      )\n",
        "price_ARS = data_edit[\"currency\"] == 'ARS'\n",
        "new_value = data_edit[price_ARS]\n",
        "print(\"Máximo ARS\", new_value['price'].max())\n",
        "print(\"Mínimo ARS\", new_value['price'].min())\n",
        "print(\\\n",
        "      )\n",
        "price_PEN = data_edit[\"currency\"] == 'PEN'\n",
        "new_value = data_edit[price_PEN]\n",
        "print(\"PEN\", new_value['price'].max())\n",
        "print(\"   \", new_value['price'].min())\n",
        "price_UYU = data_edit[\"currency\"] == 'UYU'\n",
        "new_value = data_edit[price_UYU]\n",
        "print(\"UYU\", new_value['price'].sum())"
      ],
      "execution_count": null,
      "outputs": [
        {
          "output_type": "stream",
          "text": [
            "Registros por moneda\n",
            "USD    87587\n",
            "ARS    13219\n",
            "PEN        2\n",
            "UYU        1\n",
            "Name: currency, dtype: int64\n",
            "\n",
            "Máximo USD 46545445.0\n",
            "Mínimo USD 5000.0\n",
            "\n",
            "Máximo ARS 99999999.0\n",
            "Mínimo ARS 80000.0\n",
            "\n",
            "PEN 950000.0\n",
            "    380000.0\n",
            "UYU 650000000.0\n"
          ],
          "name": "stdout"
        }
      ]
    },
    {
      "cell_type": "code",
      "metadata": {
        "id": "LpQg3hSzSsTH",
        "outputId": "9dc0ccfb-e83e-4145-c03f-1584fb9908b9",
        "colab": {
          "base_uri": "https://localhost:8080/",
          "height": 123
        }
      },
      "source": [
        "# solo para ver algunos ejemplos\n",
        "data_edit[\"currency\"].sample(5)"
      ],
      "execution_count": null,
      "outputs": [
        {
          "output_type": "execute_result",
          "data": {
            "text/plain": [
              "4225     NaN\n",
              "52937    USD\n",
              "84660    USD\n",
              "31519    USD\n",
              "96264    ARS\n",
              "Name: currency, dtype: object"
            ]
          },
          "metadata": {
            "tags": []
          },
          "execution_count": 79
        }
      ]
    },
    {
      "cell_type": "markdown",
      "metadata": {
        "id": "wfmiwK9h_l3b"
      },
      "source": [
        "Tenemos que seleccionar una de las monedas y unificar criterios.\\\n",
        "La cantidad de registros en USD son mas de 6 veces la cantidada de registros en $.\\\n",
        "Unifocamos los registros a USD"
      ]
    },
    {
      "cell_type": "code",
      "metadata": {
        "id": "CweUFosc_lSt"
      },
      "source": [
        ""
      ],
      "execution_count": null,
      "outputs": []
    },
    {
      "cell_type": "markdown",
      "metadata": {
        "id": "fQvmK2GvsnPi"
      },
      "source": [
        "Probando ploteos:\\\n",
        "m2 cuviertos vs provincias"
      ]
    },
    {
      "cell_type": "code",
      "metadata": {
        "id": "-PylBrIPc1wo",
        "outputId": "738bdc72-24b6-49e1-f743-a9af27ffa1f3",
        "colab": {
          "base_uri": "https://localhost:8080/",
          "height": 746
        }
      },
      "source": [
        "import matplotlib.pyplot as plt\n",
        "xd=\"surface_covered_in_m2\"\n",
        "yd=data_edit[\"fran_provincia\"]\n",
        "sns.jointplot(x=xd, y=yd, data=data_edit, height=(10))"
      ],
      "execution_count": null,
      "outputs": [
        {
          "output_type": "execute_result",
          "data": {
            "text/plain": [
              "<seaborn.axisgrid.JointGrid at 0x7f13075e8588>"
            ]
          },
          "metadata": {
            "tags": []
          },
          "execution_count": 80
        },
        {
          "output_type": "display_data",
          "data": {
            "image/png": "[encoded data removed]",
            "text/plain": [
              "<Figure size 720x720 with 3 Axes>"
            ]
          },
          "metadata": {
            "tags": [],
            "needs_background": "light"
          }
        }
      ]
    },
    {
      "cell_type": "markdown",
      "metadata": {
        "id": "U0nAW97Fswoa"
      },
      "source": [
        "precios vs provincias"
      ]
    },
    {
      "cell_type": "code",
      "metadata": {
        "id": "7uTPRSj6maIO",
        "outputId": "a34d07d6-ac9c-4c9b-b360-7b17d894366c",
        "colab": {
          "base_uri": "https://localhost:8080/",
          "height": 746
        }
      },
      "source": [
        "xd=\"price_per_m2\"\n",
        "yd=data_edit[\"fran_provincia\"]\n",
        "sns.jointplot(x=xd, y=yd, data=data_edit, height=(10))"
      ],
      "execution_count": null,
      "outputs": [
        {
          "output_type": "execute_result",
          "data": {
            "text/plain": [
              "<seaborn.axisgrid.JointGrid at 0x7f1307557080>"
            ]
          },
          "metadata": {
            "tags": []
          },
          "execution_count": 81
        },
        {
          "output_type": "display_data",
          "data": {
            "image/png": "[encoded data removed]",
            "text/plain": [
              "<Figure size 720x720 with 3 Axes>"
            ]
          },
          "metadata": {
            "tags": [],
            "needs_background": "light"
          }
        }
      ]
    },
    {
      "cell_type": "markdown",
      "metadata": {
        "id": "cD39YuTls10q"
      },
      "source": [
        "precios en USD vs provincias"
      ]
    },
    {
      "cell_type": "code",
      "metadata": {
        "id": "5E7j3OQknFc2",
        "outputId": "842d99c0-0e2f-4f5c-8d2b-db4a00111cf8",
        "colab": {
          "base_uri": "https://localhost:8080/",
          "height": 746
        }
      },
      "source": [
        "xd=\"price_aprox_usd\"\n",
        "yd=data_edit[\"fran_provincia\"]\n",
        "sns.jointplot(x=xd, y=yd, data=data_edit, height=(10))"
      ],
      "execution_count": null,
      "outputs": [
        {
          "output_type": "execute_result",
          "data": {
            "text/plain": [
              "<seaborn.axisgrid.JointGrid at 0x7f12cd3959e8>"
            ]
          },
          "metadata": {
            "tags": []
          },
          "execution_count": 82
        },
        {
          "output_type": "display_data",
          "data": {
            "image/png": "[encoded data removed]",
            "text/plain": [
              "<Figure size 720x720 with 3 Axes>"
            ]
          },
          "metadata": {
            "tags": [],
            "needs_background": "light"
          }
        }
      ]
    },
    {
      "cell_type": "markdown",
      "metadata": {
        "id": "s8l-Kzwds_X7"
      },
      "source": [
        "# Provincias y localidades II\n",
        "Podemos aplicar RE\n",
        "\n",
        "\n",
        "\n"
      ]
    },
    {
      "cell_type": "code",
      "metadata": {
        "id": "-_fB45rxKDxI",
        "outputId": "0d393284-bf1d-4cce-ced4-4f77557ae677",
        "colab": {
          "base_uri": "https://localhost:8080/",
          "height": 230
        }
      },
      "source": [
        "data_place_with_parent_names = data_edit[\"place_with_parent_names\"]\n",
        "parent_names_unicos = data_place_with_parent_names.unique()\n",
        "data_edit[\"place_with_parent_names\"].value_counts().sort_values(ascending=False)\n",
        "data_place_with_parent_names.value_counts().sort_values()\n",
        "#pd.value_counts(parent_names_unicos)\n",
        "# Vemos que Argentina se repite..."
      ],
      "execution_count": null,
      "outputs": [
        {
          "output_type": "execute_result",
          "data": {
            "text/plain": [
              "|Argentina|Bs.As. G.B.A. Zona Norte|San Fernando|Barrio Cerrado \"La Chacra\"|       1\n",
              "|Argentina|Bs.As. G.B.A. Zona Norte|Pilar|Barrio Cerrado \"El Estribo\"|             1\n",
              "|Argentina|Entre Ríos|Aldea Salto|                                                 1\n",
              "|Argentina|Misiones|Santa Ana|                                                     1\n",
              "|Argentina|Bs.As. G.B.A. Zona Norte|Escobar|Barrio San Benito|                     1\n",
              "                                                                                ... \n",
              "|Argentina|Capital Federal|Belgrano|                                            2992\n",
              "|Argentina|Bs.As. G.B.A. Zona Norte|Tigre|Nordelta|                             3315\n",
              "|Argentina|Buenos Aires Costa Atlántica|Mar del Plata|                          6534\n",
              "|Argentina|Córdoba|Córdoba|                                                     6606\n",
              "|Argentina|Santa Fe|Rosario|                                                    8504\n",
              "Name: place_with_parent_names, Length: 1164, dtype: int64"
            ]
          },
          "metadata": {
            "tags": []
          },
          "execution_count": 83
        }
      ]
    },
    {
      "cell_type": "markdown",
      "metadata": {
        "id": "re66De7Ltiac"
      },
      "source": [
        "Cómo ya vimos y ya hicimos, hay una forma mas sencilla de limpiar esto, pero esta sería otra forma, más complicada? quizá."
      ]
    },
    {
      "cell_type": "code",
      "metadata": {
        "id": "S1kgtwyNci58",
        "outputId": "086bebb0-ca85-4b9b-9533-d29c1304a3f3",
        "colab": {
          "base_uri": "https://localhost:8080/",
          "height": 230
        }
      },
      "source": [
        "patron_ARG = \"\\|Argentina|\"\n",
        "reemplazo_ARG =\"\"\n",
        "regex_ARG = re.compile(patron_ARG)\n",
        "data_serie_ARG = data_edit[\"place_with_parent_names\"]\n",
        "#resultado_reemplazo = data[\"Address\"].apply(lambda x: pattern_suffix_regex.sub(cadena_reemplazo, x))\n",
        "sin_ARG = data_serie_ARG.apply(lambda x: regex_ARG.sub(reemplazo_ARG, x))\n",
        "print(sin_ARG)\n",
        "#value_counts().sort_values(ascending=True)"
      ],
      "execution_count": null,
      "outputs": [
        {
          "output_type": "stream",
          "text": [
            "0                               |Capital Federal|Mataderos|\n",
            "1                         |Bs.As. G.B.A. Zona Sur|La Plata|\n",
            "2                               |Capital Federal|Mataderos|\n",
            "3                                 |Capital Federal|Liniers|\n",
            "4         |Buenos Aires Costa Atlántica|Mar del Plata|Ce...\n",
            "                                ...                        \n",
            "121215                           |Capital Federal|Belgrano|\n",
            "121216         |Bs.As. G.B.A. Zona Norte|San Isidro|Beccar|\n",
            "121217                      |Capital Federal|Villa Urquiza|\n",
            "121218    |Buenos Aires Costa Atlántica|Mar del Plata|Pl...\n",
            "121219                                    |Capital Federal|\n",
            "Name: place_with_parent_names, Length: 121220, dtype: object\n"
          ],
          "name": "stdout"
        }
      ]
    },
    {
      "cell_type": "markdown",
      "metadata": {
        "id": "IzXmyIPRt358"
      },
      "source": [
        "Podemos hacer ahora lo mismo, pero para la ciudad de Buenos Aires"
      ]
    },
    {
      "cell_type": "code",
      "metadata": {
        "id": "O6vsYyu0jffM",
        "outputId": "1a77fc14-f06c-4c55-8bc3-e312867e5e5b",
        "colab": {
          "base_uri": "https://localhost:8080/",
          "height": 230
        }
      },
      "source": [
        "patron_caba = \"\\[|Capital Federal|]\"\n",
        "reemplazo_caba = \"CABA\"\n",
        "regex_caba = re.compile(patron_caba)\n",
        "data_serie_ARG = data_edit[\"place_with_parent_names\"]\n",
        "\n",
        "sin_caba = sin_ARG.apply(lambda x: regex_caba.sub(reemplazo_caba, x))\n",
        "sin_caba"
      ],
      "execution_count": null,
      "outputs": [
        {
          "output_type": "execute_result",
          "data": {
            "text/plain": [
              "0                                          |CABA|Mataderos|\n",
              "1                         |Bs.As. G.B.A. Zona Sur|La Plata|\n",
              "2                                          |CABA|Mataderos|\n",
              "3                                            |CABA|Liniers|\n",
              "4         |Buenos Aires Costa Atlántica|Mar del Plata|Ce...\n",
              "                                ...                        \n",
              "121215                                      |CABA|Belgrano|\n",
              "121216         |Bs.As. G.B.A. Zona Norte|San Isidro|Beccar|\n",
              "121217                                 |CABA|Villa Urquiza|\n",
              "121218    |Buenos Aires Costa Atlántica|Mar del Plata|Pl...\n",
              "121219                                               |CABA|\n",
              "Name: place_with_parent_names, Length: 121220, dtype: object"
            ]
          },
          "metadata": {
            "tags": []
          },
          "execution_count": 85
        }
      ]
    },
    {
      "cell_type": "markdown",
      "metadata": {
        "id": "I99L07oGuAmB"
      },
      "source": [
        "Vemos la cantidad de registros que se repiten"
      ]
    },
    {
      "cell_type": "code",
      "metadata": {
        "id": "e4MSoGZhPYTv",
        "outputId": "3431b44b-e76a-4d93-9dd0-78e6e3386cb0",
        "colab": {
          "base_uri": "https://localhost:8080/",
          "height": 34
        }
      },
      "source": [
        "total = data_edit[\"place_with_parent_names\"].value_counts() > 1\n",
        "total.sum()"
      ],
      "execution_count": null,
      "outputs": [
        {
          "output_type": "execute_result",
          "data": {
            "text/plain": [
              "917"
            ]
          },
          "metadata": {
            "tags": []
          },
          "execution_count": 86
        }
      ]
    },
    {
      "cell_type": "markdown",
      "metadata": {
        "id": "8Cz2ykK3uQcJ"
      },
      "source": [
        "Sobre los nombres de provincias, vemos que provincias están representadas"
      ]
    },
    {
      "cell_type": "code",
      "metadata": {
        "id": "tR2B9vBEYD6t",
        "outputId": "e48b9e63-4ba9-403e-d4fc-6150028041e8",
        "colab": {
          "base_uri": "https://localhost:8080/",
          "height": 176
        }
      },
      "source": [
        "data_state_name = data_edit[\"state_name\"]\n",
        "data_state_name.unique()"
      ],
      "execution_count": null,
      "outputs": [
        {
          "output_type": "execute_result",
          "data": {
            "text/plain": [
              "array(['Capital Federal', 'Bs.As. G.B.A. Zona Sur',\n",
              "       'Buenos Aires Costa Atlántica', 'Entre Ríos',\n",
              "       'Bs.As. G.B.A. Zona Norte', 'Santa Fe', 'Córdoba',\n",
              "       'Bs.As. G.B.A. Zona Oeste', 'Misiones', 'Buenos Aires Interior',\n",
              "       'Salta', 'Neuquén', 'Río Negro', 'San Luis', 'Mendoza',\n",
              "       'Corrientes', 'Chubut', 'Tucumán', 'La Pampa', 'Chaco', 'San Juan',\n",
              "       'Santa Cruz', 'Tierra Del Fuego', 'Catamarca',\n",
              "       'Santiago Del Estero', 'Jujuy', 'La Rioja', 'Formosa'],\n",
              "      dtype=object)"
            ]
          },
          "metadata": {
            "tags": []
          },
          "execution_count": 87
        }
      ]
    },
    {
      "cell_type": "markdown",
      "metadata": {
        "id": "3VnNn-1zubak"
      },
      "source": [
        "De esta forma, vemos qué provincias están representadas y con qué cantidad de registros cada una, ordenadamente"
      ]
    },
    {
      "cell_type": "code",
      "metadata": {
        "id": "iE9BuR59toRY",
        "outputId": "b33c1d4a-0a68-4893-f602-47702eba2cb8",
        "colab": {
          "base_uri": "https://localhost:8080/",
          "height": 532
        }
      },
      "source": [
        "data_state_name.value_counts().sort_values()"
      ],
      "execution_count": null,
      "outputs": [
        {
          "output_type": "execute_result",
          "data": {
            "text/plain": [
              "La Rioja                            4\n",
              "Santiago Del Estero                 4\n",
              "Santa Cruz                         20\n",
              "Jujuy                              26\n",
              "Catamarca                          27\n",
              "Tierra Del Fuego                   31\n",
              "San Juan                           40\n",
              "Chaco                              57\n",
              "Formosa                            65\n",
              "La Pampa                          157\n",
              "San Luis                          252\n",
              "Chubut                            259\n",
              "Salta                             278\n",
              "Entre Ríos                        369\n",
              "Misiones                          464\n",
              "Corrientes                        583\n",
              "Tucumán                           674\n",
              "Mendoza                           681\n",
              "Neuquén                           733\n",
              "Río Negro                         808\n",
              "Buenos Aires Interior            2291\n",
              "Bs.As. G.B.A. Zona Oeste         9322\n",
              "Buenos Aires Costa Atlántica    10006\n",
              "Santa Fe                        10172\n",
              "Córdoba                         12069\n",
              "Bs.As. G.B.A. Zona Sur          13952\n",
              "Bs.As. G.B.A. Zona Norte        25560\n",
              "Capital Federal                 32316\n",
              "Name: state_name, dtype: int64"
            ]
          },
          "metadata": {
            "tags": []
          },
          "execution_count": 88
        }
      ]
    },
    {
      "cell_type": "markdown",
      "metadata": {
        "id": "nq8bmOBXvaCi"
      },
      "source": [
        "Veamos si podemos sacar algo de la descripción"
      ]
    },
    {
      "cell_type": "code",
      "metadata": {
        "id": "QQJ4Dzey7LbY",
        "outputId": "4df4f308-c1b2-4aaa-a170-aaf9a478b4da",
        "colab": {
          "base_uri": "https://localhost:8080/",
          "height": 230
        }
      },
      "source": [
        "pattern_ambientes_1 = \"((\\d+[a-z]*|[a-zA-Z])*\\s(AMBIENTES|AMB))|MONOAMBIENTE\"\n",
        "pattern_ambientes_2 = \"(\\s(AMBIENTES|AMB))|MONOAMBIENTE\"\n",
        "\n",
        "data_amb = data_edit[\"description\"]\n",
        "\n",
        "regex = re.compile(pattern_ambientes_2, flags = re.IGNORECASE)\n",
        "\n",
        "#ambientes = data_amb.apply(lambda x: regex.findall(x))\n",
        "#print(ambientes)\n",
        "\n",
        "ambientes=data_amb.apply(lambda x: x if (x is np.nan) or (x is None) else regex.search(x))\n",
        "ambientes"
      ],
      "execution_count": null,
      "outputs": [
        {
          "output_type": "execute_result",
          "data": {
            "text/plain": [
              "0         <_sre.SRE_Match object; span=(1, 11), match=' ...\n",
              "1                                                      None\n",
              "2         <_sre.SRE_Match object; span=(1, 11), match=' ...\n",
              "3         <_sre.SRE_Match object; span=(4, 14), match=' ...\n",
              "4                                                      None\n",
              "                                ...                        \n",
              "121215                                                 None\n",
              "121216                                                 None\n",
              "121217    <_sre.SRE_Match object; span=(18, 22), match='...\n",
              "121218    <_sre.SRE_Match object; span=(1, 5), match=' a...\n",
              "121219                                                 None\n",
              "Name: description, Length: 121220, dtype: object"
            ]
          },
          "metadata": {
            "tags": []
          },
          "execution_count": 89
        }
      ]
    },
    {
      "cell_type": "markdown",
      "metadata": {
        "id": "TRUDPb4ZHYft"
      },
      "source": [
        "# Análisis final"
      ]
    },
    {
      "cell_type": "code",
      "metadata": {
        "id": "E2ihaIQIIFWM",
        "outputId": "2b9e764e-3c7a-41d3-c6d4-57767d65ec21",
        "colab": {
          "base_uri": "https://localhost:8080/",
          "height": 1000
        }
      },
      "source": [
        "tabla_final = pd.concat([tabla_inicial.loc[:, :'Value counts'], data_edit.isna().sum()], axis=1, sort=False)\n",
        "tabla_final = tabla_final.rename(columns={0: 'Final null count',})\n",
        "\n",
        "tabla_final = pd.concat([tabla_final, (data_edit.isna().sum() / data_edit.shape[0])], axis=1, sort=False)\n",
        "tabla_final = tabla_final.rename(columns={0: 'Final null %',})\n",
        "\n",
        "tabla_final = pd.concat([tabla_final, (tabla_final['Final null count'] - tabla_final['Null count'])], axis=1, sort=False)\n",
        "tabla_final = tabla_final.rename(columns={0: 'Final null %',})\n",
        "\n",
        "tabla_final"
      ],
      "execution_count": null,
      "outputs": [
        {
          "output_type": "execute_result",
          "data": {
            "text/html": [
              "<div>\n",
              "<style scoped>\n",
              "    .dataframe tbody tr th:only-of-type {\n",
              "        vertical-align: middle;\n",
              "    }\n",
              "\n",
              "    .dataframe tbody tr th {\n",
              "        vertical-align: top;\n",
              "    }\n",
              "\n",
              "    .dataframe thead th {\n",
              "        text-align: right;\n",
              "    }\n",
              "</style>\n",
              "<table border=\"1\" class=\"dataframe\">\n",
              "  <thead>\n",
              "    <tr style=\"text-align: right;\">\n",
              "      <th></th>\n",
              "      <th>Type</th>\n",
              "      <th>Null %</th>\n",
              "      <th>Null count</th>\n",
              "      <th>Value counts</th>\n",
              "      <th>Final null count</th>\n",
              "      <th>Final null %</th>\n",
              "      <th>Final null %</th>\n",
              "    </tr>\n",
              "  </thead>\n",
              "  <tbody>\n",
              "    <tr>\n",
              "      <th>Unnamed: 0</th>\n",
              "      <td>int64</td>\n",
              "      <td>0.000000</td>\n",
              "      <td>0.0</td>\n",
              "      <td>121220.0</td>\n",
              "      <td>NaN</td>\n",
              "      <td>NaN</td>\n",
              "      <td>NaN</td>\n",
              "    </tr>\n",
              "    <tr>\n",
              "      <th>operation</th>\n",
              "      <td>object</td>\n",
              "      <td>0.000000</td>\n",
              "      <td>0.0</td>\n",
              "      <td>1.0</td>\n",
              "      <td>NaN</td>\n",
              "      <td>NaN</td>\n",
              "      <td>NaN</td>\n",
              "    </tr>\n",
              "    <tr>\n",
              "      <th>property_type</th>\n",
              "      <td>object</td>\n",
              "      <td>0.000000</td>\n",
              "      <td>0.0</td>\n",
              "      <td>4.0</td>\n",
              "      <td>0.0</td>\n",
              "      <td>0.000000</td>\n",
              "      <td>0.0</td>\n",
              "    </tr>\n",
              "    <tr>\n",
              "      <th>place_name</th>\n",
              "      <td>object</td>\n",
              "      <td>0.000190</td>\n",
              "      <td>23.0</td>\n",
              "      <td>1060.0</td>\n",
              "      <td>23.0</td>\n",
              "      <td>0.000190</td>\n",
              "      <td>0.0</td>\n",
              "    </tr>\n",
              "    <tr>\n",
              "      <th>place_with_parent_names</th>\n",
              "      <td>object</td>\n",
              "      <td>0.000000</td>\n",
              "      <td>0.0</td>\n",
              "      <td>1164.0</td>\n",
              "      <td>0.0</td>\n",
              "      <td>0.000000</td>\n",
              "      <td>0.0</td>\n",
              "    </tr>\n",
              "    <tr>\n",
              "      <th>country_name</th>\n",
              "      <td>object</td>\n",
              "      <td>0.000000</td>\n",
              "      <td>0.0</td>\n",
              "      <td>1.0</td>\n",
              "      <td>NaN</td>\n",
              "      <td>NaN</td>\n",
              "      <td>NaN</td>\n",
              "    </tr>\n",
              "    <tr>\n",
              "      <th>state_name</th>\n",
              "      <td>object</td>\n",
              "      <td>0.000000</td>\n",
              "      <td>0.0</td>\n",
              "      <td>28.0</td>\n",
              "      <td>0.0</td>\n",
              "      <td>0.000000</td>\n",
              "      <td>0.0</td>\n",
              "    </tr>\n",
              "    <tr>\n",
              "      <th>geonames_id</th>\n",
              "      <td>float64</td>\n",
              "      <td>0.154405</td>\n",
              "      <td>18717.0</td>\n",
              "      <td>646.0</td>\n",
              "      <td>18717.0</td>\n",
              "      <td>0.154405</td>\n",
              "      <td>0.0</td>\n",
              "    </tr>\n",
              "    <tr>\n",
              "      <th>lat-lon</th>\n",
              "      <td>object</td>\n",
              "      <td>0.425260</td>\n",
              "      <td>51550.0</td>\n",
              "      <td>46522.0</td>\n",
              "      <td>51550.0</td>\n",
              "      <td>0.425260</td>\n",
              "      <td>0.0</td>\n",
              "    </tr>\n",
              "    <tr>\n",
              "      <th>lat</th>\n",
              "      <td>float64</td>\n",
              "      <td>0.425260</td>\n",
              "      <td>51550.0</td>\n",
              "      <td>46495.0</td>\n",
              "      <td>51550.0</td>\n",
              "      <td>0.425260</td>\n",
              "      <td>0.0</td>\n",
              "    </tr>\n",
              "    <tr>\n",
              "      <th>lon</th>\n",
              "      <td>float64</td>\n",
              "      <td>0.425260</td>\n",
              "      <td>51550.0</td>\n",
              "      <td>46522.0</td>\n",
              "      <td>51550.0</td>\n",
              "      <td>0.425260</td>\n",
              "      <td>0.0</td>\n",
              "    </tr>\n",
              "    <tr>\n",
              "      <th>price</th>\n",
              "      <td>float64</td>\n",
              "      <td>0.168372</td>\n",
              "      <td>20410.0</td>\n",
              "      <td>9746.0</td>\n",
              "      <td>20410.0</td>\n",
              "      <td>0.168372</td>\n",
              "      <td>0.0</td>\n",
              "    </tr>\n",
              "    <tr>\n",
              "      <th>currency</th>\n",
              "      <td>object</td>\n",
              "      <td>0.168380</td>\n",
              "      <td>20411.0</td>\n",
              "      <td>4.0</td>\n",
              "      <td>20411.0</td>\n",
              "      <td>0.168380</td>\n",
              "      <td>0.0</td>\n",
              "    </tr>\n",
              "    <tr>\n",
              "      <th>price_aprox_local_currency</th>\n",
              "      <td>float64</td>\n",
              "      <td>0.168372</td>\n",
              "      <td>20410.0</td>\n",
              "      <td>10364.0</td>\n",
              "      <td>20410.0</td>\n",
              "      <td>0.168372</td>\n",
              "      <td>0.0</td>\n",
              "    </tr>\n",
              "    <tr>\n",
              "      <th>price_aprox_usd</th>\n",
              "      <td>float64</td>\n",
              "      <td>0.168372</td>\n",
              "      <td>20410.0</td>\n",
              "      <td>10364.0</td>\n",
              "      <td>20410.0</td>\n",
              "      <td>0.168372</td>\n",
              "      <td>0.0</td>\n",
              "    </tr>\n",
              "    <tr>\n",
              "      <th>surface_total_in_m2</th>\n",
              "      <td>float64</td>\n",
              "      <td>0.324435</td>\n",
              "      <td>39328.0</td>\n",
              "      <td>1687.0</td>\n",
              "      <td>39328.0</td>\n",
              "      <td>0.324435</td>\n",
              "      <td>0.0</td>\n",
              "    </tr>\n",
              "    <tr>\n",
              "      <th>surface_covered_in_m2</th>\n",
              "      <td>float64</td>\n",
              "      <td>0.164222</td>\n",
              "      <td>19907.0</td>\n",
              "      <td>995.0</td>\n",
              "      <td>10410.0</td>\n",
              "      <td>0.085877</td>\n",
              "      <td>-9497.0</td>\n",
              "    </tr>\n",
              "    <tr>\n",
              "      <th>price_usd_per_m2</th>\n",
              "      <td>float64</td>\n",
              "      <td>0.433947</td>\n",
              "      <td>52603.0</td>\n",
              "      <td>25567.0</td>\n",
              "      <td>52603.0</td>\n",
              "      <td>0.433947</td>\n",
              "      <td>0.0</td>\n",
              "    </tr>\n",
              "    <tr>\n",
              "      <th>price_per_m2</th>\n",
              "      <td>float64</td>\n",
              "      <td>0.276869</td>\n",
              "      <td>33562.0</td>\n",
              "      <td>25185.0</td>\n",
              "      <td>33562.0</td>\n",
              "      <td>0.276869</td>\n",
              "      <td>0.0</td>\n",
              "    </tr>\n",
              "    <tr>\n",
              "      <th>floor</th>\n",
              "      <td>float64</td>\n",
              "      <td>0.934837</td>\n",
              "      <td>113321.0</td>\n",
              "      <td>182.0</td>\n",
              "      <td>NaN</td>\n",
              "      <td>NaN</td>\n",
              "      <td>NaN</td>\n",
              "    </tr>\n",
              "    <tr>\n",
              "      <th>rooms</th>\n",
              "      <td>float64</td>\n",
              "      <td>0.609058</td>\n",
              "      <td>73830.0</td>\n",
              "      <td>31.0</td>\n",
              "      <td>10410.0</td>\n",
              "      <td>0.085877</td>\n",
              "      <td>-63420.0</td>\n",
              "    </tr>\n",
              "    <tr>\n",
              "      <th>expenses</th>\n",
              "      <td>float64</td>\n",
              "      <td>0.882346</td>\n",
              "      <td>106958.0</td>\n",
              "      <td>982.0</td>\n",
              "      <td>NaN</td>\n",
              "      <td>NaN</td>\n",
              "      <td>NaN</td>\n",
              "    </tr>\n",
              "    <tr>\n",
              "      <th>properati_url</th>\n",
              "      <td>object</td>\n",
              "      <td>0.000000</td>\n",
              "      <td>0.0</td>\n",
              "      <td>121220.0</td>\n",
              "      <td>0.0</td>\n",
              "      <td>0.000000</td>\n",
              "      <td>0.0</td>\n",
              "    </tr>\n",
              "    <tr>\n",
              "      <th>description</th>\n",
              "      <td>object</td>\n",
              "      <td>0.000016</td>\n",
              "      <td>2.0</td>\n",
              "      <td>104055.0</td>\n",
              "      <td>0.0</td>\n",
              "      <td>0.000000</td>\n",
              "      <td>-2.0</td>\n",
              "    </tr>\n",
              "    <tr>\n",
              "      <th>title</th>\n",
              "      <td>object</td>\n",
              "      <td>0.000000</td>\n",
              "      <td>0.0</td>\n",
              "      <td>72705.0</td>\n",
              "      <td>0.0</td>\n",
              "      <td>0.000000</td>\n",
              "      <td>0.0</td>\n",
              "    </tr>\n",
              "    <tr>\n",
              "      <th>image_thumbnail</th>\n",
              "      <td>object</td>\n",
              "      <td>0.025672</td>\n",
              "      <td>3112.0</td>\n",
              "      <td>114389.0</td>\n",
              "      <td>NaN</td>\n",
              "      <td>NaN</td>\n",
              "      <td>NaN</td>\n",
              "    </tr>\n",
              "    <tr>\n",
              "      <th>fran_place_levels</th>\n",
              "      <td>NaN</td>\n",
              "      <td>NaN</td>\n",
              "      <td>NaN</td>\n",
              "      <td>NaN</td>\n",
              "      <td>0.0</td>\n",
              "      <td>0.000000</td>\n",
              "      <td>NaN</td>\n",
              "    </tr>\n",
              "    <tr>\n",
              "      <th>fran_provincia</th>\n",
              "      <td>NaN</td>\n",
              "      <td>NaN</td>\n",
              "      <td>NaN</td>\n",
              "      <td>NaN</td>\n",
              "      <td>0.0</td>\n",
              "      <td>0.000000</td>\n",
              "      <td>NaN</td>\n",
              "    </tr>\n",
              "    <tr>\n",
              "      <th>fran_localidad</th>\n",
              "      <td>NaN</td>\n",
              "      <td>NaN</td>\n",
              "      <td>NaN</td>\n",
              "      <td>NaN</td>\n",
              "      <td>0.0</td>\n",
              "      <td>0.000000</td>\n",
              "      <td>NaN</td>\n",
              "    </tr>\n",
              "    <tr>\n",
              "      <th>fran_m2_room_xtipo</th>\n",
              "      <td>NaN</td>\n",
              "      <td>NaN</td>\n",
              "      <td>NaN</td>\n",
              "      <td>NaN</td>\n",
              "      <td>0.0</td>\n",
              "      <td>0.000000</td>\n",
              "      <td>NaN</td>\n",
              "    </tr>\n",
              "    <tr>\n",
              "      <th>fran_m2_room</th>\n",
              "      <td>NaN</td>\n",
              "      <td>NaN</td>\n",
              "      <td>NaN</td>\n",
              "      <td>NaN</td>\n",
              "      <td>10418.0</td>\n",
              "      <td>0.085943</td>\n",
              "      <td>NaN</td>\n",
              "    </tr>\n",
              "    <tr>\n",
              "      <th>fran_precio_estimado</th>\n",
              "      <td>NaN</td>\n",
              "      <td>NaN</td>\n",
              "      <td>NaN</td>\n",
              "      <td>NaN</td>\n",
              "      <td>100810.0</td>\n",
              "      <td>0.831628</td>\n",
              "      <td>NaN</td>\n",
              "    </tr>\n",
              "  </tbody>\n",
              "</table>\n",
              "</div>"
            ],
            "text/plain": [
              "                               Type    Null %  ...  Final null %  Final null %\n",
              "Unnamed: 0                    int64  0.000000  ...           NaN           NaN\n",
              "operation                    object  0.000000  ...           NaN           NaN\n",
              "property_type                object  0.000000  ...      0.000000           0.0\n",
              "place_name                   object  0.000190  ...      0.000190           0.0\n",
              "place_with_parent_names      object  0.000000  ...      0.000000           0.0\n",
              "country_name                 object  0.000000  ...           NaN           NaN\n",
              "state_name                   object  0.000000  ...      0.000000           0.0\n",
              "geonames_id                 float64  0.154405  ...      0.154405           0.0\n",
              "lat-lon                      object  0.425260  ...      0.425260           0.0\n",
              "lat                         float64  0.425260  ...      0.425260           0.0\n",
              "lon                         float64  0.425260  ...      0.425260           0.0\n",
              "price                       float64  0.168372  ...      0.168372           0.0\n",
              "currency                     object  0.168380  ...      0.168380           0.0\n",
              "price_aprox_local_currency  float64  0.168372  ...      0.168372           0.0\n",
              "price_aprox_usd             float64  0.168372  ...      0.168372           0.0\n",
              "surface_total_in_m2         float64  0.324435  ...      0.324435           0.0\n",
              "surface_covered_in_m2       float64  0.164222  ...      0.085877       -9497.0\n",
              "price_usd_per_m2            float64  0.433947  ...      0.433947           0.0\n",
              "price_per_m2                float64  0.276869  ...      0.276869           0.0\n",
              "floor                       float64  0.934837  ...           NaN           NaN\n",
              "rooms                       float64  0.609058  ...      0.085877      -63420.0\n",
              "expenses                    float64  0.882346  ...           NaN           NaN\n",
              "properati_url                object  0.000000  ...      0.000000           0.0\n",
              "description                  object  0.000016  ...      0.000000          -2.0\n",
              "title                        object  0.000000  ...      0.000000           0.0\n",
              "image_thumbnail              object  0.025672  ...           NaN           NaN\n",
              "fran_place_levels               NaN       NaN  ...      0.000000           NaN\n",
              "fran_provincia                  NaN       NaN  ...      0.000000           NaN\n",
              "fran_localidad                  NaN       NaN  ...      0.000000           NaN\n",
              "fran_m2_room_xtipo              NaN       NaN  ...      0.000000           NaN\n",
              "fran_m2_room                    NaN       NaN  ...      0.085943           NaN\n",
              "fran_precio_estimado            NaN       NaN  ...      0.831628           NaN\n",
              "\n",
              "[32 rows x 7 columns]"
            ]
          },
          "metadata": {
            "tags": []
          },
          "execution_count": 116
        }
      ]
    },
    {
      "cell_type": "markdown",
      "metadata": {
        "id": "oWPqCgfvahJu"
      },
      "source": [
        "Calculamos los valores, primero vemos los precios por provincia y tipo de propiedad"
      ]
    },
    {
      "cell_type": "code",
      "metadata": {
        "id": "oxaX3Yf0QSpS"
      },
      "source": [
        "mask_filas_a_estimar = data_edit['price_aprox_usd'].isnull()\n",
        "mask_referencias = data_edit['price_aprox_usd'].notnull() & data_edit['surface_covered_in_m2'].notnull() & data_edit['surface_covered_in_m2'] > 0"
      ],
      "execution_count": null,
      "outputs": []
    },
    {
      "cell_type": "code",
      "metadata": {
        "id": "lwhvL6GRi_Sm"
      },
      "source": [
        "data_edit.loc[mask_filas_a_estimar, 'fran_precio_medio_x_m2'] = (data_edit[mask_referencias]['price_aprox_usd'] / data_edit[mask_referencias]['surface_covered_in_m2']).astype(float)"
      ],
      "execution_count": null,
      "outputs": []
    },
    {
      "cell_type": "code",
      "metadata": {
        "id": "DMopi0lDNW1C",
        "outputId": "3c8a53bb-b4d6-4fa4-b4c0-3960652846a8",
        "colab": {
          "base_uri": "https://localhost:8080/",
          "height": 887
        }
      },
      "source": [
        "tabla_precios = data_edit[mask_referencias].pivot_table('fran_precio_medio_x_m2', 'fran_provincia', columns='property_type')\n",
        "\n",
        "for x in tabla_precios.columns:\n",
        "  tabla_precios[x] = (tabla_precios[x].apply(lambda x: '%.0f' % x)).astype(float)\n",
        "\n",
        "tabla_precios"
      ],
      "execution_count": null,
      "outputs": [
        {
          "output_type": "execute_result",
          "data": {
            "text/html": [
              "<div>\n",
              "<style scoped>\n",
              "    .dataframe tbody tr th:only-of-type {\n",
              "        vertical-align: middle;\n",
              "    }\n",
              "\n",
              "    .dataframe tbody tr th {\n",
              "        vertical-align: top;\n",
              "    }\n",
              "\n",
              "    .dataframe thead th {\n",
              "        text-align: right;\n",
              "    }\n",
              "</style>\n",
              "<table border=\"1\" class=\"dataframe\">\n",
              "  <thead>\n",
              "    <tr style=\"text-align: right;\">\n",
              "      <th>property_type</th>\n",
              "      <th>PH</th>\n",
              "      <th>apartment</th>\n",
              "      <th>house</th>\n",
              "      <th>store</th>\n",
              "    </tr>\n",
              "    <tr>\n",
              "      <th>fran_provincia</th>\n",
              "      <th></th>\n",
              "      <th></th>\n",
              "      <th></th>\n",
              "      <th></th>\n",
              "    </tr>\n",
              "  </thead>\n",
              "  <tbody>\n",
              "    <tr>\n",
              "      <th>Bs.As. G.B.A. Zona Norte</th>\n",
              "      <td>1865.0</td>\n",
              "      <td>3202.0</td>\n",
              "      <td>2581.0</td>\n",
              "      <td>4533.0</td>\n",
              "    </tr>\n",
              "    <tr>\n",
              "      <th>Bs.As. G.B.A. Zona Oeste</th>\n",
              "      <td>2435.0</td>\n",
              "      <td>2457.0</td>\n",
              "      <td>2279.0</td>\n",
              "      <td>19856.0</td>\n",
              "    </tr>\n",
              "    <tr>\n",
              "      <th>Bs.As. G.B.A. Zona Sur</th>\n",
              "      <td>3522.0</td>\n",
              "      <td>3283.0</td>\n",
              "      <td>3130.0</td>\n",
              "      <td>14680.0</td>\n",
              "    </tr>\n",
              "    <tr>\n",
              "      <th>Buenos Aires Costa Atlántica</th>\n",
              "      <td>1177.0</td>\n",
              "      <td>1861.0</td>\n",
              "      <td>1323.0</td>\n",
              "      <td>1844.0</td>\n",
              "    </tr>\n",
              "    <tr>\n",
              "      <th>Buenos Aires Interior</th>\n",
              "      <td>1459.0</td>\n",
              "      <td>3841.0</td>\n",
              "      <td>1451.0</td>\n",
              "      <td>1743.0</td>\n",
              "    </tr>\n",
              "    <tr>\n",
              "      <th>Capital Federal</th>\n",
              "      <td>3269.0</td>\n",
              "      <td>3622.0</td>\n",
              "      <td>5822.0</td>\n",
              "      <td>4525.0</td>\n",
              "    </tr>\n",
              "    <tr>\n",
              "      <th>Catamarca</th>\n",
              "      <td>NaN</td>\n",
              "      <td>4340.0</td>\n",
              "      <td>1578.0</td>\n",
              "      <td>NaN</td>\n",
              "    </tr>\n",
              "    <tr>\n",
              "      <th>Chaco</th>\n",
              "      <td>NaN</td>\n",
              "      <td>1696.0</td>\n",
              "      <td>854.0</td>\n",
              "      <td>1221.0</td>\n",
              "    </tr>\n",
              "    <tr>\n",
              "      <th>Chubut</th>\n",
              "      <td>NaN</td>\n",
              "      <td>2011.0</td>\n",
              "      <td>4251.0</td>\n",
              "      <td>1610.0</td>\n",
              "    </tr>\n",
              "    <tr>\n",
              "      <th>Corrientes</th>\n",
              "      <td>1410.0</td>\n",
              "      <td>1982.0</td>\n",
              "      <td>1821.0</td>\n",
              "      <td>1896.0</td>\n",
              "    </tr>\n",
              "    <tr>\n",
              "      <th>Córdoba</th>\n",
              "      <td>3915.0</td>\n",
              "      <td>3090.0</td>\n",
              "      <td>1975.0</td>\n",
              "      <td>1982.0</td>\n",
              "    </tr>\n",
              "    <tr>\n",
              "      <th>Entre Ríos</th>\n",
              "      <td>475.0</td>\n",
              "      <td>1527.0</td>\n",
              "      <td>1904.0</td>\n",
              "      <td>1767.0</td>\n",
              "    </tr>\n",
              "    <tr>\n",
              "      <th>Jujuy</th>\n",
              "      <td>NaN</td>\n",
              "      <td>1212.0</td>\n",
              "      <td>3677.0</td>\n",
              "      <td>NaN</td>\n",
              "    </tr>\n",
              "    <tr>\n",
              "      <th>La Pampa</th>\n",
              "      <td>NaN</td>\n",
              "      <td>1845.0</td>\n",
              "      <td>952.0</td>\n",
              "      <td>617.0</td>\n",
              "    </tr>\n",
              "    <tr>\n",
              "      <th>La Rioja</th>\n",
              "      <td>NaN</td>\n",
              "      <td>NaN</td>\n",
              "      <td>394.0</td>\n",
              "      <td>NaN</td>\n",
              "    </tr>\n",
              "    <tr>\n",
              "      <th>Mendoza</th>\n",
              "      <td>1226.0</td>\n",
              "      <td>1841.0</td>\n",
              "      <td>3164.0</td>\n",
              "      <td>1301.0</td>\n",
              "    </tr>\n",
              "    <tr>\n",
              "      <th>Misiones</th>\n",
              "      <td>486.0</td>\n",
              "      <td>1331.0</td>\n",
              "      <td>2664.0</td>\n",
              "      <td>75.0</td>\n",
              "    </tr>\n",
              "    <tr>\n",
              "      <th>Neuquén</th>\n",
              "      <td>2562.0</td>\n",
              "      <td>2107.0</td>\n",
              "      <td>2265.0</td>\n",
              "      <td>2313.0</td>\n",
              "    </tr>\n",
              "    <tr>\n",
              "      <th>Río Negro</th>\n",
              "      <td>2198.0</td>\n",
              "      <td>2482.0</td>\n",
              "      <td>2997.0</td>\n",
              "      <td>2852.0</td>\n",
              "    </tr>\n",
              "    <tr>\n",
              "      <th>Salta</th>\n",
              "      <td>NaN</td>\n",
              "      <td>2548.0</td>\n",
              "      <td>3075.0</td>\n",
              "      <td>449.0</td>\n",
              "    </tr>\n",
              "    <tr>\n",
              "      <th>San Juan</th>\n",
              "      <td>NaN</td>\n",
              "      <td>2045.0</td>\n",
              "      <td>940.0</td>\n",
              "      <td>NaN</td>\n",
              "    </tr>\n",
              "    <tr>\n",
              "      <th>San Luis</th>\n",
              "      <td>NaN</td>\n",
              "      <td>2077.0</td>\n",
              "      <td>4337.0</td>\n",
              "      <td>1370.0</td>\n",
              "    </tr>\n",
              "    <tr>\n",
              "      <th>Santa Cruz</th>\n",
              "      <td>NaN</td>\n",
              "      <td>749.0</td>\n",
              "      <td>775.0</td>\n",
              "      <td>505.0</td>\n",
              "    </tr>\n",
              "    <tr>\n",
              "      <th>Santa Fe</th>\n",
              "      <td>1436.0</td>\n",
              "      <td>2565.0</td>\n",
              "      <td>1844.0</td>\n",
              "      <td>3719.0</td>\n",
              "    </tr>\n",
              "    <tr>\n",
              "      <th>Santiago Del Estero</th>\n",
              "      <td>NaN</td>\n",
              "      <td>644.0</td>\n",
              "      <td>1040.0</td>\n",
              "      <td>NaN</td>\n",
              "    </tr>\n",
              "    <tr>\n",
              "      <th>Tierra Del Fuego</th>\n",
              "      <td>NaN</td>\n",
              "      <td>1781.0</td>\n",
              "      <td>1384.0</td>\n",
              "      <td>1329.0</td>\n",
              "    </tr>\n",
              "    <tr>\n",
              "      <th>Tucumán</th>\n",
              "      <td>1792.0</td>\n",
              "      <td>2614.0</td>\n",
              "      <td>2173.0</td>\n",
              "      <td>610.0</td>\n",
              "    </tr>\n",
              "  </tbody>\n",
              "</table>\n",
              "</div>"
            ],
            "text/plain": [
              "property_type                     PH  apartment   house    store\n",
              "fran_provincia                                                  \n",
              "Bs.As. G.B.A. Zona Norte      1865.0     3202.0  2581.0   4533.0\n",
              "Bs.As. G.B.A. Zona Oeste      2435.0     2457.0  2279.0  19856.0\n",
              "Bs.As. G.B.A. Zona Sur        3522.0     3283.0  3130.0  14680.0\n",
              "Buenos Aires Costa Atlántica  1177.0     1861.0  1323.0   1844.0\n",
              "Buenos Aires Interior         1459.0     3841.0  1451.0   1743.0\n",
              "Capital Federal               3269.0     3622.0  5822.0   4525.0\n",
              "Catamarca                        NaN     4340.0  1578.0      NaN\n",
              "Chaco                            NaN     1696.0   854.0   1221.0\n",
              "Chubut                           NaN     2011.0  4251.0   1610.0\n",
              "Corrientes                    1410.0     1982.0  1821.0   1896.0\n",
              "Córdoba                       3915.0     3090.0  1975.0   1982.0\n",
              "Entre Ríos                     475.0     1527.0  1904.0   1767.0\n",
              "Jujuy                            NaN     1212.0  3677.0      NaN\n",
              "La Pampa                         NaN     1845.0   952.0    617.0\n",
              "La Rioja                         NaN        NaN   394.0      NaN\n",
              "Mendoza                       1226.0     1841.0  3164.0   1301.0\n",
              "Misiones                       486.0     1331.0  2664.0     75.0\n",
              "Neuquén                       2562.0     2107.0  2265.0   2313.0\n",
              "Río Negro                     2198.0     2482.0  2997.0   2852.0\n",
              "Salta                            NaN     2548.0  3075.0    449.0\n",
              "San Juan                         NaN     2045.0   940.0      NaN\n",
              "San Luis                         NaN     2077.0  4337.0   1370.0\n",
              "Santa Cruz                       NaN      749.0   775.0    505.0\n",
              "Santa Fe                      1436.0     2565.0  1844.0   3719.0\n",
              "Santiago Del Estero              NaN      644.0  1040.0      NaN\n",
              "Tierra Del Fuego                 NaN     1781.0  1384.0   1329.0\n",
              "Tucumán                       1792.0     2614.0  2173.0    610.0"
            ]
          },
          "metadata": {
            "tags": []
          },
          "execution_count": 204
        }
      ]
    },
    {
      "cell_type": "markdown",
      "metadata": {
        "id": "9qQDFSaXat_-"
      },
      "source": [
        "Generamos una columna con el valor medio para cada fila del dataset"
      ]
    },
    {
      "cell_type": "code",
      "metadata": {
        "id": "ugCxJGBERIiT"
      },
      "source": [
        "for x in tabla_precios.index:\n",
        "  for z in tabla_precios.columns:\n",
        "    this_mask = data_edit['fran_provincia'].str.contains(x) & data_edit['property_type'].str.contains(z)\n",
        "    values_mask = tabla_precios.index.str.contains(x)\n",
        "    data_edit.loc[this_mask, 'fran_precio_estimado_final'] = (data_edit[this_mask]['surface_covered_in_m2'] * tabla_precios.loc[values_mask][z][0]).astype(float)\n"
      ],
      "execution_count": null,
      "outputs": []
    },
    {
      "cell_type": "code",
      "metadata": {
        "id": "K0Gk5jNgoGxo",
        "outputId": "7fea22ac-d00c-42f3-fe65-b37f6afc5bfb",
        "colab": {
          "base_uri": "https://localhost:8080/",
          "height": 34
        }
      },
      "source": [
        "data_edit['fran_precio_estimado_final'].isnull().sum()"
      ],
      "execution_count": null,
      "outputs": [
        {
          "output_type": "execute_result",
          "data": {
            "text/plain": [
              "10423"
            ]
          },
          "metadata": {
            "tags": []
          },
          "execution_count": 208
        }
      ]
    },
    {
      "cell_type": "code",
      "metadata": {
        "id": "Hbl9ZYeNlFqT",
        "outputId": "921ddccf-16fb-4ad5-8ca9-3ec144cf971c",
        "colab": {
          "base_uri": "https://localhost:8080/",
          "height": 917
        }
      },
      "source": [
        "tabla_final = data_edit.pivot_table('fran_precio_estimado_final', 'fran_provincia', columns='property_type')\n",
        "for x in tabla_final.columns:\n",
        "  tabla_final[x] = (tabla_final[x].apply(lambda x: '%.0f' % x)).astype(float)\n",
        "tabla_final.sort_values('apartment', ascending=False)"
      ],
      "execution_count": null,
      "outputs": [
        {
          "output_type": "execute_result",
          "data": {
            "text/html": [
              "<div>\n",
              "<style scoped>\n",
              "    .dataframe tbody tr th:only-of-type {\n",
              "        vertical-align: middle;\n",
              "    }\n",
              "\n",
              "    .dataframe tbody tr th {\n",
              "        vertical-align: top;\n",
              "    }\n",
              "\n",
              "    .dataframe thead th {\n",
              "        text-align: right;\n",
              "    }\n",
              "</style>\n",
              "<table border=\"1\" class=\"dataframe\">\n",
              "  <thead>\n",
              "    <tr style=\"text-align: right;\">\n",
              "      <th>property_type</th>\n",
              "      <th>PH</th>\n",
              "      <th>apartment</th>\n",
              "      <th>house</th>\n",
              "      <th>store</th>\n",
              "    </tr>\n",
              "    <tr>\n",
              "      <th>fran_provincia</th>\n",
              "      <th></th>\n",
              "      <th></th>\n",
              "      <th></th>\n",
              "      <th></th>\n",
              "    </tr>\n",
              "  </thead>\n",
              "  <tbody>\n",
              "    <tr>\n",
              "      <th>Catamarca</th>\n",
              "      <td>NaN</td>\n",
              "      <td>1353291.0</td>\n",
              "      <td>378304.0</td>\n",
              "      <td>NaN</td>\n",
              "    </tr>\n",
              "    <tr>\n",
              "      <th>Salta</th>\n",
              "      <td>NaN</td>\n",
              "      <td>412013.0</td>\n",
              "      <td>1389676.0</td>\n",
              "      <td>134134.0</td>\n",
              "    </tr>\n",
              "    <tr>\n",
              "      <th>Mendoza</th>\n",
              "      <td>505530.0</td>\n",
              "      <td>341302.0</td>\n",
              "      <td>1196799.0</td>\n",
              "      <td>396412.0</td>\n",
              "    </tr>\n",
              "    <tr>\n",
              "      <th>Buenos Aires Interior</th>\n",
              "      <td>123155.0</td>\n",
              "      <td>307476.0</td>\n",
              "      <td>347274.0</td>\n",
              "      <td>488106.0</td>\n",
              "    </tr>\n",
              "    <tr>\n",
              "      <th>Capital Federal</th>\n",
              "      <td>304987.0</td>\n",
              "      <td>289240.0</td>\n",
              "      <td>1539065.0</td>\n",
              "      <td>1201508.0</td>\n",
              "    </tr>\n",
              "    <tr>\n",
              "      <th>Córdoba</th>\n",
              "      <td>316258.0</td>\n",
              "      <td>250973.0</td>\n",
              "      <td>465977.0</td>\n",
              "      <td>866786.0</td>\n",
              "    </tr>\n",
              "    <tr>\n",
              "      <th>Bs.As. G.B.A. Zona Norte</th>\n",
              "      <td>162108.0</td>\n",
              "      <td>241738.0</td>\n",
              "      <td>648757.0</td>\n",
              "      <td>3213288.0</td>\n",
              "    </tr>\n",
              "    <tr>\n",
              "      <th>Bs.As. G.B.A. Zona Sur</th>\n",
              "      <td>314491.0</td>\n",
              "      <td>233495.0</td>\n",
              "      <td>703806.0</td>\n",
              "      <td>7866857.0</td>\n",
              "    </tr>\n",
              "    <tr>\n",
              "      <th>Río Negro</th>\n",
              "      <td>188113.0</td>\n",
              "      <td>219207.0</td>\n",
              "      <td>1143905.0</td>\n",
              "      <td>1261768.0</td>\n",
              "    </tr>\n",
              "    <tr>\n",
              "      <th>Tucumán</th>\n",
              "      <td>153761.0</td>\n",
              "      <td>191544.0</td>\n",
              "      <td>545717.0</td>\n",
              "      <td>177205.0</td>\n",
              "    </tr>\n",
              "    <tr>\n",
              "      <th>San Juan</th>\n",
              "      <td>NaN</td>\n",
              "      <td>191425.0</td>\n",
              "      <td>193911.0</td>\n",
              "      <td>NaN</td>\n",
              "    </tr>\n",
              "    <tr>\n",
              "      <th>San Luis</th>\n",
              "      <td>NaN</td>\n",
              "      <td>189366.0</td>\n",
              "      <td>711595.0</td>\n",
              "      <td>831465.0</td>\n",
              "    </tr>\n",
              "    <tr>\n",
              "      <th>Chubut</th>\n",
              "      <td>NaN</td>\n",
              "      <td>172454.0</td>\n",
              "      <td>701236.0</td>\n",
              "      <td>1725288.0</td>\n",
              "    </tr>\n",
              "    <tr>\n",
              "      <th>Santa Fe</th>\n",
              "      <td>128970.0</td>\n",
              "      <td>161588.0</td>\n",
              "      <td>567260.0</td>\n",
              "      <td>655535.0</td>\n",
              "    </tr>\n",
              "    <tr>\n",
              "      <th>Corrientes</th>\n",
              "      <td>120562.0</td>\n",
              "      <td>160511.0</td>\n",
              "      <td>375514.0</td>\n",
              "      <td>440702.0</td>\n",
              "    </tr>\n",
              "    <tr>\n",
              "      <th>Chaco</th>\n",
              "      <td>NaN</td>\n",
              "      <td>148323.0</td>\n",
              "      <td>168691.0</td>\n",
              "      <td>510378.0</td>\n",
              "    </tr>\n",
              "    <tr>\n",
              "      <th>Buenos Aires Costa Atlántica</th>\n",
              "      <td>114960.0</td>\n",
              "      <td>147274.0</td>\n",
              "      <td>311176.0</td>\n",
              "      <td>684094.0</td>\n",
              "    </tr>\n",
              "    <tr>\n",
              "      <th>Neuquén</th>\n",
              "      <td>191293.0</td>\n",
              "      <td>145773.0</td>\n",
              "      <td>728907.0</td>\n",
              "      <td>765089.0</td>\n",
              "    </tr>\n",
              "    <tr>\n",
              "      <th>Bs.As. G.B.A. Zona Oeste</th>\n",
              "      <td>224894.0</td>\n",
              "      <td>144078.0</td>\n",
              "      <td>448627.0</td>\n",
              "      <td>10423944.0</td>\n",
              "    </tr>\n",
              "    <tr>\n",
              "      <th>Tierra Del Fuego</th>\n",
              "      <td>NaN</td>\n",
              "      <td>140246.0</td>\n",
              "      <td>187532.0</td>\n",
              "      <td>529606.0</td>\n",
              "    </tr>\n",
              "    <tr>\n",
              "      <th>Jujuy</th>\n",
              "      <td>NaN</td>\n",
              "      <td>128925.0</td>\n",
              "      <td>1472147.0</td>\n",
              "      <td>NaN</td>\n",
              "    </tr>\n",
              "    <tr>\n",
              "      <th>La Pampa</th>\n",
              "      <td>NaN</td>\n",
              "      <td>118811.0</td>\n",
              "      <td>148886.0</td>\n",
              "      <td>201496.0</td>\n",
              "    </tr>\n",
              "    <tr>\n",
              "      <th>Misiones</th>\n",
              "      <td>59921.0</td>\n",
              "      <td>111041.0</td>\n",
              "      <td>822770.0</td>\n",
              "      <td>183375.0</td>\n",
              "    </tr>\n",
              "    <tr>\n",
              "      <th>Entre Ríos</th>\n",
              "      <td>49350.0</td>\n",
              "      <td>109216.0</td>\n",
              "      <td>270021.0</td>\n",
              "      <td>951971.0</td>\n",
              "    </tr>\n",
              "    <tr>\n",
              "      <th>Santa Cruz</th>\n",
              "      <td>NaN</td>\n",
              "      <td>89705.0</td>\n",
              "      <td>205814.0</td>\n",
              "      <td>101000.0</td>\n",
              "    </tr>\n",
              "    <tr>\n",
              "      <th>Formosa</th>\n",
              "      <td>NaN</td>\n",
              "      <td>63463.0</td>\n",
              "      <td>NaN</td>\n",
              "      <td>NaN</td>\n",
              "    </tr>\n",
              "    <tr>\n",
              "      <th>Santiago Del Estero</th>\n",
              "      <td>NaN</td>\n",
              "      <td>30268.0</td>\n",
              "      <td>205920.0</td>\n",
              "      <td>NaN</td>\n",
              "    </tr>\n",
              "    <tr>\n",
              "      <th>La Rioja</th>\n",
              "      <td>NaN</td>\n",
              "      <td>NaN</td>\n",
              "      <td>76830.0</td>\n",
              "      <td>NaN</td>\n",
              "    </tr>\n",
              "  </tbody>\n",
              "</table>\n",
              "</div>"
            ],
            "text/plain": [
              "property_type                       PH  apartment      house       store\n",
              "fran_provincia                                                          \n",
              "Catamarca                          NaN  1353291.0   378304.0         NaN\n",
              "Salta                              NaN   412013.0  1389676.0    134134.0\n",
              "Mendoza                       505530.0   341302.0  1196799.0    396412.0\n",
              "Buenos Aires Interior         123155.0   307476.0   347274.0    488106.0\n",
              "Capital Federal               304987.0   289240.0  1539065.0   1201508.0\n",
              "Córdoba                       316258.0   250973.0   465977.0    866786.0\n",
              "Bs.As. G.B.A. Zona Norte      162108.0   241738.0   648757.0   3213288.0\n",
              "Bs.As. G.B.A. Zona Sur        314491.0   233495.0   703806.0   7866857.0\n",
              "Río Negro                     188113.0   219207.0  1143905.0   1261768.0\n",
              "Tucumán                       153761.0   191544.0   545717.0    177205.0\n",
              "San Juan                           NaN   191425.0   193911.0         NaN\n",
              "San Luis                           NaN   189366.0   711595.0    831465.0\n",
              "Chubut                             NaN   172454.0   701236.0   1725288.0\n",
              "Santa Fe                      128970.0   161588.0   567260.0    655535.0\n",
              "Corrientes                    120562.0   160511.0   375514.0    440702.0\n",
              "Chaco                              NaN   148323.0   168691.0    510378.0\n",
              "Buenos Aires Costa Atlántica  114960.0   147274.0   311176.0    684094.0\n",
              "Neuquén                       191293.0   145773.0   728907.0    765089.0\n",
              "Bs.As. G.B.A. Zona Oeste      224894.0   144078.0   448627.0  10423944.0\n",
              "Tierra Del Fuego                   NaN   140246.0   187532.0    529606.0\n",
              "Jujuy                              NaN   128925.0  1472147.0         NaN\n",
              "La Pampa                           NaN   118811.0   148886.0    201496.0\n",
              "Misiones                       59921.0   111041.0   822770.0    183375.0\n",
              "Entre Ríos                     49350.0   109216.0   270021.0    951971.0\n",
              "Santa Cruz                         NaN    89705.0   205814.0    101000.0\n",
              "Formosa                            NaN    63463.0        NaN         NaN\n",
              "Santiago Del Estero                NaN    30268.0   205920.0         NaN\n",
              "La Rioja                           NaN        NaN    76830.0         NaN"
            ]
          },
          "metadata": {
            "tags": []
          },
          "execution_count": 211
        }
      ]
    },
    {
      "cell_type": "code",
      "metadata": {
        "id": "4Sv8a7ALrnQO",
        "outputId": "5e48ac84-832b-4a46-98d5-b50d62d6f047",
        "colab": {
          "base_uri": "https://localhost:8080/",
          "height": 337
        }
      },
      "source": [
        "fig = plt.figure(figsize = (20,5))\n",
        "ax = fig.gca()\n",
        "data_edit['fran_provincia'].hist(ax = ax)\n"
      ],
      "execution_count": null,
      "outputs": [
        {
          "output_type": "execute_result",
          "data": {
            "text/plain": [
              "<matplotlib.axes._subplots.AxesSubplot at 0x7f12bb49ac88>"
            ]
          },
          "metadata": {
            "tags": []
          },
          "execution_count": 224
        },
        {
          "output_type": "display_data",
          "data": {
            "image/png": "[encoded data removed]",
            "text/plain": [
              "<Figure size 1440x360 with 1 Axes>"
            ]
          },
          "metadata": {
            "tags": [],
            "needs_background": "light"
          }
        }
      ]
    }
  ]
}